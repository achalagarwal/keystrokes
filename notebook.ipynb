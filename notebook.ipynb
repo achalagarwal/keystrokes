{
 "cells": [
  {
   "cell_type": "code",
   "execution_count": 3,
   "metadata": {},
   "outputs": [],
   "source": [
    "from datetime import datetime\n",
    "from time import strptime\n",
    "from enum import Enum"
   ]
  },
  {
   "cell_type": "code",
   "execution_count": 4,
   "metadata": {},
   "outputs": [],
   "source": [
    "# read a file \n",
    "file1 = open(\"data/logkeys.log\",\"r\") "
   ]
  },
  {
   "cell_type": "code",
   "execution_count": 5,
   "metadata": {},
   "outputs": [],
   "source": [
    "raw_string = file1.read()"
   ]
  },
  {
   "cell_type": "code",
   "execution_count": 6,
   "metadata": {},
   "outputs": [],
   "source": [
    "raw_lines = raw_string.split('\\n')"
   ]
  },
  {
   "cell_type": "code",
   "execution_count": 7,
   "metadata": {},
   "outputs": [],
   "source": [
    "def process_raw_line(raw_line):\n",
    "    date_text = raw_line.split(\" > \")\n",
    "    \n",
    "    try:\n",
    "        # if date_text[0]\n",
    "        if (date_text[0].find(\"Logging stopped\")) > -1 or  (date_text[0].find(\"Logging started\")) > -1:\n",
    "            return None\n",
    "        if date_text[0] == '' and len(date_text) == 1:\n",
    "            return None\n",
    "        assert(len(date_text)==2)\n",
    "        date = date_text[0]\n",
    "        text = date_text[1]\n",
    "        return (strptime(date, \"%Y-%m-%d %H:%M:%S-0700\"), text)\n",
    "    except Exception as e:\n",
    "        print(date_text + \" has a parsing error: len != 2 \" + str(e))\n",
    "    # print(raw_line.split(\" > \"))\n",
    ""
   ]
  },
  {
   "cell_type": "code",
   "execution_count": 8,
   "metadata": {
    "tags": [
     "outputPrepend",
     "outputPrepend"
    ]
   },
   "outputs": [],
   "source": [
    "clean_lines = []\n",
    "for raw_line in raw_lines:\n",
    "    # print(raw_line)\n",
    "    line = process_raw_line(raw_line)\n",
    "    if line:\n",
    "        clean_lines.append(line)"
   ]
  },
  {
   "cell_type": "code",
   "execution_count": 9,
   "metadata": {},
   "outputs": [],
   "source": [
    "# the first 70 lines are from an incorrect keyboard layout\n",
    "clean_lines = clean_lines[70:]"
   ]
  },
  {
   "cell_type": "code",
   "execution_count": 10,
   "metadata": {},
   "outputs": [
    {
     "output_type": "execute_result",
     "data": {
      "text/plain": "'<Enter>which llk'"
     },
     "metadata": {},
     "execution_count": 10
    }
   ],
   "source": [
    "clean_lines[71][1]"
   ]
  },
  {
   "cell_type": "code",
   "execution_count": 11,
   "metadata": {},
   "outputs": [
    {
     "output_type": "error",
     "ename": "SyntaxError",
     "evalue": "invalid syntax (<ipython-input-11-27df08927e61>, line 1)",
     "traceback": [
      "\u001b[0;36m  File \u001b[0;32m\"<ipython-input-11-27df08927e61>\"\u001b[0;36m, line \u001b[0;32m1\u001b[0m\n\u001b[0;31m    'AltGr': SpecialCharacters.ALT,\u001b[0m\n\u001b[0m                                  ^\u001b[0m\n\u001b[0;31mSyntaxError\u001b[0m\u001b[0;31m:\u001b[0m invalid syntax\n"
     ]
    }
   ],
   "source": [
    "'AltGr': SpecialCharacters.ALT,\n",
    "        'BckSp': SpecialCharacters.BACKSPACE,\n",
    "        'CpsLk': SpecialCharacters.IGNORE,\n",
    "        'Del': SpecialCharacters.DELETE,\n",
    "        'Down': SpecialCharacters.ARROW,\n",
    "        'Enter': SpecialCharacters.ENTER,\n",
    "        'Esc': SpecialCharacters.ESC,\n",
    "        'F12': SpecialCharacters.FUNC,\n",
    "        'F4': SpecialCharacters.FUNC,\n",
    "        'Ins': SpecialCharacters.INS,\n",
    "        'KP0': SpecialCharacters.KEYPAD,\n",
    "        'KP1': SpecialCharacters.KEYPAD,\n",
    "        'KP2': SpecialCharacters.KEYPAD,\n",
    "        'KP3': SpecialCharacters.KEYPAD,\n",
    "        'KP4': SpecialCharacters.KEYPAD,\n",
    "        'KP5': SpecialCharacters.KEYPAD,\n",
    "        'KP6': SpecialCharacters.KEYPAD,\n",
    "        'KP7': SpecialCharacters.KEYPAD,\n",
    "        'KP8': SpecialCharacters.KEYPAD,\n",
    "        'KP9': SpecialCharacters.KEYPAD,\n",
    "        'KPEnt': SpecialCharacters.KEYPAD,\n",
    "        'LAlt': SpecialCharacters.ALT,\n",
    "        'RAlt': SpecialCharacters.ALT,\n",
    "        'LCtrl': SpecialCharacters.CTRL,\n",
    "        'LMeta': SpecialCharacters.OS,\n",
    "        'RMeta': SpecialCharacters.OS,\n",
    "        'LShft': SpecialCharacters.SHIFT,\n",
    "        'Left': SpecialCharacters.ARROW,\n",
    "        'Menu': SpecialCharacters.MENU,\n",
    "        'NumLk'\n",
    "        'PgUp': SpecialCharacters.PGUP,\n",
    "        'RCtrl': SpecialCharacters.CTRL,\n",
    "        'RShft': SpecialCharacters.SHIFT,\n",
    "        'Right': SpecialCharacters.ARROW,\n",
    "        'Tab': SpecialCharacters.TAB,\n",
    "        'Up': SpecialCharacters.ARROW,"
   ]
  },
  {
   "cell_type": "code",
   "execution_count": 56,
   "metadata": {},
   "outputs": [],
   "source": [
    "class SpecialCharacters(Enum):\n",
    "    BACKSPACE = 1\n",
    "    CTRL = 2\n",
    "    SHIFT = 3\n",
    "    OS = 4\n",
    "    ALT = 5\n",
    "    ARROW = 6\n",
    "    ENTER = 7\n",
    "    DELETE = 8\n",
    "    IGNORE = 9\n",
    "    REPEAT = 10\n",
    "    FUNC = 11\n",
    "    KEYPAD = 12\n",
    "    ESC = 13\n",
    "    INS = 14\n",
    "    MENU = 15\n",
    "    PGUP = 16\n",
    "    TAB = 17\n",
    "    META = 18"
   ]
  },
  {
   "cell_type": "markdown",
   "metadata": {},
   "source": [
    "clean_lines"
   ]
  },
  {
   "cell_type": "code",
   "execution_count": 13,
   "metadata": {},
   "outputs": [],
   "source": [
    "import re"
   ]
  },
  {
   "cell_type": "code",
   "execution_count": 14,
   "metadata": {},
   "outputs": [
    {
     "output_type": "execute_result",
     "data": {
      "text/plain": "(time.struct_time(tm_year=2020, tm_mon=3, tm_mday=25, tm_hour=23, tm_min=25, tm_sec=44, tm_wday=2, tm_yday=85, tm_isdst=-1),\n 'cc')"
     },
     "metadata": {},
     "execution_count": 14
    }
   ],
   "source": [
    "clean_lines[12]"
   ]
  },
  {
   "cell_type": "code",
   "execution_count": 15,
   "metadata": {
    "tags": [
     "outputPrepend",
     "outputPrepend"
    ]
   },
   "outputs": [
    {
     "output_type": "stream",
     "name": "stdout",
     "text": "['Enter', 'BckSp', 'LShft', 'BckSp', 'LShft', '#+12', 'LMeta', 'LMeta', '#+1', '#+1', 'LMeta', 'LCtrl', 'LShft', 'LMeta', '#+36', 'BckSp', 'BckSp', 'LCtrl', 'BckSp', 'BckSp', 'BckSp', 'BckSp', 'BckSp', 'BckSp', 'LShft', 'LShft', 'LShft', 'LShft', 'LShft', 'LCtrl', 'LMeta', 'LMeta', 'BckSp', 'BckSp', 'BckSp', 'LShft', 'LShft', 'LShft', '?<BckSp', 'Right', 'LShft', 'LShft', 'LShft', '#+8', 'LCtrl', 'LShft', 'vec<LCtrl', 'LShft', 'Left', 'LCtrl', '#+15', 'LCtrl', 'LMeta', 'LMeta', 'Left', 'LCtrl', '#+4', 'LShft', 'LShft', '#+24', 'LShft', '', 'LCtrl', 'LShft']\n['LCtrl', 'LCtrl', 'LCtrl', 'LCtrl', 'Right', 'LShft', 'LShft', '', 'Left', 'LShft', 'LCtrl', '#+1', 'LCtrl', '#+13', 'BckSp', 'BckSp', 'LShft', 'LCtrl', 'RShft', '<RShft', 'LCtrl', 'LShft', 'Down']\n['Enter', 'Up', 'BckSp', 'BckSp', 'BckSp', 'BckSp', 'BckSp', 'BckSp', 'LShft', 'LShft', 'LShft', 'LShft', 'BckSp', 'LShft', '', 'LCtrl', 'Right', 'Right', 'Left', 'LShft', 'LShft', 'LAlt', 'BckSp', 'BckSp', 'BckSp']\n['Enter', 'Down', 'Left', 'BckSp', 'BckSp', 'BckSp', 'LShft', 'LShft', '', 'LCtrl', 'Left', 'Left', 'Left', 'Right', 'BckSp', 'BckSp', 'BckSp', 'BckSp', 'BckSp', 'BckSp', 'Tab', 'BckSp', 'BckSp', 'BckSp', 'LCtrl', 'RShft', 'Right', 'BckSp', 'LCtrl', 'RShft', 'BckSp', 'BckSp', 'RShft', 'BckSp', '#+31', 'BckSp', 'BckSp', 'BckSp']\n['Enter', 'Left', 'Left', 'LCtrl', 'Left', 'Left', 'Left', 'Left', 'LShft', '', 'Left', 'LCtrl', 'Left', 'Left', 'Left', 'Left', 'LShft', 'BckSp', 'RShft', '<Right', 'Right', 'Right', 'Right', 'Right', 'RShft', 'Left', 'Left', 'Left', 'Right', 'LShft']\n['Enter', 'LShft', 'LCtrl', '#+6', 'Left', 'LShft', '', 'Left', 'LShft', 'LShft', '_', 'LCtrl', 'LCtrl', 'LShft', 'LCtrl', '#+3', 'LCtrl', 'LCtrl', 'LCtrl']\n['Enter', 'LMeta', 'LMeta', 'LMeta', 'LMeta', 'LMeta', 'LShft', '#+4', 'BckSp', 'Left', 'Left', 'BckSp', 'Down', 'BckSp', 'BckSp', 'LCtrl', '#+17', 'LShft', 'LShft', 'LShft', '', 'Left', 'LShft', 'LShft', '', 'LShft', 'LCtrl', 'RShft', 'LMeta', 'LMeta', '#+81', 'LMeta', '#+19', 'LShft', 'BckSp', '#+37', 'LShft', 'LShft', 'BckSp', 'BckSp', 'BckSp']\n['Enter', 'LMeta', 'LMeta', 'LMeta', 'LMeta', 'LMeta', 'LShft', '#+4', 'BckSp', 'Left', 'Left', 'BckSp', 'Down', 'BckSp', 'BckSp', 'LCtrl', '#+17', 'LShft', 'LShft', 'LShft', '', 'Left', 'LShft', 'LShft', '', 'LShft', 'LCtrl', 'RShft', 'LMeta', 'LMeta', '#+81', 'LMeta', '#+19', 'LShft', 'BckSp', '#+37', 'LShft', 'LShft', 'BckSp', 'BckSp', 'BckSp']\n['Enter', 'LShft', '', 'Left', 'LCtrl', 'Esc', 'RShft', 'LShft']\n['Enter', 'LCtrl', 'LCtrl', '#+11', 'LCtrl', '#+8', 'LCtrl', 'LShft', '#+1', 'LCtrl', 'LShft', 'BckSp', 'LShft', 'LShft', 'BckSp', 'BckSp', 'LShft', 'LShft', 'LShft', '#+5', 'LShft', 'LShft', 'BckSp', 'BckSp', 'LShft', 'LShft', '#+1', 'LShft', '', 'Down', 'Left', 'Down', 'Left', 'LCtrl', '#+41', 'LCtrl', '#+11', 'BckSp', 'LCtrl', 'Right', 'Right', 'Right', 'Right', 'Right', 'BckSp', 'BckSp', 'LShft', '<LShft', 'Down']\n"
    }
   ],
   "source": [
    "seen = set()\n",
    "for l in clean_lines:\n",
    "    specials = (re.findall(r'\\<(.*?)\\>', l[1]))\n",
    "    for special in specials:\n",
    "        try:\n",
    "            if special[0] != '#':\n",
    "                seen.add(special)\n",
    "        except:\n",
    "            print(specials)"
   ]
  },
  {
   "cell_type": "code",
   "execution_count": 16,
   "metadata": {},
   "outputs": [
    {
     "output_type": "execute_result",
     "data": {
      "text/plain": "{' .de;ta<BckSp',\n ' 0 would mean <BckSp',\n ' 0<LShft',\n ' <BckSp',\n ' <LCtrl',\n ' = and <RShft',\n ' b.best<Down',\n ' length<BckSp',\n ' self.<LShft',\n \"'<LCtrl\",\n '-<BckSp',\n '3 <LShft',\n '3 off<LShft',\n '<#+2',\n '<<<<BckSp',\n '<BckSp',\n '<LCtrl',\n '<LShft',\n '<RShft',\n '<Right',\n '?<BckSp',\n 'AltGr',\n 'BckSp',\n 'Camera<LShft',\n 'CpsLk',\n 'Del',\n 'Down',\n 'End',\n 'Enter',\n 'Esc',\n 'F1',\n 'F11',\n 'F12',\n 'F2',\n 'F3',\n 'F4',\n 'F5',\n 'F6',\n 'Home',\n 'Ins',\n 'KP+',\n 'KP.',\n 'KP0',\n 'KP1',\n 'KP2',\n 'KP3',\n 'KP4',\n 'KPEnt',\n 'LAlt',\n 'LCtrl',\n 'LMeta',\n 'LShft',\n 'Left',\n 'Menu',\n 'NumLk',\n 'PgDn',\n 'PgUp',\n 'RCtrl',\n 'RMeta',\n 'RShft',\n 'Right',\n 'Sizt<BckSp',\n 'Stron<BckSp',\n 'T',\n 'T,<LShft',\n 'T<BckSp',\n 'T<LCtrl',\n 'Tab',\n 'Up',\n 'Widget<LShft',\n '_',\n 'char<LShft',\n 'deep-melissa-repo<LShft',\n 'int.<LShft',\n 'int<LShft',\n 'iny<BckSp',\n 'logdir<LShft',\n 'nu,<LShft',\n 'num<LShft',\n 'p<BckSp',\n 'period<LShft',\n 'spave<LShft',\n 'ty<RShft',\n 'type<BckSp',\n 'type<LShft',\n 'typename <LShft',\n 'typename quad<LShft',\n 'typename type<LShft',\n 'vec<LCtrl',\n 'yup<BckSp'}"
     },
     "metadata": {},
     "execution_count": 16
    }
   ],
   "source": [
    "seen"
   ]
  },
  {
   "cell_type": "code",
   "execution_count": 17,
   "metadata": {},
   "outputs": [],
   "source": [
    "def ensure_length(string, length, source):\n",
    "    remaining = length - len(string)\n",
    "    if remaining > 0:\n",
    "        return string + source.get(remaining)\n",
    "    else:\n",
    "        return string"
   ]
  },
  {
   "cell_type": "code",
   "execution_count": 49,
   "metadata": {},
   "outputs": [],
   "source": [
    "def streamify(source):\n",
    "    string = source.get(10)\n",
    "    processed = 0\n",
    "    i = -1\n",
    "    symbol = None\n",
    "    last_returned = None\n",
    "    while(1):\n",
    "        # symbols detected previously are stored in symbol\n",
    "        if symbol:\n",
    "            last_returned = symbol\n",
    "            yield symbol\n",
    "            symbol = None\n",
    "            continue\n",
    "        \n",
    "        i += 1\n",
    "        \n",
    "        try:\n",
    "            char = string[i]\n",
    "        except:\n",
    "            processed += len(string)\n",
    "            i = 0\n",
    "            string = source.get(10)\n",
    "            char = string[i]\n",
    "\n",
    "        if char == '<':\n",
    "            start = i\n",
    "            end = None\n",
    "            subsymstr = \"\"\n",
    "            # print(\"char < detected\")\n",
    "            string = ensure_length(string, 10+start, source)\n",
    "\n",
    "            # lookup next 10 characters:\n",
    "            \n",
    "            # hook to check for <#+k> entries that denotes repeat the previous entry k times\n",
    "            # flag = True\n",
    "            if string[start+1:start+3] == '#+':\n",
    "                # print(\"#+ detected\")\n",
    "                end_bracket_at = string[start+3:].find('>')\n",
    "                if end_bracket_at is not -1:\n",
    "                    try:\n",
    "                        repeat_times = int(string[start+3:start+3+end_bracket_at])\n",
    "                        # print(\"This needs to be repeated: \", repeat_times)\n",
    "                        # now we repeat the previously returned string that many times\n",
    "                        while repeat_times > 0:\n",
    "                            repeat_times -= 1\n",
    "                            yield last_returned\n",
    "\n",
    "                        end = start+3+end_bracket_at\n",
    "                        i = end\n",
    "                        continue\n",
    "                    except:\n",
    "                        # not a symbol denoting repeat entries\n",
    "                        pass\n",
    "            # print(\"starting symbol detection\")\n",
    "            # # this flag is false if the special symbol was a repeat k times symbol\n",
    "            # if flag:\n",
    "            for j,char in enumerate(string[start+1:]):\n",
    "                if char == '<':\n",
    "                    \n",
    "                    # this means that we have consumed till end, \n",
    "                    # here as end = start, we have consumed till start\n",
    "                    # which means that we revert the search\n",
    "                    end = start\n",
    "                    # flag = True\n",
    "                    break\n",
    "\n",
    "                elif char =='>':\n",
    "\n",
    "                    # we have detected a less than and a greater than\n",
    "                    try:\n",
    "                        symbol = enumize(subsymstr)\n",
    "                        # there were j characters in subsymstr\n",
    "                        end = j+start+1\n",
    "                    except:\n",
    "                        # symbol not found error\n",
    "                        # print(\"symbol not found error\")\n",
    "                        end = start\n",
    "\n",
    "                    # anyway we break because a greater than will never be there in a special enum\n",
    "                    # flag = True\n",
    "                    break\n",
    "\n",
    "                elif j == 9:\n",
    "                    # flag = True\n",
    "                    end = start\n",
    "                    break\n",
    "\n",
    "                else:\n",
    "                    subsymstr += char\n",
    "            # set current index to end\n",
    "            i = end\n",
    "            if symbol:\n",
    "                # the symbol will be returned on top\n",
    "                continue\n",
    "            # otherwise the current char will be returned\n",
    "            last_returned = string[i]\n",
    "            # print(\"b\",end, start, i)\n",
    "            yield string[i]\n",
    "            # after every yield we need to restart\n",
    "            continue\n",
    "        # if not <\n",
    "        # print(\"l\",i)\n",
    "        last_returned = string[i]\n",
    "        yield string[i]\n",
    "         "
   ]
  },
  {
   "cell_type": "code",
   "execution_count": 50,
   "metadata": {},
   "outputs": [],
   "source": [
    "# create a helper function that given a source streamifies it?"
   ]
  },
  {
   "cell_type": "code",
   "execution_count": 64,
   "metadata": {},
   "outputs": [],
   "source": [
    "class Source:\n",
    "    def __init__(self, strings, join_with=\"<Split>\"):\n",
    "        self.string = join_with.join(strings)\n",
    "        self.index = 0\n",
    "    def get(self,count):\n",
    "        slice = self.string[self.index:self.index+count]\n",
    "        self.index += count\n",
    "        return slice\n",
    "    def streamify(self):\n",
    "        return streamify(self)"
   ]
  },
  {
   "cell_type": "code",
   "execution_count": null,
   "metadata": {},
   "outputs": [],
   "source": []
  },
  {
   "cell_type": "code",
   "execution_count": 60,
   "metadata": {},
   "outputs": [],
   "source": [
    "source = Source(lines, join_with='<Split>')"
   ]
  },
  {
   "cell_type": "code",
   "execution_count": 65,
   "metadata": {},
   "outputs": [],
   "source": [
    "dummy_source = Source(['<LAlt>','<#+3>'], join_with='<Split>')"
   ]
  },
  {
   "cell_type": "code",
   "execution_count": 66,
   "metadata": {},
   "outputs": [],
   "source": [
    "dg = dummy_source.streamify()"
   ]
  },
  {
   "cell_type": "code",
   "execution_count": null,
   "metadata": {},
   "outputs": [],
   "source": []
  },
  {
   "cell_type": "code",
   "execution_count": 91,
   "metadata": {},
   "outputs": [],
   "source": [
    "lines = list(map(lambda x: x[1], clean_lines))"
   ]
  },
  {
   "cell_type": "code",
   "execution_count": 110,
   "metadata": {},
   "outputs": [],
   "source": [
    "lines = list(map(lambda x: x[1], clean_lines))\n",
    "source = Source(lines, join_with='<Split>')\n",
    "stream = source.streamify()"
   ]
  },
  {
   "cell_type": "code",
   "execution_count": 53,
   "metadata": {},
   "outputs": [],
   "source": [
    "generator = streamify(source)"
   ]
  },
  {
   "cell_type": "code",
   "execution_count": 62,
   "metadata": {},
   "outputs": [],
   "source": [
    "dummy_generator = streamify(dummy_source)"
   ]
  },
  {
   "cell_type": "code",
   "execution_count": 67,
   "metadata": {},
   "outputs": [
    {
     "output_type": "stream",
     "name": "stdout",
     "text": "SpecialCharacters.ALT\nSpecialCharacters.META\nSpecialCharacters.META\nSpecialCharacters.META\nSpecialCharacters.META\n"
    },
    {
     "output_type": "error",
     "ename": "IndexError",
     "evalue": "string index out of range",
     "traceback": [
      "\u001b[0;31m---------------------------------------------------------------------------\u001b[0m",
      "\u001b[0;31mIndexError\u001b[0m                                Traceback (most recent call last)",
      "\u001b[0;32m<ipython-input-49-54072fb14b10>\u001b[0m in \u001b[0;36mstreamify\u001b[0;34m(source)\u001b[0m\n\u001b[1;32m     17\u001b[0m         \u001b[0;32mtry\u001b[0m\u001b[0;34m:\u001b[0m\u001b[0;34m\u001b[0m\u001b[0;34m\u001b[0m\u001b[0m\n\u001b[0;32m---> 18\u001b[0;31m             \u001b[0mchar\u001b[0m \u001b[0;34m=\u001b[0m \u001b[0mstring\u001b[0m\u001b[0;34m[\u001b[0m\u001b[0mi\u001b[0m\u001b[0;34m]\u001b[0m\u001b[0;34m\u001b[0m\u001b[0;34m\u001b[0m\u001b[0m\n\u001b[0m\u001b[1;32m     19\u001b[0m         \u001b[0;32mexcept\u001b[0m\u001b[0;34m:\u001b[0m\u001b[0;34m\u001b[0m\u001b[0;34m\u001b[0m\u001b[0m\n",
      "\u001b[0;31mIndexError\u001b[0m: string index out of range",
      "\nDuring handling of the above exception, another exception occurred:\n",
      "\u001b[0;31mIndexError\u001b[0m                                Traceback (most recent call last)",
      "\u001b[0;32m<ipython-input-67-769376b96fe7>\u001b[0m in \u001b[0;36m<module>\u001b[0;34m\u001b[0m\n\u001b[1;32m      1\u001b[0m \u001b[0;32mwhile\u001b[0m \u001b[0;36m1\u001b[0m\u001b[0;34m:\u001b[0m\u001b[0;34m\u001b[0m\u001b[0;34m\u001b[0m\u001b[0m\n\u001b[0;32m----> 2\u001b[0;31m     \u001b[0mprint\u001b[0m\u001b[0;34m(\u001b[0m\u001b[0mnext\u001b[0m\u001b[0;34m(\u001b[0m\u001b[0mdg\u001b[0m\u001b[0;34m)\u001b[0m\u001b[0;34m)\u001b[0m\u001b[0;34m\u001b[0m\u001b[0;34m\u001b[0m\u001b[0m\n\u001b[0m",
      "\u001b[0;32m<ipython-input-49-54072fb14b10>\u001b[0m in \u001b[0;36mstreamify\u001b[0;34m(source)\u001b[0m\n\u001b[1;32m     21\u001b[0m             \u001b[0mi\u001b[0m \u001b[0;34m=\u001b[0m \u001b[0;36m0\u001b[0m\u001b[0;34m\u001b[0m\u001b[0;34m\u001b[0m\u001b[0m\n\u001b[1;32m     22\u001b[0m             \u001b[0mstring\u001b[0m \u001b[0;34m=\u001b[0m \u001b[0msource\u001b[0m\u001b[0;34m.\u001b[0m\u001b[0mget\u001b[0m\u001b[0;34m(\u001b[0m\u001b[0;36m10\u001b[0m\u001b[0;34m)\u001b[0m\u001b[0;34m\u001b[0m\u001b[0;34m\u001b[0m\u001b[0m\n\u001b[0;32m---> 23\u001b[0;31m             \u001b[0mchar\u001b[0m \u001b[0;34m=\u001b[0m \u001b[0mstring\u001b[0m\u001b[0;34m[\u001b[0m\u001b[0mi\u001b[0m\u001b[0;34m]\u001b[0m\u001b[0;34m\u001b[0m\u001b[0;34m\u001b[0m\u001b[0m\n\u001b[0m\u001b[1;32m     24\u001b[0m \u001b[0;34m\u001b[0m\u001b[0m\n\u001b[1;32m     25\u001b[0m         \u001b[0;32mif\u001b[0m \u001b[0mchar\u001b[0m \u001b[0;34m==\u001b[0m \u001b[0;34m'<'\u001b[0m\u001b[0;34m:\u001b[0m\u001b[0;34m\u001b[0m\u001b[0;34m\u001b[0m\u001b[0m\n",
      "\u001b[0;31mIndexError\u001b[0m: string index out of range"
     ]
    }
   ],
   "source": [
    "while 1:\n",
    "    print(next(dg))"
   ]
  },
  {
   "cell_type": "code",
   "execution_count": 54,
   "metadata": {
    "tags": [
     "outputPrepend",
     "outputPrepend",
     "outputPrepend",
     "outputPrepend",
     "outputPrepend",
     "outputPrepend",
     "outputPrepend",
     "outputPrepend",
     "outputPrepend",
     "outputPrepend",
     "outputPrepend",
     "outputPrepend",
     "outputPrepend",
     "outputPrepend",
     "outputPrepend",
     "outputPrepend",
     "outputPrepend",
     "outputPrepend",
     "outputPrepend",
     "outputPrepend",
     "outputPrepend",
     "outputPrepend",
     "outputPrepend",
     "outputPrepend",
     "outputPrepend",
     "outputPrepend",
     "outputPrepend",
     "outputPrepend",
     "outputPrepend",
     "outputPrepend",
     "outputPrepend",
     "outputPrepend",
     "outputPrepend",
     "outputPrepend",
     "outputPrepend",
     "outputPrepend",
     "outputPrepend",
     "outputPrepend",
     "outputPrepend",
     "outputPrepend",
     "outputPrepend",
     "outputPrepend",
     "outputPrepend",
     "outputPrepend",
     "outputPrepend",
     "outputPrepend",
     "outputPrepend",
     "outputPrepend",
     "outputPrepend",
     "outputPrepend",
     "outputPrepend",
     "outputPrepend",
     "outputPrepend",
     "outputPrepend",
     "outputPrepend",
     "outputPrepend"
    ]
   },
   "outputs": [
    {
     "output_type": "stream",
     "name": "stdout",
     "text": "ialCharacters.CTRL\na\nSpecialCharacters.BACKSPACE\nSpecialCharacters.SHIFT\n@\nt\nh\ne\n\n\nSpecialCharacters.ENTER\ni\ns\n \nSpecialCharacters.BACKSPACE\nSpecialCharacters.BACKSPACE\nSpecialCharacters.BACKSPACE\nd\ni\nd\n \nt\nh\ne\n \nSpecialCharacters.BACKSPACE\nSpecialCharacters.BACKSPACE\nSpecialCharacters.BACKSPACE\nSpecialCharacters.BACKSPACE\ny\no\nu\n \nt\nr\ny\n \nt\nh\ne\nSpecialCharacters.BACKSPACE\nSpecialCharacters.BACKSPACE\nSpecialCharacters.BACKSPACE\nSpecialCharacters.BACKSPACE\nSpecialCharacters.BACKSPACE\nSpecialCharacters.BACKSPACE\nSpecialCharacters.BACKSPACE\nSpecialCharacters.BACKSPACE\nSpecialCharacters.BACKSPACE\nSpecialCharacters.BACKSPACE\nSpecialCharacters.BACKSPACE\nSpecialCharacters.BACKSPACE\nSpecialCharacters.BACKSPACE\nSpecialCharacters.BACKSPACE\nSpecialCharacters.BACKSPACE\nSpecialCharacters.BACKSPACE\nSpecialCharacters.BACKSPACE\nSpecialCharacters.BACKSPACE\nSpecialCharacters.BACKSPACE\nSpecialCharacters.BACKSPACE\nSpecialCharacters.BACKSPACE\nSpecialCharacters.BACKSPACE\nSpecialCharacters.BACKSPACE\nSpecialCharacters.BACKSPACE\nl\ne\nt\ns\n \ng\nSpecialCharacters.BACKSPACE\nt\nr\ny\n \nt\nh\ne\n \nn\ne\nw\n \nb\nu\nc\nk\ne\nt\n \nl\ne\na\nr\ne\nn\nSpecialCharacters.BACKSPACE\nSpecialCharacters.BACKSPACE\nn\ne\nr\nSpecialCharacters.SHIFT\n!\nSpecialCharacters.CTRL\nSpecialCharacters.ARROW\nSpecialCharacters.ARROW\ni\nz\ne\nd\n\n\nSpecialCharacters.ENTER\nSpecialCharacters.SHIFT\nU\nSpecialCharacters.BACKSPACE\nSpecialCharacters.BACKSPACE\nSpecialCharacters.SHIFT\nI\nt\n \nc\no\nu\nl\nd\n \na\nl\ns\no\n \nb\ne\n \nb\ne\nc\na\nu\ns\ne\n \no\nf\n \ne\np\no\nc\nh\ns\nSpecialCharacters.CTRL\nSpecialCharacters.ARROW\nm\nu\nl\nt\ni\np\nl\ne\n \nSpecialCharacters.CTRL\nSpecialCharacters.ARROW\nSpecialCharacters.ARROW\nSpecialCharacters.ARROW\nSpecialCharacters.ARROW\nSpecialCharacters.ARROW\nSpecialCharacters.ARROW\nSpecialCharacters.ARROW\nSpecialCharacters.ARROW\nSpecialCharacters.ARROW\nSpecialCharacters.ARROW\nSpecialCharacters.ARROW\nSpecialCharacters.ARROW\nSpecialCharacters.ARROW\nSpecialCharacters.ARROW\nSpecialCharacters.ARROW\nSpecialCharacters.ARROW\nSpecialCharacters.ARROW\nSpecialCharacters.ARROW\nSpecialCharacters.ARROW\nSpecialCharacters.ARROW\nSpecialCharacters.ARROW\nSpecialCharacters.ARROW\nSpecialCharacters.ARROW\nSpecialCharacters.ARROW\nSpecialCharacters.ARROW\nSpecialCharacters.ARROW\nSpecialCharacters.ARROW\nSpecialCharacters.ARROW\nSpecialCharacters.ARROW\nSpecialCharacters.ARROW\nSpecialCharacters.ARROW\nSpecialCharacters.ARROW\nSpecialCharacters.ARROW\nSpecialCharacters.ARROW\nSpecialCharacters.ARROW\nSpecialCharacters.SHIFT\nT\nh\ne\n \ng\no\no\ng\n \nr\nSpecialCharacters.BACKSPACE\nSpecialCharacters.BACKSPACE\nSpecialCharacters.BACKSPACE\nd\n \nr\ne\ns\nu\nl\nt\ns\n \nb\ne\nf\ng\nSpecialCharacters.BACKSPACE\no\nr\ne\n \nc\no\nu\nl\nd\nSpecialCharacters.BACKSPACE\nd\n \na\nl\nSpecialCharacters.SHIFT\nSpecialCharacters.ARROW\nSpecialCharacters.ARROW\nSpecialCharacters.ARROW\nSpecialCharacters.ARROW\nSpecialCharacters.ARROW\nSpecialCharacters.ARROW\nSpecialCharacters.ARROW\nSpecialCharacters.ARROW\nSpecialCharacters.ARROW\nSpecialCharacters.ARROW\nSpecialCharacters.ARROW\nSpecialCharacters.ARROW\nSpecialCharacters.ARROW\nSpecialCharacters.ARROW\nSpecialCharacters.ARROW\nSpecialCharacters.ARROW\nSpecialCharacters.BACKSPACE\nSpecialCharacters.BACKSPACE\nSpecialCharacters.BACKSPACE\nSpecialCharacters.BACKSPACE\nSpecialCharacters.CTRL\nSpecialCharacters.ARROW\nSpecialCharacters.ARROW\nSpecialCharacters.ARROW\nSpecialCharacters.ARROW\nSpecialCharacters.ARROW\nSpecialCharacters.BACKSPACE\nSpecialCharacters.BACKSPACE\nSpecialCharacters.SHIFT\nSpecialCharacters.SHIFT\nSpecialCharacters.SHIFT\nSpecialCharacters.SHIFT\nSpecialCharacters.SHIFT\nSpecialCharacters.SHIFT\nh\na\nv\ne\n \nb\ne\ne\nn\n \nt\nh\ne\nr\nSpecialCharacters.BACKSPACE\n \nr\ne\ns\nu\nl\nt\ns\nSpecialCharacters.SHIFT\nSpecialCharacters.ARROW\nSpecialCharacters.ARROW\nSpecialCharacters.ARROW\nSpecialCharacters.ARROW\nSpecialCharacters.ARROW\nSpecialCharacters.ARROW\nSpecialCharacters.ARROW\nSpecialCharacters.ARROW\nSpecialCharacters.ARROW\nSpecialCharacters.ARROW\nSpecialCharacters.ARROW\nSpecialCharacters.ARROW\nSpecialCharacters.ARROW\nSpecialCharacters.ARROW\nSpecialCharacters.ARROW\nSpecialCharacters.ARROW\nSpecialCharacters.ARROW\nSpecialCharacters.ARROW\nSpecialCharacters.ARROW\nSpecialCharacters.ARROW\nSpecialCharacters.ARROW\nSpecialCharacters.BACKSPACE\nSpecialCharacters.BACKSPACE\nv\nt\nSpecialCharacters.BACKSPACE\nr\nt\ni\nc\ne\ns\nSpecialCharacters.ARROW\nSpecialCharacters.ARROW\nSpecialCharacters.ARROW\nSpecialCharacters.ARROW\nSpecialCharacters.ARROW\nSpecialCharacters.ARROW\no\n\n\nSpecialCharacters.ENTER\ni\nt\n \ni\ns\n \nc\ny\nc\nl\ni\nc\n \nl\ne\na\nr\nn\ni\nn\ng\n \nr\na\nt\ne\n \nw\ni\nt\nh\n \nSpecialCharacters.BACKSPACE\nSpecialCharacters.BACKSPACE\nSpecialCharacters.BACKSPACE\nSpecialCharacters.BACKSPACE\nSpecialCharacters.BACKSPACE\nSpecialCharacters.BACKSPACE\nSpecialCharacters.BACKSPACE\nSpecialCharacters.BACKSPACE\nSpecialCharacters.BACKSPACE\nSpecialCharacters.BACKSPACE\nSpecialCharacters.CTRL\nSpecialCharacters.ARROW\nSpecialCharacters.ARROW\nSpecialCharacters.ARROW\nSpecialCharacters.ARROW\na\nn\n \nu\nn\nb\ni\na\ns\ne\nd\n \nSpecialCharacters.CTRL\nSpecialCharacters.ARROW\nSpecialCharacters.ARROW\nSpecialCharacters.ARROW\nSpecialCharacters.CTRL\nSpecialCharacters.ARROW\nSpecialCharacters.BACKSPACE\nSpecialCharacters.BACKSPACE\n\n\nSpecialCharacters.ENTER\nh\no\nw\ne\nv\nSpecialCharacters.BACKSPACE\nSpecialCharacters.BACKSPACE\nSpecialCharacters.BACKSPACE\nSpecialCharacters.BACKSPACE\nSpecialCharacters.BACKSPACE\nSpecialCharacters.BACKSPACE\nSpecialCharacters.BACKSPACE\nSpecialCharacters.BACKSPACE\nSpecialCharacters.BACKSPACE\nSpecialCharacters.BACKSPACE\nSpecialCharacters.BACKSPACE\nSpecialCharacters.BACKSPACE\nSpecialCharacters.BACKSPACE\nSpecialCharacters.BACKSPACE\nSpecialCharacters.BACKSPACE\nSpecialCharacters.BACKSPACE\nSpecialCharacters.BACKSPACE\nSpecialCharacters.BACKSPACE\nSpecialCharacters.BACKSPACE\nb\nu\nt\n \nw\nt\nSpecialCharacters.BACKSPACE\ni\nt\nh\n \nm\no\nr\ne\n \np\nq\na\nSpecialCharacters.BACKSPACE\nSpecialCharacters.BACKSPACE\na\nr\na\nm\ne\nt\ne\nr\ns\n,\n \nt\nh\ne\n \nn\nm\nSpecialCharacters.BACKSPACE\nu\nm\nb\ne\nr\n \nf\no\n \ne\nSpecialCharacters.BACKSPACE\nSpecialCharacters.BACKSPACE\nSpecialCharacters.BACKSPACE\nSpecialCharacters.BACKSPACE\no\nf\n \ne\np\no\nc\nh\ns\n \nw\ni\nl\nl\n \nd\ne\nc\ne\nr\nSpecialCharacters.BACKSPACE\nSpecialCharacters.BACKSPACE\nr\ne\na\ns\ne\nSpecialCharacters.SHIFT\n?\nSpecialCharacters.BACKSPACE\nw\nSpecialCharacters.BACKSPACE\n\n\nSpecialCharacters.ENTER\nt\nh\na\nt\n \nc\no\nu\nl\nd\n \nb\ne\n \na\n \nf\na\nc\nt\no\nr\n\n\nSpecialCharacters.ENTER\nw\nh\na\nt\nSpecialCharacters.BACKSPACE\nSpecialCharacters.BACKSPACE\nSpecialCharacters.BACKSPACE\nSpecialCharacters.BACKSPACE\nSpecialCharacters.BACKSPACE\nSpecialCharacters.BACKSPACE\nSpecialCharacters.BACKSPACE\nSpecialCharacters.BACKSPACE\nSpecialCharacters.BACKSPACE\nSpecialCharacters.BACKSPACE\nSpecialCharacters.BACKSPACE\nSpecialCharacters.BACKSPACE\nSpecialCharacters.BACKSPACE\nSpecialCharacters.BACKSPACE\nSpecialCharacters.BACKSPACE\nh\no\nw\n \nm\na\nn\ny\n \ne\np\no\nc\nh\ns\n \na\nr\ne\n \nw\ne\n \nf\no\ni\nSpecialCharacters.BACKSPACE\nSpecialCharacters.BACKSPACE\nSpecialCharacters.BACKSPACE\nd\no\ni\nn\ng\n \nr\ni\ng\nh\nt\n \nn\nw\nSpecialCharacters.BACKSPACE\no\nw\nSpecialCharacters.SHIFT\n?\n\n\nSpecialCharacters.ENTER\no\nh\n \nSpecialCharacters.SHIFT\nI\n \nt\nSpecialCharacters.BACKSPACE\nSpecialCharacters.BACKSPACE\nSpecialCharacters.BACKSPACE\nSpecialCharacters.BACKSPACE\nSpecialCharacters.BACKSPACE\nSpecialCharacters.BACKSPACE\nSpecialCharacters.BACKSPACE\ne\nSpecialCharacters.BACKSPACE\nSpecialCharacters.BACKSPACE\nSpecialCharacters.BACKSPACE\nSpecialCharacters.BACKSPACE\nSpecialCharacters.BACKSPACE\nSpecialCharacters.BACKSPACE\nSpecialCharacters.BACKSPACE\nSpecialCharacters.BACKSPACE\nSpecialCharacters.BACKSPACE\nSpecialCharacters.BACKSPACE\nSpecialCharacters.BACKSPACE\nSpecialCharacters.BACKSPACE\nSpecialCharacters.BACKSPACE\nSpecialCharacters.BACKSPACE\nSpecialCharacters.BACKSPACE\nSpecialCharacters.BACKSPACE\nSpecialCharacters.BACKSPACE\nSpecialCharacters.BACKSPACE\nSpecialCharacters.BACKSPACE\nSpecialCharacters.BACKSPACE\nSpecialCharacters.BACKSPACE\nSpecialCharacters.BACKSPACE\nSpecialCharacters.BACKSPACE\nSpecialCharacters.BACKSPACE\nSpecialCharacters.BACKSPACE\nSpecialCharacters.BACKSPACE\nSpecialCharacters.BACKSPACE\nSpecialCharacters.BACKSPACE\nSpecialCharacters.BACKSPACE\nSpecialCharacters.BACKSPACE\nSpecialCharacters.BACKSPACE\nSpecialCharacters.BACKSPACE\nSpecialCharacters.BACKSPACE\nSpecialCharacters.BACKSPACE\nSpecialCharacters.BACKSPACE\nSpecialCharacters.BACKSPACE\nSpecialCharacters.BACKSPACE\nSpecialCharacters.BACKSPACE\nSpecialCharacters.BACKSPACE\nSpecialCharacters.BACKSPACE\nSpecialCharacters.BACKSPACE\nSpecialCharacters.BACKSPACE\nSpecialCharacters.BACKSPACE\nSpecialCharacters.BACKSPACE\nSpecialCharacters.BACKSPACE\nSpecialCharacters.BACKSPACE\nSpecialCharacters.BACKSPACE\nSpecialCharacters.BACKSPACE\nSpecialCharacters.BACKSPACE\nSpecialCharacters.BACKSPACE\nSpecialCharacters.BACKSPACE\nSpecialCharacters.BACKSPACE\nSpecialCharacters.BACKSPACE\nSpecialCharacters.BACKSPACE\nSpecialCharacters.BACKSPACE\nSpecialCharacters.BACKSPACE\nSpecialCharacters.BACKSPACE\nSpecialCharacters.BACKSPACE\nSpecialCharacters.BACKSPACE\nSpecialCharacters.BACKSPACE\nSpecialCharacters.BACKSPACE\nSpecialCharacters.BACKSPACE\nSpecialCharacters.BACKSPACE\nSpecialCharacters.BACKSPACE\nSpecialCharacters.BACKSPACE\nSpecialCharacters.BACKSPACE\nSpecialCharacters.BACKSPACE\nSpecialCharacters.BACKSPACE\nSpecialCharacters.BACKSPACE\nSpecialCharacters.BACKSPACE\nSpecialCharacters.BACKSPACE\nSpecialCharacters.BACKSPACE\nSpecialCharacters.BACKSPACE\nSpecialCharacters.BACKSPACE\nSpecialCharacters.BACKSPACE\nSpecialCharacters.BACKSPACE\nSpecialCharacters.BACKSPACE\nSpecialCharacters.BACKSPACE\nSpecialCharacters.BACKSPACE\nSpecialCharacters.BACKSPACE\nSpecialCharacters.BACKSPACE\nSpecialCharacters.BACKSPACE\nSpecialCharacters.BACKSPACE\nSpecialCharacters.BACKSPACE\nSpecialCharacters.BACKSPACE\nSpecialCharacters.BACKSPACE\nSpecialCharacters.BACKSPACE\nSpecialCharacters.BACKSPACE\nSpecialCharacters.BACKSPACE\nSpecialCharacters.BACKSPACE\nSpecialCharacters.BACKSPACE\nSpecialCharacters.BACKSPACE\nSpecialCharacters.BACKSPACE\nSpecialCharacters.BACKSPACE\nSpecialCharacters.BACKSPACE\nSpecialCharacters.BACKSPACE\nSpecialCharacters.BACKSPACE\nSpecialCharacters.BACKSPACE\nSpecialCharacters.BACKSPACE\nSpecialCharacters.BACKSPACE\nSpecialCharacters.BACKSPACE\nSpecialCharacters.BACKSPACE\nSpecialCharacters.BACKSPACE\nSpecialCharacters.BACKSPACE\nSpecialCharacters.BACKSPACE\nSpecialCharacters.BACKSPACE\nSpecialCharacters.BACKSPACE\nSpecialCharacters.BACKSPACE\nSpecialCharacters.BACKSPACE\nSpecialCharacters.BACKSPACE\nSpecialCharacters.BACKSPACE\nSpecialCharacters.BACKSPACE\nSpecialCharacters.BACKSPACE\nSpecialCharacters.BACKSPACE\nSpecialCharacters.BACKSPACE\nSpecialCharacters.BACKSPACE\nSpecialCharacters.BACKSPACE\nSpecialCharacters.BACKSPACE\nSpecialCharacters.BACKSPACE\nSpecialCharacters.BACKSPACE\nSpecialCharacters.BACKSPACE\nSpecialCharacters.BACKSPACE\nSpecialCharacters.BACKSPACE\nSpecialCharacters.BACKSPACE\nSpecialCharacters.BACKSPACE\nSpecialCharacters.BACKSPACE\nSpecialCharacters.BACKSPACE\nSpecialCharacters.BACKSPACE\nSpecialCharacters.BACKSPACE\nSpecialCharacters.BACKSPACE\nSpecialCharacters.BACKSPACE\nSpecialCharacters.BACKSPACE\nSpecialCharacters.BACKSPACE\nSpecialCharacters.BACKSPACE\nSpecialCharacters.BACKSPACE\nSpecialCharacters.BACKSPACE\nSpecialCharacters.BACKSPACE\nSpecialCharacters.BACKSPACE\nSpecialCharacters.BACKSPACE\nSpecialCharacters.BACKSPACE\nSpecialCharacters.BACKSPACE\nSpecialCharacters.BACKSPACE\nSpecialCharacters.BACKSPACE\nSpecialCharacters.BACKSPACE\nSpecialCharacters.BACKSPACE\nSpecialCharacters.BACKSPACE\nSpecialCharacters.BACKSPACE\nSpecialCharacters.BACKSPACE\nSpecialCharacters.BACKSPACE\na\nr\ne\n \ny\no\nu\n \ns\nu\nr\ne\n \nSpecialCharacters.CTRL\na\nSpecialCharacters.BACKSPACE\nd\ni\nd\n \nt\nh\ne\n \nt\nr\na\ni\nn\ni\nn\ng\n \nt\ni\nm\ne\n \nn\nSpecialCharacters.BACKSPACE\ni\nn\nc\nr\ne\na\ns\ne\n \ni\nn\n \n6\n0\n \nl\na\ny\ne\nr\ns\nSpecialCharacters.SHIFT\n?\n\n\nSpecialCharacters.ENTER\nt\nh\ne\nr\ne\n \nc\no\nu\nl\nd\n \nb\ne\n \na\n \nb\nu\ng\n \ni\nn\n \nSpecialCharacters.BACKSPACE\nSpecialCharacters.BACKSPACE\nSpecialCharacters.BACKSPACE\nSpecialCharacters.BACKSPACE\nSpecialCharacters.BACKSPACE\nSpecialCharacters.BACKSPACE\nSpecialCharacters.BACKSPACE\nSpecialCharacters.BACKSPACE\nSpecialCharacters.BACKSPACE\nSpecialCharacters.BACKSPACE\nSpecialCharacters.BACKSPACE\nSpecialCharacters.BACKSPACE\nSpecialCharacters.BACKSPACE\nSpecialCharacters.BACKSPACE\nSpecialCharacters.BACKSPACE\nSpecialCharacters.BACKSPACE\nSpecialCharacters.BACKSPACE\nSpecialCharacters.BACKSPACE\nSpecialCharacters.BACKSPACE\nSpecialCharacters.BACKSPACE\nSpecialCharacters.BACKSPACE\nSpecialCharacters.BACKSPACE\nSpecialCharacters.BACKSPACE\nSpecialCharacters.BACKSPACE\nSpecialCharacters.BACKSPACE\nSpecialCharacters.BACKSPACE\nSpecialCharacters.BACKSPACE\nSpecialCharacters.BACKSPACE\nSpecialCharacters.BACKSPACE\nSpecialCharacters.BACKSPACE\nSpecialCharacters.BACKSPACE\nSpecialCharacters.BACKSPACE\nSpecialCharacters.BACKSPACE\nSpecialCharacters.BACKSPACE\nSpecialCharacters.BACKSPACE\nSpecialCharacters.BACKSPACE\nSpecialCharacters.BACKSPACE\nSpecialCharacters.BACKSPACE\nSpecialCharacters.BACKSPACE\nSpecialCharacters.BACKSPACE\nSpecialCharacters.BACKSPACE\nSpecialCharacters.BACKSPACE\nSpecialCharacters.BACKSPACE\nSpecialCharacters.BACKSPACE\nSpecialCharacters.BACKSPACE\nSpecialCharacters.BACKSPACE\ni\nt\ns\n \np\no\ns\ns\ni\nb\nl\ne\n \nt\nh\na\nt\n \ni\nSpecialCharacters.BACKSPACE\nw\ne\n \nd\ni\nd\nn\nt\n \nh\na\nv\ne\n \n6\n0\n,\n \nt\nh\ne\nr\ne\n \nc\no\nu\nl\nd\n \nh\na\nb\ne\n \nn\nSpecialCharacters.BACKSPACE\nSpecialCharacters.BACKSPACE\nSpecialCharacters.BACKSPACE\nSpecialCharacters.BACKSPACE\nv\ne\n \nb\ne\ne\nn\n \na\n \nb\nu\ng\n \ns\no\nm\ne\nw\nh\ne\nr\ne\nSpecialCharacters.CTRL\nSpecialCharacters.ARROW\nSpecialCharacters.ARROW\nSpecialCharacters.ARROW\nSpecialCharacters.ARROW\nSpecialCharacters.ARROW\nSpecialCharacters.ARROW\nSpecialCharacters.ARROW\nSpecialCharacters.ARROW\nSpecialCharacters.ARROW\nSpecialCharacters.ARROW\nSpecialCharacters.ARROW\nSpecialCharacters.ARROW\nSpecialCharacters.ARROW\nSpecialCharacters.ARROW\nSpecialCharacters.ARROW\nSpecialCharacters.ARROW\nSpecialCharacters.ARROW\nSpecialCharacters.ARROW\nSpecialCharacters.ARROW\nSpecialCharacters.ARROW\nSpecialCharacters.ARROW\nSpecialCharacters.ARROW\nSpecialCharacters.ARROW\nSpecialCharacters.ARROW\nSpecialCharacters.ARROW\nSpecialCharacters.ARROW\nSpecialCharacters.ARROW\nSpecialCharacters.ARROW\nSpecialCharacters.ARROW\nSpecialCharacters.ARROW\nSpecialCharacters.ARROW\nSpecialCharacters.ARROW\nSpecialCharacters.ARROW\nSpecialCharacters.ARROW\nSpecialCharacters.ARROW\nSpecialCharacters.ARROW\nSpecialCharacters.ARROW\nSpecialCharacters.ARROW\nSpecialCharacters.ARROW\nSpecialCharacters.ARROW\nSpecialCharacters.ARROW\nSpecialCharacters.ARROW\nSpecialCharacters.ARROW\nSpecialCharacters.ARROW\nSpecialCharacters.ARROW\nSpecialCharacters.ARROW\nSpecialCharacters.ARROW\nSpecialCharacters.ARROW\nSpecialCharacters.ARROW\nSpecialCharacters.ARROW\nSpecialCharacters.ARROW\nSpecialCharacters.ARROW\nSpecialCharacters.ARROW\nSpecialCharacters.ARROW\nSpecialCharacters.ARROW\nSpecialCharacters.SHIFT\nI\n \na\nm\n \na\ns\nk\ni\nn\ng\n \nb\ne\nc\na\nu\ns\ne\n \n\n\nSpecialCharacters.ENTER\nSpecialCharacters.SHIFT\nI\n \nj\nu\ns\nt\n \nw\no\nk\ne\n \nu\np\n \na\nn\nd\n \ns\na\nw\n \nt\nh\ne\n \ns\nl\na\nc\nk\n \nt\nh\nr\ne\na\nd\n \nw\ni\nt\nh\n \nm\ne\ns\ns\na\ng\ne\nd\nSpecialCharacters.BACKSPACE\ns\n,\n \ns\no\n \nc\nh\ni\np\np\ne\nd\n \ni\nn\n.\nSpecialCharacters.BACKSPACE\n \nSpecialCharacters.SHIFT\n:\ns\nw\ne\na\n\n\nSpecialCharacters.ENTER\nSpecialCharacters.SHIFT\n\n\nSpecialCharacters.ENTER\n\n\nSpecialCharacters.ENTER\nw\nSpecialCharacters.BACKSPACE\ng\no\ni\nn\ng\n \nt\no\n \ng\no\n \nd\no\nSpecialCharacters.BACKSPACE\nSpecialCharacters.BACKSPACE\nf\no\nr\n \na\n \nr\nu\nn\n \nSpecialCharacters.BACKSPACE\nSpecialCharacters.BACKSPACE\nSpecialCharacters.BACKSPACE\nSpecialCharacters.BACKSPACE\nSpecialCharacters.BACKSPACE\nSpecialCharacters.BACKSPACE\nSpecialCharacters.BACKSPACE\nSpecialCharacters.BACKSPACE\nSpecialCharacters.BACKSPACE\nSpecialCharacters.BACKSPACE\nSpecialCharacters.BACKSPACE\nSpecialCharacters.BACKSPACE\nSpecialCharacters.BACKSPACE\nSpecialCharacters.BACKSPACE\nSpecialCharacters.BACKSPACE\nSpecialCharacters.BACKSPACE\nSpecialCharacters.BACKSPACE\nSpecialCharacters.BACKSPACE\nSpecialCharacters.BACKSPACE\nSpecialCharacters.BACKSPACE\nSpecialCharacters.BACKSPACE\nSpecialCharacters.BACKSPACE\nSpecialCharacters.BACKSPACE\nSpecialCharacters.BACKSPACE\nSpecialCharacters.BACKSPACE\nSpecialCharacters.BACKSPACE\nSpecialCharacters.BACKSPACE\nSpecialCharacters.BACKSPACE\nSpecialCharacters.BACKSPACE\nSpecialCharacters.BACKSPACE\nSpecialCharacters.BACKSPACE\nSpecialCharacters.BACKSPACE\nSpecialCharacters.BACKSPACE\nSpecialCharacters.SHIFT\nT\nh\nSpecialCharacters.BACKSPACE\nSpecialCharacters.BACKSPACE\nSpecialCharacters.BACKSPACE\nSpecialCharacters.BACKSPACE\nSpecialCharacters.BACKSPACE\nSpecialCharacters.BACKSPACE\nSpecialCharacters.SHIFT\n:\n)\n\n\nSpecialCharacters.ENTER\nSpecialCharacters.SHIFT\nY\ne\na\nh\n \ni\nt\ns\n \nSpecialCharacters.SHIFT\n&\nSpecialCharacters.BACKSPACE\n7\nSpecialCharacters.SHIFT\n:\n1\n5\n\n\nSpecialCharacters.ENTER\nt\nh\na\nt\nSpecialCharacters.BACKSPACE\nSpecialCharacters.BACKSPACE\ne\nn\n \nw\ne\n \nc\no\nu\nl\nd\n \nh\na\nv\ne\n \na\nn\n \ne\nr\nr\no\nr\n \ns\nd\nSpecialCharacters.BACKSPACE\nSpecialCharacters.BACKSPACE\ns\no\nm\ne\nh\nSpecialCharacters.BACKSPACE\nw\nh\ne\nr\ne\n.\nSpecialCharacters.BACKSPACE\nSpecialCharacters.CTRL\na\nSpecialCharacters.BACKSPACE\na\nSpecialCharacters.BACKSPACE\nSpecialCharacters.SHIFT\nI\n \nc\na\nn\n \nl\no\nk\nSpecialCharacters.BACKSPACE\no\nk\n \na\nt\n \ni\nSpecialCharacters.BACKSPACE\nt\nSpecialCharacters.BACKSPACE\ni\nt\n \nw\ni\nt\nh\n \ny\no\nu\n,\n \ng\no\ni\nn\nSpecialCharacters.BACKSPACE\nSpecialCharacters.BACKSPACE\nSpecialCharacters.BACKSPACE\nSpecialCharacters.BACKSPACE\nh\no\nw\n \na\nb\no\nu\nt\n \ni\nn\n \n4\n5\n \nm\ni\nn\ns\nSpecialCharacters.SHIFT\n?\n \nSpecialCharacters.CTRL\na\nx\nSpecialCharacters.CTRL\nv\n\n\nSpecialCharacters.ENTER\no\nr\n \ni\nf\n \nt\nh\na\nt\ns\n \nl\na\nt\ne\n,\n \nw\nSpecialCharacters.BACKSPACE\ny\no\nu\n \nc\no\nu\nl\nd\n \nt\nr\ny\n \nt\nh\ne\n \nn\ne\nw\n \nb\nu\nc\nk\ne\nt\n \nl\ne\na\nr\nn\ne\nr\n\n\nSpecialCharacters.ENTER\na\nn\nd\n \nt\nh\ne\nn\n \nw\nSpecialCharacters.BACKSPACE\nw\nSpecialCharacters.BACKSPACE\nSpecialCharacters.SHIFT\nI\n \ng\no\n \nSpecialCharacters.BACKSPACE\nSpecialCharacters.BACKSPACE\nSpecialCharacters.BACKSPACE\nc\no\nu\nl\nd\n \ng\no\n \nt\nh\nr\no\nu\n=\nSpecialCharacters.CTRL\na\nSpecialCharacters.BACKSPACE\ny\ne\nSpecialCharacters.BACKSPACE\nSpecialCharacters.BACKSPACE\nSpecialCharacters.BACKSPACE\nt\nh\na\nt\n \nw\no\nSpecialCharacters.BACKSPACE\no\nu\nl\nd\n \nb\ne\n \nt\nh\ne\n \nd\ne\ne\np\n \nm\ne\nl\ni\nd\ns\nSpecialCharacters.BACKSPACE\nSpecialCharacters.BACKSPACE\ns\na\ns\nSpecialCharacters.BACKSPACE\nSpecialCharacters.BACKSPACE\ns\na\n \nw\nh\ni\nc\nh\n \nSpecialCharacters.SHIFT\nI\n \ni\nn\ns\nt\na\nl\nl\ne\ne\nd\nm\n=\nSpecialCharacters.BACKSPACE\nSpecialCharacters.BACKSPACE\n,\n \nSpecialCharacters.SHIFT\nI\n \nw\no\nu\nSpecialCharacters.BACKSPACE\nSpecialCharacters.BACKSPACE\nSpecialCharacters.BACKSPACE\nSpecialCharacters.BACKSPACE\nSpecialCharacters.BACKSPACE\na\n \nl\no\nt\n \nh\na\ns\n \nc\nh\na\nn\ng\ne\nd\n \nSpecialCharacters.SHIFT\n(\na\ns\n \nSpecialCharacters.SHIFT\nI\n \nc\nh\na\nn\ng\ne\nd\n \nSpecialCharacters.SHIFT\nSpecialCharacters.SHIFT\nSpecialCharacters.SHIFT\nSpecialCharacters.SHIFT\ng\nt\ni\nSpecialCharacters.BACKSPACE\nSpecialCharacters.BACKSPACE\ni\nt\n \nh\ni\ns\nt\no\nr\ny\nSpecialCharacters.SHIFT\n)\nSpecialCharacters.SHIFT\n\n\nSpecialCharacters.ENTER\n\n\nSpecialCharacters.ENTER\nSpecialCharacters.BACKSPACE\n \ns\ni\nn\nc\ne\n \nt\nh\ne\nn\n\n\nSpecialCharacters.ENTER\ne\nSpecialCharacters.BACKSPACE\nSpecialCharacters.BACKSPACE\nSpecialCharacters.SHIFT\n \nSpecialCharacters.BACKSPACE\nSpecialCharacters.SHIFT\nY\ne\na\nh\n,\nSpecialCharacters.CTRL\na\nSpecialCharacters.SHIFT\n@\nb\nr\nu\nn\no\n \nb\nu\ni\nSpecialCharacters.BACKSPACE\nu\nSpecialCharacters.BACKSPACE\nt\n \nt\nSpecialCharacters.BACKSPACE\ny\ne\na\nh\n \nf\no\nr\n \na\n \nf\nr\ne\nn\nSpecialCharacters.BACKSPACE\ns\nh\n \ni\nn\ns\nt\na\nl\nl\na\nl\nt\no\nSpecialCharacters.BACKSPACE\nSpecialCharacters.BACKSPACE\ni\no\nn\n \nSpecialCharacters.BACKSPACE\nSpecialCharacters.BACKSPACE\nSpecialCharacters.BACKSPACE\nSpecialCharacters.BACKSPACE\nSpecialCharacters.BACKSPACE\nSpecialCharacters.BACKSPACE\nSpecialCharacters.BACKSPACE\nSpecialCharacters.BACKSPACE\nSpecialCharacters.BACKSPACE\nSpecialCharacters.BACKSPACE\nSpecialCharacters.BACKSPACE\nSpecialCharacters.BACKSPACE\na\nt\ni\no\nn\n,\n \ng\ni\nt\n \nc\nl\no\nn\ne\n \n-\n-\nr\ne\nc\nu\nr\ns\ni\nv\ne\nSpecialCharacters.CTRL\nSpecialCharacters.CTRL\nSpecialCharacters.ARROW\nSpecialCharacters.ARROW\nSpecialCharacters.ARROW\nSpecialCharacters.ARROW\n \nr\ne\nm\no\nv\ne\n \nt\nh\ne\n \nw\nh\no\nl\ne\n \nd\ni\nr\ne\nc\nt\no\nr\ny\n \na\nn\nd\nSpecialCharacters.ARROW\n`\n`\n`\nSpecialCharacters.CTRL\nSpecialCharacters.ARROW\nSpecialCharacters.ARROW\nSpecialCharacters.ARROW\nSpecialCharacters.ARROW\nSpecialCharacters.ARROW\nSpecialCharacters.ARROW\n \nSpecialCharacters.SHIFT\n"
    },
    {
     "output_type": "error",
     "ename": "TypeError",
     "evalue": "string indices must be integers",
     "traceback": [
      "\u001b[0;31m---------------------------------------------------------------------------\u001b[0m",
      "\u001b[0;31mTypeError\u001b[0m                                 Traceback (most recent call last)",
      "\u001b[0;32m<ipython-input-54-0fe1d64e9351>\u001b[0m in \u001b[0;36m<module>\u001b[0;34m\u001b[0m\n\u001b[1;32m      1\u001b[0m \u001b[0;32mwhile\u001b[0m \u001b[0;36m1\u001b[0m\u001b[0;34m:\u001b[0m\u001b[0;34m\u001b[0m\u001b[0;34m\u001b[0m\u001b[0m\n\u001b[0;32m----> 2\u001b[0;31m     \u001b[0mprint\u001b[0m\u001b[0;34m(\u001b[0m\u001b[0mnext\u001b[0m\u001b[0;34m(\u001b[0m\u001b[0mgenerator\u001b[0m\u001b[0;34m)\u001b[0m\u001b[0;34m)\u001b[0m\u001b[0;34m\u001b[0m\u001b[0;34m\u001b[0m\u001b[0m\n\u001b[0m",
      "\u001b[0;32m<ipython-input-49-54072fb14b10>\u001b[0m in \u001b[0;36mstreamify\u001b[0;34m(source)\u001b[0m\n\u001b[1;32m     94\u001b[0m                 \u001b[0;32mcontinue\u001b[0m\u001b[0;34m\u001b[0m\u001b[0;34m\u001b[0m\u001b[0m\n\u001b[1;32m     95\u001b[0m             \u001b[0;31m# otherwise the current char will be returned\u001b[0m\u001b[0;34m\u001b[0m\u001b[0;34m\u001b[0m\u001b[0;34m\u001b[0m\u001b[0m\n\u001b[0;32m---> 96\u001b[0;31m             \u001b[0mlast_returned\u001b[0m \u001b[0;34m=\u001b[0m \u001b[0mstring\u001b[0m\u001b[0;34m[\u001b[0m\u001b[0mi\u001b[0m\u001b[0;34m]\u001b[0m\u001b[0;34m\u001b[0m\u001b[0;34m\u001b[0m\u001b[0m\n\u001b[0m\u001b[1;32m     97\u001b[0m             \u001b[0;31m# print(\"b\",end, start, i)\u001b[0m\u001b[0;34m\u001b[0m\u001b[0;34m\u001b[0m\u001b[0;34m\u001b[0m\u001b[0m\n\u001b[1;32m     98\u001b[0m             \u001b[0;32myield\u001b[0m \u001b[0mstring\u001b[0m\u001b[0;34m[\u001b[0m\u001b[0mi\u001b[0m\u001b[0;34m]\u001b[0m\u001b[0;34m\u001b[0m\u001b[0;34m\u001b[0m\u001b[0m\n",
      "\u001b[0;31mTypeError\u001b[0m: string indices must be integers"
     ]
    }
   ],
   "source": [
    "while 1:\n",
    "    print(next(generator))"
   ]
  },
  {
   "cell_type": "code",
   "execution_count": 58,
   "metadata": {},
   "outputs": [],
   "source": [
    "def enumize(string):\n",
    "    d = {\n",
    "        'AltGr': SpecialCharacters.ALT,\n",
    "        'BckSp': SpecialCharacters.BACKSPACE,\n",
    "        'CpsLk': SpecialCharacters.IGNORE,\n",
    "        'Del': SpecialCharacters.DELETE,\n",
    "        'Down': SpecialCharacters.ARROW,\n",
    "        'Enter': SpecialCharacters.ENTER,\n",
    "        'Esc': SpecialCharacters.ESC,\n",
    "        'F12': SpecialCharacters.FUNC,\n",
    "        'F4': SpecialCharacters.FUNC,\n",
    "        'Ins': SpecialCharacters.INS,\n",
    "        'KP0': SpecialCharacters.KEYPAD,\n",
    "        'KP1': SpecialCharacters.KEYPAD,\n",
    "        'KP2': SpecialCharacters.KEYPAD,\n",
    "        'KP3': SpecialCharacters.KEYPAD,\n",
    "        'KP4': SpecialCharacters.KEYPAD,\n",
    "        'KP5': SpecialCharacters.KEYPAD,\n",
    "        'KP6': SpecialCharacters.KEYPAD,\n",
    "        'KP7': SpecialCharacters.KEYPAD,\n",
    "        'KP8': SpecialCharacters.KEYPAD,\n",
    "        'KP9': SpecialCharacters.KEYPAD,\n",
    "        'KPEnt': SpecialCharacters.KEYPAD,\n",
    "        'LAlt': SpecialCharacters.ALT,\n",
    "        'RAlt': SpecialCharacters.ALT,\n",
    "        'LCtrl': SpecialCharacters.CTRL,\n",
    "        'LMeta': SpecialCharacters.OS,\n",
    "        'RMeta': SpecialCharacters.OS,\n",
    "        'LShft': SpecialCharacters.SHIFT,\n",
    "        'Left': SpecialCharacters.ARROW,\n",
    "        'Menu': SpecialCharacters.MENU,\n",
    "        'NumLk': SpecialCharacters.IGNORE,\n",
    "        'PgUp': SpecialCharacters.PGUP,\n",
    "        'RCtrl': SpecialCharacters.CTRL,\n",
    "        'RShft': SpecialCharacters.SHIFT,\n",
    "        'Right': SpecialCharacters.ARROW,\n",
    "        'Tab': SpecialCharacters.TAB,\n",
    "        'Up': SpecialCharacters.ARROW,\n",
    "        'Split': SpecialCharacters.META\n",
    "    }\n",
    "    return d[string]"
   ]
  },
  {
   "cell_type": "code",
   "execution_count": 27,
   "metadata": {},
   "outputs": [
    {
     "output_type": "execute_result",
     "data": {
      "text/plain": "<SpecialCharacters.SHIFT: 3>"
     },
     "metadata": {},
     "execution_count": 27
    }
   ],
   "source": [
    "enumize(\"LShft\")"
   ]
  },
  {
   "cell_type": "code",
   "execution_count": 68,
   "metadata": {},
   "outputs": [],
   "source": [
    "# take a stream and start performing operations on it"
   ]
  },
  {
   "cell_type": "code",
   "execution_count": 75,
   "metadata": {},
   "outputs": [],
   "source": [
    "import rx\n",
    "from rx import operators as ops\n"
   ]
  },
  {
   "cell_type": "code",
   "execution_count": 73,
   "metadata": {},
   "outputs": [],
   "source": [
    "source = rx.of(Source(lines).streamify())"
   ]
  },
  {
   "cell_type": "code",
   "execution_count": 85,
   "metadata": {},
   "outputs": [
    {
     "output_type": "error",
     "ename": "SyntaxError",
     "evalue": "invalid syntax (<ipython-input-85-acbea3984ea9>, line 5)",
     "traceback": [
      "\u001b[0;36m  File \u001b[0;32m\"<ipython-input-85-acbea3984ea9>\"\u001b[0;36m, line \u001b[0;32m5\u001b[0m\n\u001b[0;31m    )\u001b[0m\n\u001b[0m    ^\u001b[0m\n\u001b[0;31mSyntaxError\u001b[0m\u001b[0;31m:\u001b[0m invalid syntax\n"
     ]
    }
   ],
   "source": [
    "composed = source.pipe(\n",
    "    ops.map(lambda s: len(s)),\n",
    "    ops.filter(lambda i: i >= 5),\n",
    "    ops.\n",
    ")"
   ]
  },
  {
   "cell_type": "code",
   "execution_count": null,
   "metadata": {},
   "outputs": [],
   "source": [
    "# these are the symbols that denote a reset\n",
    "# "
   ]
  },
  {
   "cell_type": "code",
   "execution_count": 109,
   "metadata": {},
   "outputs": [],
   "source": [
    "\n",
    "# TODO reset buffer lengths?\n",
    "def return_corrected_pairs(stream):\n",
    "    index = -1\n",
    "    previously = None\n",
    "    # flag set when we are allowed to compare and send letters\n",
    "    is_checking = 0\n",
    "    reset = True\n",
    "    # need to initialise with at least one character to prevent errors by one\n",
    "    while(1):\n",
    "        \n",
    "        if index == -1 or reset:\n",
    "\n",
    "            index = 1\n",
    "            previously = [None]\n",
    "            is_checking = 0\n",
    "            reset = False\n",
    "\n",
    "            while(1):\n",
    "                current_element = next(stream)\n",
    "                previously[0] = current_element\n",
    "                if type(current_element) is not SpecialCharacters:\n",
    "                    break\n",
    "            # print(\"reset with starting element: \", previously[0])\n",
    "            continue    \n",
    "       \n",
    "\n",
    "        # the index holds the position with the previous entry + 1\n",
    "\n",
    "        current_element = next(stream)\n",
    "        # print(\"the current element is: \", current_element)\n",
    "\n",
    "        if current_element == SpecialCharacters.BACKSPACE:\n",
    "            is_checking += 1\n",
    "            index -= 1\n",
    "            # print(\"backspace found, index reduced to: \", index)\n",
    "            continue\n",
    "        \n",
    "        if type(current_element) is SpecialCharacters:\n",
    "            # print(\"resetting.. \")\n",
    "            reset = True\n",
    "            continue\n",
    "        \n",
    "        # else: is character\n",
    "        if is_checking:\n",
    "            # print(\"yielding a corrected pair: \")\n",
    "            yield (previously[index], current_element)\n",
    "            previously[index] = current_element\n",
    "            index += 1\n",
    "            is_checking -= 1\n",
    "            # print(\"replacing value at: \", index-1)\n",
    "            continue\n",
    "        \n",
    "        # if not checking\n",
    "        previously.append(current_element)\n",
    "        index += 1\n",
    "        # print(\"appending value at: \", index-1)\n",
    "        continue\n",
    "\n",
    "           "
   ]
  },
  {
   "cell_type": "code",
   "execution_count": 88,
   "metadata": {},
   "outputs": [
    {
     "output_type": "execute_result",
     "data": {
      "text/plain": "True"
     },
     "metadata": {},
     "execution_count": 88
    }
   ],
   "source": [
    "type(SpecialCharacters.BACKSPACE) == SpecialCharacters"
   ]
  },
  {
   "cell_type": "code",
   "execution_count": 126,
   "metadata": {},
   "outputs": [],
   "source": [
    "lines = list(map(lambda x: x[1], clean_lines))\n",
    "source = Source(lines, join_with='<Split>')\n",
    "stream = source.streamify()\n",
    "stream_tuple = return_corrected_pairs(stream)"
   ]
  },
  {
   "cell_type": "code",
   "execution_count": 127,
   "metadata": {},
   "outputs": [],
   "source": [
    "incorrect_tuple_frequency = dict()"
   ]
  },
  {
   "cell_type": "code",
   "execution_count": 158,
   "metadata": {},
   "outputs": [],
   "source": [
    "steps = 1000"
   ]
  },
  {
   "cell_type": "code",
   "execution_count": 159,
   "metadata": {
    "tags": [
     "outputPrepend",
     "outputPrepend",
     "outputPrepend",
     "outputPrepend",
     "outputPrepend",
     "outputPrepend",
     "outputPrepend",
     "outputPrepend",
     "outputPrepend",
     "outputPrepend",
     "outputPrepend",
     "outputPrepend",
     "outputPrepend",
     "outputPrepend",
     "outputPrepend",
     "outputPrepend",
     "outputPrepend",
     "outputPrepend",
     "outputPrepend",
     "outputPrepend",
     "outputPrepend",
     "outputPrepend",
     "outputPrepend",
     "outputPrepend",
     "outputPrepend",
     "outputPrepend",
     "outputPrepend",
     "outputPrepend",
     "outputPrepend",
     "outputPrepend",
     "outputPrepend",
     "outputPrepend",
     "outputPrepend",
     "outputPrepend",
     "outputPrepend",
     "outputPrepend",
     "outputPrepend",
     "outputPrepend",
     "outputPrepend",
     "outputPrepend",
     "outputPrepend",
     "outputPrepend",
     "outputPrepend",
     "outputPrepend",
     "outputPrepend",
     "outputPrepend",
     "outputPrepend",
     "outputPrepend",
     "outputPrepend",
     "outputPrepend",
     "outputPrepend",
     "outputPrepend",
     "outputPrepend",
     "outputPrepend",
     "outputPrepend",
     "outputPrepend",
     "outputPrepend",
     "outputPrepend",
     "outputPrepend",
     "outputPrepend",
     "outputPrepend",
     "outputPrepend",
     "outputPrepend",
     "outputPrepend",
     "outputPrepend",
     "outputPrepend",
     "outputPrepend",
     "outputPrepend",
     "outputPrepend",
     "outputPrepend",
     "outputPrepend",
     "outputPrepend",
     "outputPrepend",
     "outputPrepend",
     "outputPrepend",
     "outputPrepend",
     "outputPrepend",
     "outputPrepend",
     "outputPrepend",
     "outputPrepend",
     "outputPrepend",
     "outputPrepend",
     "outputPrepend",
     "outputPrepend",
     "outputPrepend",
     "outputPrepend",
     "outputPrepend",
     "outputPrepend",
     "outputPrepend",
     "outputPrepend",
     "outputPrepend",
     "outputPrepend",
     "outputPrepend",
     "outputPrepend",
     "outputPrepend",
     "outputPrepend",
     "outputPrepend",
     "outputPrepend",
     "outputPrepend",
     "outputPrepend"
    ]
   },
   "outputs": [
    {
     "output_type": "error",
     "ename": "TypeError",
     "evalue": "string indices must be integers",
     "traceback": [
      "\u001b[0;31m---------------------------------------------------------------------------\u001b[0m",
      "\u001b[0;31mTypeError\u001b[0m                                 Traceback (most recent call last)",
      "\u001b[0;32m<ipython-input-159-5adb0486a7ad>\u001b[0m in \u001b[0;36m<module>\u001b[0;34m\u001b[0m\n\u001b[1;32m      1\u001b[0m \u001b[0;32mwhile\u001b[0m \u001b[0msteps\u001b[0m\u001b[0;34m>\u001b[0m\u001b[0;36m0\u001b[0m\u001b[0;34m:\u001b[0m\u001b[0;34m\u001b[0m\u001b[0;34m\u001b[0m\u001b[0m\n\u001b[1;32m      2\u001b[0m     \u001b[0msteps\u001b[0m \u001b[0;34m-=\u001b[0m \u001b[0;36m1\u001b[0m\u001b[0;34m\u001b[0m\u001b[0;34m\u001b[0m\u001b[0m\n\u001b[0;32m----> 3\u001b[0;31m     \u001b[0mt\u001b[0m \u001b[0;34m=\u001b[0m \u001b[0mnext\u001b[0m\u001b[0;34m(\u001b[0m\u001b[0mstream_tuple\u001b[0m\u001b[0;34m)\u001b[0m\u001b[0;34m\u001b[0m\u001b[0;34m\u001b[0m\u001b[0m\n\u001b[0m\u001b[1;32m      4\u001b[0m     \u001b[0;32mif\u001b[0m\u001b[0;34m(\u001b[0m\u001b[0mt\u001b[0m\u001b[0;34m[\u001b[0m\u001b[0;36m0\u001b[0m\u001b[0;34m]\u001b[0m \u001b[0;34m!=\u001b[0m \u001b[0mt\u001b[0m\u001b[0;34m[\u001b[0m\u001b[0;36m1\u001b[0m\u001b[0;34m]\u001b[0m\u001b[0;34m)\u001b[0m\u001b[0;34m:\u001b[0m\u001b[0;34m\u001b[0m\u001b[0;34m\u001b[0m\u001b[0m\n\u001b[1;32m      5\u001b[0m         \u001b[0mincorrect_tuple_frequency\u001b[0m\u001b[0;34m[\u001b[0m\u001b[0mt\u001b[0m\u001b[0;34m]\u001b[0m \u001b[0;34m=\u001b[0m \u001b[0mincorrect_tuple_frequency\u001b[0m\u001b[0;34m.\u001b[0m\u001b[0mget\u001b[0m\u001b[0;34m(\u001b[0m\u001b[0mt\u001b[0m\u001b[0;34m,\u001b[0m \u001b[0;36m0\u001b[0m\u001b[0;34m)\u001b[0m \u001b[0;34m+\u001b[0m \u001b[0;36m1\u001b[0m\u001b[0;34m\u001b[0m\u001b[0;34m\u001b[0m\u001b[0m\n",
      "\u001b[0;32m<ipython-input-109-20b9c03f51d9>\u001b[0m in \u001b[0;36mreturn_corrected_pairs\u001b[0;34m(stream)\u001b[0m\n\u001b[1;32m     17\u001b[0m \u001b[0;34m\u001b[0m\u001b[0m\n\u001b[1;32m     18\u001b[0m             \u001b[0;32mwhile\u001b[0m\u001b[0;34m(\u001b[0m\u001b[0;36m1\u001b[0m\u001b[0;34m)\u001b[0m\u001b[0;34m:\u001b[0m\u001b[0;34m\u001b[0m\u001b[0;34m\u001b[0m\u001b[0m\n\u001b[0;32m---> 19\u001b[0;31m                 \u001b[0mcurrent_element\u001b[0m \u001b[0;34m=\u001b[0m \u001b[0mnext\u001b[0m\u001b[0;34m(\u001b[0m\u001b[0mstream\u001b[0m\u001b[0;34m)\u001b[0m\u001b[0;34m\u001b[0m\u001b[0;34m\u001b[0m\u001b[0m\n\u001b[0m\u001b[1;32m     20\u001b[0m                 \u001b[0mpreviously\u001b[0m\u001b[0;34m[\u001b[0m\u001b[0;36m0\u001b[0m\u001b[0;34m]\u001b[0m \u001b[0;34m=\u001b[0m \u001b[0mcurrent_element\u001b[0m\u001b[0;34m\u001b[0m\u001b[0;34m\u001b[0m\u001b[0m\n\u001b[1;32m     21\u001b[0m                 \u001b[0;32mif\u001b[0m \u001b[0mtype\u001b[0m\u001b[0;34m(\u001b[0m\u001b[0mcurrent_element\u001b[0m\u001b[0;34m)\u001b[0m \u001b[0;32mis\u001b[0m \u001b[0;32mnot\u001b[0m \u001b[0mSpecialCharacters\u001b[0m\u001b[0;34m:\u001b[0m\u001b[0;34m\u001b[0m\u001b[0;34m\u001b[0m\u001b[0m\n",
      "\u001b[0;32m<ipython-input-49-54072fb14b10>\u001b[0m in \u001b[0;36mstreamify\u001b[0;34m(source)\u001b[0m\n\u001b[1;32m     94\u001b[0m                 \u001b[0;32mcontinue\u001b[0m\u001b[0;34m\u001b[0m\u001b[0;34m\u001b[0m\u001b[0m\n\u001b[1;32m     95\u001b[0m             \u001b[0;31m# otherwise the current char will be returned\u001b[0m\u001b[0;34m\u001b[0m\u001b[0;34m\u001b[0m\u001b[0;34m\u001b[0m\u001b[0m\n\u001b[0;32m---> 96\u001b[0;31m             \u001b[0mlast_returned\u001b[0m \u001b[0;34m=\u001b[0m \u001b[0mstring\u001b[0m\u001b[0;34m[\u001b[0m\u001b[0mi\u001b[0m\u001b[0;34m]\u001b[0m\u001b[0;34m\u001b[0m\u001b[0;34m\u001b[0m\u001b[0m\n\u001b[0m\u001b[1;32m     97\u001b[0m             \u001b[0;31m# print(\"b\",end, start, i)\u001b[0m\u001b[0;34m\u001b[0m\u001b[0;34m\u001b[0m\u001b[0;34m\u001b[0m\u001b[0m\n\u001b[1;32m     98\u001b[0m             \u001b[0;32myield\u001b[0m \u001b[0mstring\u001b[0m\u001b[0;34m[\u001b[0m\u001b[0mi\u001b[0m\u001b[0;34m]\u001b[0m\u001b[0;34m\u001b[0m\u001b[0;34m\u001b[0m\u001b[0m\n",
      "\u001b[0;31mTypeError\u001b[0m: string indices must be integers"
     ]
    }
   ],
   "source": [
    "while steps>0:\n",
    "    steps -= 1\n",
    "    t = next(stream_tuple)\n",
    "    if(t[0] != t[1]):\n",
    "        incorrect_tuple_frequency[t] = incorrect_tuple_frequency.get(t, 0) + 1"
   ]
  },
  {
   "cell_type": "code",
   "execution_count": 162,
   "metadata": {},
   "outputs": [
    {
     "output_type": "execute_result",
     "data": {
      "text/plain": "{('h', 'a'): 23,\n ('i', 'h'): 11,\n ('i', 'r'): 25,\n ('r', 'n'): 13,\n ('=', 'o'): 4,\n ('k', 'l'): 42,\n (' ', \"'\"): 4,\n ('s', 'd'): 42,\n ('k', ' '): 9,\n (' ', 'f'): 26,\n ('a', 'i'): 20,\n ('d', 'l'): 17,\n ('d', 'e'): 29,\n (\"'\", ' '): 5,\n ('a', 'f'): 9,\n ('d', 'o'): 14,\n ('d', 'r'): 8,\n ('d', 'f'): 49,\n ('a', 'e'): 74,\n ('i', 'u'): 42,\n ('e', 'd'): 26,\n (' ', 's'): 64,\n ('u', 'c'): 16,\n ('r', 'a'): 41,\n ('e', ' '): 88,\n (' ', 'n'): 45,\n ('d', 't'): 17,\n ('t', ' '): 91,\n (' ', 't'): 100,\n ('a', 'h'): 33,\n ('n', 'e'): 33,\n ('d', ' '): 40,\n ('t', 'p'): 10,\n ('h', 'e'): 38,\n (' ', 'd'): 51,\n ('p', ' '): 15,\n ('e', 'b'): 22,\n ('s', 'r'): 14,\n (' ', 'c'): 31,\n ('r', 'o'): 54,\n ('e', 'r'): 70,\n ('y', 'a'): 6,\n ('h', 't'): 40,\n ('t', 'l'): 16,\n ('a', 'o'): 25,\n ('s', 'k'): 2,\n ('k', 'g'): 5,\n ('w', 'e'): 23,\n ('a', 'y'): 6,\n ('r', 'u'): 13,\n ('u', 'r'): 12,\n ('d', 's'): 34,\n ('g', 'n'): 28,\n ('l', 'o'): 14,\n (' ', 'l'): 37,\n ('w', ' '): 22,\n (' ', 'i'): 30,\n ('u', 'n'): 12,\n ('n', ' '): 41,\n ('p', 'o'): 29,\n ('c', 'i'): 16,\n ('a', 'm'): 15,\n ('r', 't'): 62,\n ('t', 'h'): 37,\n (\"'\", 'a'): 2,\n ('c', ' '): 15,\n ('g', 'i'): 15,\n ('i', 'n'): 50,\n ('n', 'g'): 25,\n ('s', 'a'): 40,\n ('u', 'y'): 37,\n ('a', 'b'): 18,\n ('n', 'u'): 18,\n ('v', 'i'): 11,\n ('n', 's'): 22,\n ('s', 'i'): 46,\n ('r', 'f'): 5,\n ('c', 'd'): 9,\n ('f', 'd'): 31,\n (' ', 'w'): 21,\n ('d', 'k'): 6,\n (' ', 'e'): 106,\n ('w', 'd'): 8,\n ('o', ' '): 45,\n ('t', 'i'): 61,\n ('m', 'p'): 5,\n ('m', 'n'): 16,\n ('r', 'e'): 65,\n ('i', 'l'): 20,\n ('.', '/'): 17,\n ('a', 'c'): 33,\n ('c', 'a'): 18,\n ('j', 'b'): 1,\n ('e', 'l'): 45,\n ('t', 'e'): 55,\n ('e', 'c'): 22,\n ('u', 't'): 22,\n (' ', '/'): 8,\n ('/', ' '): 5,\n ('/', 'v'): 1,\n ('l', 'k'): 16,\n ('/', 'q'): 1,\n ('b', 'q'): 1,\n ('-', 't'): 3,\n ('-', 'a'): 2,\n (';', 'o'): 2,\n ('o', ';'): 1,\n ('o', 'i'): 55,\n (';', 'l'): 18,\n ('i', 's'): 31,\n ('n', 'y'): 3,\n ('z', '܂'): 1,\n (' ', 'a'): 64,\n ('m', ' '): 25,\n ('u', ' '): 19,\n ('i', ' '): 32,\n ('a', 'r'): 39,\n ('k', 'r'): 6,\n ('n', 'i'): 52,\n ('=', 'd'): 2,\n ('h', 'i'): 16,\n ('n', 'm'): 12,\n ('o', '['): 1,\n ('o', 'r'): 59,\n ('e', 'v'): 9,\n ('h', 'n'): 6,\n ('n', 'o'): 40,\n (' ', 'r'): 40,\n ('r', ' '): 38,\n ('g', 't'): 12,\n (' ', 'k'): 11,\n (' ', 'm'): 29,\n ('h', ' '): 33,\n (' ', 'p'): 14,\n ('p', 'a'): 10,\n ('I', 's'): 1,\n ('e', 'j'): 5,\n ('j', 'e'): 5,\n ('s', ' '): 70,\n ('c', 'v'): 32,\n ('d', 'n'): 40,\n ('n', 'd'): 33,\n ('i', 'y'): 8,\n ('D', 'o'): 1,\n ('s', 'e'): 47,\n ('i', 'w'): 22,\n ('f', 'h'): 6,\n ('m', ','): 7,\n ('l', 's'): 16,\n ('s', 'l'): 20,\n ('i', 'o'): 89,\n ('m', 'a'): 21,\n ('v', 'c'): 23,\n ('g', 'c'): 6,\n ('p', 'l'): 11,\n ('a', ' '): 58,\n ('e', 'h'): 34,\n ('t', 'a'): 41,\n ('s', 'f'): 8,\n ('k', 'i'): 7,\n ('6', 'u'): 1,\n ('>', '?'): 6,\n ('?', ' '): 6,\n ('y', 's'): 7,\n ('u', 'i'): 66,\n (' ', 'y'): 15,\n ('y', 'm'): 4,\n ('m', 'y'): 2,\n ('y', ' '): 15,\n ('b', 'c'): 4,\n ('u', 'o'): 16,\n ('e', 'm'): 19,\n ('m', 'e'): 20,\n (' ', '.'): 20,\n ('g', 'j'): 1,\n ('i', 'd'): 12,\n ('l', ' '): 29,\n ('L', ':'): 2,\n (':', ')'): 1,\n (' ', ','): 60,\n ('o', 's'): 21,\n ('s', 'o'): 14,\n ('n', 'a'): 38,\n ('c', 't'): 7,\n ('c', 'b'): 2,\n ('o', 'a'): 29,\n ('o', 'k'): 2,\n ('k', 'e'): 12,\n (' ', 'b'): 18,\n ('.', 'e'): 1,\n (' ', 'g'): 31,\n ('b', 'g'): 1,\n ('a', 'p'): 19,\n ('e', 'a'): 58,\n ('b', ' '): 19,\n ('j', ' '): 5,\n ('l', 'h'): 7,\n ('.', '4'): 1,\n ('5', '4'): 5,\n ('4', '.'): 1,\n ('.', ' '): 14,\n ('g', ' '): 26,\n ('t', 'o'): 48,\n ('f', ' '): 24,\n ('o', '-'): 4,\n ('l', 'i'): 25,\n ('i', 'f'): 10,\n ('s', 'n'): 27,\n ('6', '7'): 3,\n ('d', 'i'): 11,\n ('e', 's'): 34,\n ('_', 'v'): 1,\n ('m', 't'): 8,\n ('t', 'm'): 7,\n ('v', 's'): 3,\n ('t', 'y'): 24,\n ('i', 't'): 72,\n ('o', 'd'): 12,\n ('w', 'i'): 18,\n ('9', '0'): 4,\n ('=', 's'): 2,\n ('f', 'g'): 30,\n ('=', 'i'): 3,\n ('h', 's'): 17,\n ('j', 'h'): 21,\n ('w', 'b'): 4,\n ('b', 'o'): 7,\n ('y', 'c'): 5,\n ('l', 'e'): 53,\n ('f', 'i'): 16,\n ('a', '-'): 4,\n ('n', '-'): 2,\n ('v', 'g'): 1,\n ('g', 'e'): 13,\n ('u', 'l'): 8,\n ('u', 'd'): 5,\n ('.', '2'): 3,\n ('2', '.'): 3,\n (' ', 'o'): 48,\n ('b', 'a'): 17,\n ('o', 'b'): 8,\n ('c', 'w'): 3,\n ('p', 'y'): 4,\n ('l', 'a'): 32,\n ('r', 'p'): 13,\n ('p', 'r'): 17,\n ('a', 's'): 42,\n ('=', 'r'): 1,\n ('h', 'f'): 3,\n ('m', 'o'): 9,\n ('o', 'n'): 41,\n ('e', 'i'): 33,\n ('l', 'n'): 10,\n ('f', 'o'): 12,\n ('x', 'e'): 1,\n ('p', 'v'): 1,\n ('o', 'u'): 23,\n ('s', 'g'): 5,\n ('c', 'n'): 14,\n (',', ' '): 19,\n ('u', 'm'): 8,\n ('/', '.'): 19,\n ('l', 'd'): 18,\n ('w', 'l'): 4,\n ('d', 'b'): 5,\n ('b', 'e'): 14,\n ('b', 't'): 7,\n ('a', 't'): 40,\n ('h', 'm'): 5,\n ('m', 'w'): 4,\n ('=', 'n'): 4,\n ('t', 's'): 26,\n ('n', 'k'): 7,\n ('t', 'n'): 36,\n ('o', 'f'): 16,\n ('k', 'o'): 7,\n ('n', 'l'): 9,\n ('g', 'o'): 9,\n ('o', 'g'): 14,\n ('f', 'e'): 15,\n ('i', 'v'): 3,\n ('.', 'a'): 3,\n ('g', 'u'): 5,\n ('f', 'n'): 3,\n ('l', 'f'): 11,\n ('u', 'b'): 5,\n (' ', 'u'): 25,\n ('o', 't'): 38,\n ('a', 'q'): 1,\n ('q', 'a'): 9,\n ('m', 'b'): 3,\n ('b', 'm'): 8,\n ('n', 'b'): 21,\n ('b', 'k'): 2,\n ('y', 'o'): 12,\n ('t', 'r'): 54,\n ('d', 'a'): 18,\n ('n', 't'): 27,\n ('w', 'a'): 11,\n ('t', 'w'): 17,\n ('a', 'l'): 29,\n ('i', 'p'): 8,\n ('b', 'r'): 4,\n ('i', 'x'): 1,\n ('m', 's'): 11,\n ('y', 'l'): 5,\n ('l', 'c'): 4,\n ('a', 'n'): 30,\n ('o', 'w'): 9,\n ('e', 'p'): 14,\n ('w', 'g'): 3,\n ('p', 'i'): 5,\n ('p', 'w'): 3,\n ('n', 'h'): 10,\n ('i', 'a'): 22,\n ('w', 't'): 7,\n ('h', 'w'): 9,\n ('o', 'p'): 40,\n ('u', 'p'): 6,\n ('u', 's'): 14,\n ('s', 'p'): 7,\n ('t', 'k'): 3,\n ('e', 'f'): 9,\n ('m', 'h'): 4,\n (' ', 'h'): 37,\n ('w', 'h'): 8,\n ('o', 'e'): 32,\n ('p', 'b'): 6,\n ('k', 'a'): 8,\n (',', 'a'): 2,\n ('h', 'd'): 6,\n ('d', 'w'): 4,\n ('u', 'f'): 2,\n ('e', 'w'): 23,\n (',', '.'): 18,\n ('o', 'm'): 17,\n ('r', 'i'): 19,\n (' ', '-'): 15,\n ('v', 'f'): 1,\n ('o', 'y'): 11,\n ('s', 'z'): 3,\n ('z', 'e'): 2,\n ('d', 'm'): 6,\n ('m', 'd'): 5,\n ('a', 'w'): 13,\n ('d', 'g'): 4,\n ('v', 'a'): 8,\n ('t', ';'): 2,\n (';', \"'\"): 11,\n ('e', 'y'): 13,\n ('e', 't'): 49,\n ('s', 'y'): 6,\n ('t', 'u'): 13,\n ('y', 'e'): 8,\n ('s', 't'): 28,\n ('d', 'q'): 1,\n ('h', 'o'): 22,\n ('a', 'u'): 11,\n ('s', 'u'): 27,\n ('c', 'g'): 4,\n ('s', 'b'): 9,\n ('e', 'u'): 25,\n ('b', 'd'): 4,\n ('w', 'o'): 12,\n ('o', 'l'): 17,\n ('l', 'u'): 10,\n ('j', 'g'): 3,\n ('0', '-'): 11,\n ('g', 'y'): 1,\n ('n', ','): 1,\n ('b', 'i'): 5,\n ('s', 'c'): 9,\n ('c', 'y'): 4,\n ('n', ';'): 4,\n ('c', 'x'): 9,\n ('y', 't'): 15,\n ('c', 'o'): 20,\n ('o', 'c'): 22,\n ('a', 'd'): 20,\n ('i', 'c'): 22,\n ('i', 'k'): 5,\n ('p', 'u'): 8,\n ('u', 'h'): 5,\n ('s', 'm'): 7,\n ('g', 'f'): 26,\n ('2', '3'): 6,\n ('p', 't'): 5,\n ('b', 'v'): 9,\n ('t', 'd'): 9,\n ('n', 'p'): 4,\n ('e', 'o'): 25,\n ('a', '1'): 2,\n ('-', 'l'): 2,\n ('r', 'm'): 3,\n ('e', 'n'): 40,\n ('r', 's'): 18,\n ('e', 'g'): 7,\n ('c', 's'): 13,\n ('c', 'h'): 10,\n ('c', 'p'): 4,\n ('.', '='): 2,\n ('=', '-'): 7,\n ('r', '-'): 1,\n ('-', 'r'): 1,\n ('0', '5'): 2,\n ('4', '5'): 6,\n ('5', '0'): 2,\n ('.', '5'): 1,\n ('.', 'f'): 4,\n ('f', 'r'): 6,\n ('.', '0'): 2,\n ('\"', \"'\"): 6,\n ('~', '.'): 1,\n ('f', '5'): 1,\n ('l', '.'): 2,\n ('c', ';'): 1,\n (';', 'y'): 1,\n ('s', 'h'): 11,\n ('-', '.'): 1,\n ('.', 'g'): 2,\n ('b', 's'): 5,\n ('4', '0'): 1,\n ('r', '5'): 1,\n ('-', 'v'): 1,\n ('[', 'p'): 17,\n ('h', 'y'): 3,\n ('g', 'r'): 15,\n ('-', '='): 13,\n ('_', '-'): 2,\n ('u', 'j'): 5,\n ('\"', ':'): 3,\n ('z', 's'): 1,\n ('y', 'n'): 3,\n ('u', 'e'): 19,\n ('r', 'l'): 8,\n ('c', 'k'): 7,\n (' ', 'v'): 3,\n ('y', 'i'): 7,\n ('q', ' '): 2,\n ('i', 'e'): 33,\n ('?', 'l'): 1,\n ('l', 'r'): 11,\n ('o', 'j'): 2,\n ('e', 'k'): 8,\n ('1', '2'): 4,\n ('9', '1'): 1,\n ('r', 'v'): 2,\n ('w', 's'): 9,\n ('u', 'q'): 4,\n ('q', 'u'): 2,\n ('4', ' '): 1,\n ('u', 'a'): 15,\n ('t', 'f'): 5,\n ('f', 't'): 3,\n ('t', 'c'): 13,\n (':', 'x'): 1,\n ('s', '['): 1,\n ('h', ','): 1,\n ('v', 'e'): 12,\n ('c', 'u'): 13,\n ('k', 'c'): 8,\n ('x', 'c'): 13,\n ('f', '.'): 2,\n ('c', 'r'): 6,\n (')', '('): 3,\n ('h', 'c'): 7,\n ('f', 'b'): 3,\n ('r', 'k'): 6,\n ('y', 'u'): 9,\n ('3', 'm'): 1,\n ('4', 'a'): 1,\n ('g', 'a'): 6,\n ('4', ','): 1,\n ('_', 'n'): 1,\n ('s', '2'): 3,\n ('s', '0'): 1,\n ('z', 'v'): 1,\n ('x', 'a'): 1,\n ('g', 's'): 10,\n ('.', 'i'): 1,\n (' ', '='): 17,\n ('=', ' '): 15,\n ('m', 'i'): 14,\n ('b', 'n'): 12,\n ('1', 'i'): 1,\n ('t', 'g'): 8,\n ('(', '['): 2,\n ('n', 'c'): 8,\n (',', 'm'): 7,\n ('j', 'n'): 6,\n ('y', 'k'): 1,\n ('_', 't'): 1,\n ('p', 'm'): 10,\n (' ', ']'): 1,\n ('r', 'y'): 6,\n ('s', 'w'): 9,\n (')', ' '): 2,\n ('d', 'h'): 4,\n ('l', 'b'): 2,\n ('x', 'l'): 1,\n ('i', 'g'): 10,\n ('l', ';'): 1,\n ('A', '`'): 1,\n ('T', 'A'): 1,\n ('E', 'T'): 1,\n ('g', 'q'): 1,\n ('[', ']'): 4,\n ('t', '['): 1,\n ('[', 'r'): 1,\n ('(', ')'): 4,\n ('=', ','): 1,\n ('[', 'b'): 1,\n ('p', '['): 10,\n ('[', 's'): 1,\n ('=', 'p'): 3,\n ('l', 't'): 15,\n ('r', 'd'): 12,\n ('e', '.'): 2,\n ('a', '`'): 1,\n ('a', 'g'): 14,\n ('h', 'u'): 2,\n ('d', 'u'): 4,\n ('m', 'c'): 4,\n ('d', 'x'): 2,\n ('s', '1'): 2,\n ('!', ' '): 2,\n ('d', ';'): 1,\n ('#', 's'): 2,\n (';', '.'): 1,\n ('f', 'm'): 4,\n ('s', \"'\"): 6,\n ('-', ' '): 11,\n ('b', 'w'): 3,\n ('s', '-'): 2,\n ('v', 'b'): 14,\n ('l', 'p'): 9,\n ('c', 'l'): 5,\n ('v', 'p'): 3,\n ('L', 'K'): 1,\n ('p', 's'): 8,\n ('t', 'j'): 2,\n ('.', 'n'): 2,\n ('.', 't'): 1,\n ('b', 'h'): 2,\n ('j', 'y'): 1,\n ('k', 's'): 5,\n ('g', 'b'): 5,\n ('d', '.'): 1,\n ('m', '.'): 1,\n ('.', 'm'): 1,\n ('b', 'l'): 2,\n (' ', '9'): 1,\n ('4', '1'): 2,\n ('8', '7'): 2,\n (',', 'c'): 2,\n ('O', ' '): 1,\n (\"'\", 't'): 3,\n (']', ' '): 1,\n (':', 's'): 1,\n ('v', 'r'): 2,\n ('c', 'e'): 16,\n ('1', '0'): 1,\n ('-', '1'): 1,\n ('=', 'e'): 1,\n ('v', ' '): 4,\n ('O', 'o'): 3,\n ('o', 'h'): 6,\n ('z', 'o'): 1,\n ('z', 'u'): 1,\n ('w', 'r'): 5,\n ('h', 'r'): 7,\n ('r', 'g'): 10,\n ('m', 'r'): 6,\n ('g', 'd'): 6,\n ('i', 'm'): 10,\n ('H', 'h'): 1,\n ('i', 'b'): 2,\n ('b', 'f'): 4,\n ('y', 'w'): 3,\n ('d', 'p'): 3,\n ('c', 'f'): 5,\n ('n', 'r'): 12,\n ('F', 'D'): 3,\n ('s', ','): 3,\n ('l', 'm'): 3,\n ('f', 'c'): 4,\n ('.', 'h'): 1,\n ('b', 'u'): 2,\n ('t', \"'\"): 5,\n ('f', 'l'): 7,\n ('y', 'j'): 1,\n ('@', '#'): 1,\n ('k', 'n'): 6,\n ('p', 'e'): 6,\n (' ', 'j'): 3,\n ('f', 'w'): 5,\n ('f', 'a'): 12,\n ('w', 'v'): 3,\n ('g', '.'): 1,\n ('n', '.'): 1,\n ('l', 'v'): 1,\n ('m', 'g'): 2,\n ('v', 't'): 3,\n ('s', '.'): 1,\n ('k', 't'): 3,\n ('p', 'j'): 1,\n ('h', 'p'): 4,\n ('v', 'o'): 4,\n ('f', 'p'): 5,\n ('m', 'v'): 3,\n ('p', 'n'): 4,\n ('g', 'm'): 2,\n ('w', 'f'): 3,\n ('u', 'g'): 2,\n ('*', '('): 4,\n ('2', '1'): 6,\n ('`', '1'): 1,\n ('1', 'a'): 1,\n ('p', 'g'): 3,\n ('\\\\', 'e'): 1,\n ('w', 'm'): 4,\n ('m', 'k'): 2,\n ('a', ';'): 2,\n ('f', 'j'): 1,\n ('y', 'h'): 4,\n ('?', '>'): 3,\n ('x', 'w'): 1,\n ('y', 'z'): 1,\n (',', 'x'): 1,\n ('z', 'x'): 2,\n ('x', ','): 1,\n ('z', 'y'): 1,\n ('f', 'u'): 3,\n ('1', '3'): 1,\n ('d', 'c'): 5,\n ('4', '3'): 7,\n ('>', '<'): 1,\n ('2', '4'): 1,\n ('\\\\', \"'\"): 1,\n ('4', 's'): 1,\n ('5', ','): 1,\n (\"'\", ']'): 1,\n (']', \"'\"): 1,\n ('r', 'h'): 7,\n ('/', ','): 1,\n (\"'\", ';'): 1,\n ('(', 'f'): 1,\n ('>', 'r'): 1,\n ('/', 'f'): 1,\n ('c', '['): 1,\n ('s', 'x'): 2,\n ('t', '.'): 1,\n ('4', 'f'): 1,\n ('2', 'w'): 1,\n (':', ','): 1,\n ('P', '{'): 1,\n (' ', ';'): 1,\n ('T', 't'): 2,\n ('E', 'r'): 1,\n ('h', 'k'): 3,\n ('g', 'h'): 7,\n ('.', ','): 2,\n (',', '3'): 1,\n ('3', '2'): 7,\n ('p', 'f'): 4,\n ('h', 'g'): 6,\n ('A', 'a'): 1,\n ('c', 'm'): 1,\n ('3', 'n'): 1,\n ('j', 's'): 1,\n ('i', '-'): 1,\n ('q', 'g'): 1,\n ('m', 'x'): 1,\n ('0', 'e'): 1,\n ('x', 'o'): 2,\n ('a', 'v'): 9,\n ('o', 'v'): 3,\n ('e', 'q'): 5,\n ('w', 'q'): 1,\n ('u', 'v'): 1,\n ('h', 'j'): 2,\n ('M', 'B'): 1,\n ('z', ' '): 2,\n (' ', 'z'): 1,\n ('c', '.'): 1,\n ('[', 'o'): 2,\n ('m', '2'): 1,\n ('d', '3'): 1,\n ('r', 'j'): 2,\n ('e', '-'): 2,\n ('k', 'x'): 1,\n ('n', 'x'): 1,\n ('x', 't'): 3,\n ('t', '-'): 2,\n ('a', '2'): 1,\n ('j', 'o'): 3,\n ('3', 'l'): 1,\n ('f', '-'): 1,\n ('e', '4'): 1,\n ('k', 'm'): 2,\n ('i', 'j'): 1,\n ('N', 'n'): 3,\n ('I', 'i'): 2,\n ('w', 'c'): 7,\n ('k', 'u'): 2,\n ('-', 'h'): 1,\n ('w', 'n'): 4,\n ('v', 'u'): 1,\n ('.', '1'): 4,\n ('\"', ';'): 1,\n ('I', 'p'): 1,\n ('b', 'j'): 1,\n ('f', 'v'): 3,\n ('j', 'c'): 1,\n ('i', '.'): 2,\n ('W', 's'): 1,\n ('-', 'g'): 1,\n ('f', 'q'): 1,\n ('P', ' '): 1,\n ('/', 'e'): 1,\n ('s', '/'): 2,\n ('-', ','): 3,\n ('f', 's'): 4,\n ('0', '='): 1,\n ('[', '='): 1,\n ('m', 'f'): 1,\n ('U', 'u'): 1,\n (\"'\", 's'): 4,\n ('-', 'o'): 1,\n ('z', 'i'): 2,\n ('m', 'l'): 3,\n ('k', 'd'): 2,\n ('r', 'w'): 2,\n ('u', 'k'): 1,\n ('i', ','): 1,\n ('_', 'e'): 1,\n ('L', 'a'): 1,\n ('o', 'z'): 1,\n (',', '/'): 1,\n (':', '\"'): 3,\n ('\"', 'r'): 1,\n ('4', 'g'): 1,\n ('m', 'j'): 1,\n ('d', 'j'): 1,\n ('.', 'k'): 1,\n ('j', 'k'): 11,\n ('l', 'g'): 5,\n ('n', 'f'): 1,\n ('t', 'b'): 3,\n ('g', ','): 1,\n ('3', '7'): 1,\n ('r', ';'): 1,\n ('e', \"'\"): 1,\n (\"'\", 'u'): 1,\n ('8', '9'): 2,\n ('3', 'a'): 1,\n ('9', 'd'): 1,\n ('o', '='): 1,\n (',', 's'): 2,\n ('a', '3'): 1,\n ('d', '9'): 1,\n ('k', 'p'): 2,\n (\"'\", 'k'): 1,\n ('r', 'b'): 2,\n ('b', 'y'): 3,\n (',', 'r'): 1,\n ('p', 'd'): 2,\n (')', '*'): 1,\n ('h', 'l'): 3,\n ('i', 'z'): 1,\n ('.', '-'): 2,\n ('A', 'L'): 1,\n ('L', 'A'): 1,\n ('A', 'W'): 1,\n ('s', 'q'): 1,\n ('q', 'e'): 3,\n ('O', 'D'): 1,\n ('D', 'O'): 1,\n ('#', '/'): 1,\n ('a', 'k'): 3,\n ('q', 's'): 1,\n ('n', 'v'): 4,\n ('.', 's'): 1,\n ('O', '/'): 1,\n ('8', ' '): 1,\n (' ', 'q'): 1,\n ('a', 'x'): 1,\n ('?', '/'): 1,\n ('s', 'v'): 2,\n ('-', '0'): 3,\n ('8', '0'): 1,\n ('k', '-'): 1,\n ('j', 'u'): 2,\n ('5', '1'): 1,\n ('=', 't'): 3,\n ('c', '-'): 2,\n ('n', 'j'): 1,\n ('i', '0'): 1,\n ('0', 'o'): 1,\n ('j', 'l'): 1,\n ('s', ';'): 1,\n ('y', 'r'): 2,\n ('d', 'y'): 1,\n ('t', 'x'): 2,\n ('r', ','): 1,\n ('l', 'y'): 3,\n ('b', '2'): 1,\n (',', 'e'): 1,\n ('x', 'u'): 1,\n ('q', '2'): 1,\n ('u', '0'): 1,\n ('r', '2'): 1,\n ('a', '0'): 1,\n ('c', '/'): 1,\n ('t', '2'): 1,\n ('d', 'z'): 1,\n ('5', 'g'): 1,\n ('4', 'i'): 1,\n ('5', 't'): 1,\n ('B', 'd'): 1,\n ('K', 'C'): 1,\n (';', 'b'): 1,\n ('r', 'c'): 2,\n (' ', '3'): 2,\n ('O', 'C'): 1,\n ('C', 'o'): 1,\n ('b', '='): 1,\n ('I', 't'): 2,\n ('&', '7'): 2,\n ('S', 'd'): 1,\n ('.', 'l'): 2,\n ('a', '<'): 1,\n ('l', 'P'): 1,\n ('k', 'h'): 1,\n ('y', 'p'): 2,\n ('P', 'u'): 1,\n ('k', 'w'): 1,\n ('s', 'j'): 1,\n ('_', 'P'): 1,\n ('R', 'o'): 1,\n ('0', 'v'): 1,\n ('W', 'o'): 1,\n ('f', 'y'): 1,\n ('(', ' '): 1,\n ('c', '3'): 1,\n ('o', '6'): 1,\n ('p', 'c'): 2,\n ('t', '4'): 1,\n (' ', 'T'): 2,\n ('T', 'O'): 1,\n ('=', 'b'): 1,\n ('u', '='): 1,\n ('g', 'x'): 1,\n ('.', '['): 2,\n ('{', '['): 1,\n ('}', ']'): 1,\n ('y', 'f'): 1,\n ('v', 'n'): 1,\n ('!', '.'): 2,\n ('\"', ')'): 1,\n ('E', ':'): 1,\n ('R', '\"'): 1,\n ('\"', 'E'): 1,\n ('E', 'R'): 1,\n (';', 't'): 1,\n ('u', '['): 1,\n ('[', 'u'): 1,\n ('_', '.'): 1,\n ('/', 'c'): 1,\n ('B', \"'\"): 1,\n (';', 'j'): 1,\n ('0', '.'): 1,\n ('n', '1'): 1,\n ('e', '/'): 1,\n ('3', ' '): 2,\n ('p', 'h'): 1,\n ('/', 'a'): 2,\n ('u', 'w'): 1,\n ('d', 'v'): 1,\n (\"'\", 'n'): 1,\n ('l', '/'): 1,\n ('1', '.'): 3,\n ('e', '1'): 1,\n ('1', ' '): 1,\n ('2', 'h'): 1,\n ('0', '2'): 1,\n ('2', '0'): 1,\n ('2', ' '): 1,\n ('0', 'w'): 1,\n ('/', 'r'): 1,\n ('2', 'i'): 1,\n ('0', 't'): 1,\n ('-', 'b'): 1,\n ('2', 'l'): 1,\n ('0', '1'): 2,\n ('I', 'H'): 1,\n ('I', 'f'): 2,\n ('h', '3'): 1,\n ('_', 's'): 1,\n ('t', ','): 1,\n (',', 't'): 1,\n (')', '_'): 1,\n (')', 'b'): 2,\n ('1', 'r'): 1,\n ('[', 'l'): 1,\n ('e', ','): 1,\n ('=', 'a'): 1,\n (')', 'c'): 1,\n (\"'\", 'r'): 1,\n ('k', 'j'): 2,\n ('$', '#'): 1,\n ('L', 'l'): 1,\n ('2', 'u'): 1,\n (\"'\", 'b'): 1,\n ('[', 't'): 2,\n ('t', 'v'): 1,\n ('E', 'e'): 1,\n ('I', 'U'): 2,\n ('#', '@'): 1,\n ('@', 'A'): 1,\n ('F', 'N'): 1,\n ('a', '.'): 1,\n ('&', '*'): 1,\n ('*', ' '): 1,\n ('g', 'p'): 2,\n ('v', 'w'): 1,\n ('C', 'c'): 1,\n ('I', ' '): 2,\n ('W', ' '): 1,\n ('@', '!'): 1,\n ('/', 'n'): 1,\n ('y', 'b'): 1,\n ('8', 'm'): 1,\n ('7', 'a'): 1,\n ('6', 'd'): 1,\n ('5', 'a'): 1,\n ('n', 'q'): 1,\n ('/', 's'): 1,\n (',', 'h'): 1,\n ('n', 'w'): 1,\n ('(', ':'): 1,\n ('I', 'a'): 3,\n ('v', 'h'): 3,\n ('3', 'c'): 1,\n ('.', 'o'): 1,\n ('h', \"'\"): 1,\n (' ', 'I'): 2,\n (' ', '!'): 1,\n (':', ' '): 3,\n ('2', 'a'): 1,\n ('4', 'p'): 1,\n ('5', 'y'): 1,\n ('v', 'm'): 1,\n ('z', 'q'): 1,\n ('d', ','): 1,\n (',', 'o'): 1,\n ('+', ' '): 2,\n (';', 'r'): 1,\n ('x', 'r'): 1,\n (']', '['): 1,\n ('$', '%'): 1,\n ('D', 'G'): 1,\n ('G', 'D'): 1,\n ('D', 'H'): 1,\n ('(', 'm'): 1,\n ('(', '0'): 1,\n ('8', '6'): 1,\n ('7', '9'): 1,\n ('n', '3'): 1,\n ('7', '8'): 2,\n ('8', '3'): 1,\n ('5', '6'): 3,\n ('u', '7'): 1,\n ('D', 'S'): 1,\n ('P', 'A'): 2,\n ('A', 'P'): 2,\n ('9', '8'): 1,\n ('9', '7'): 1,\n ('{', ' '): 1,\n ('E', 'S'): 1,\n ('{', 's'): 1,\n ('R', 'E'): 1,\n ('1', 'x'): 1,\n ('A', 'S'): 1,\n ('S', ' '): 1,\n ('A', 'B'): 1,\n ('B', 'a'): 1,\n ('a', '\\\\'): 1,\n ('V', 'S'): 1,\n ('S', 'E'): 1,\n ('P', 'Y'): 1,\n (':', 'A'): 1,\n ('R', 'Y'): 1,\n ('Y', 'T'): 1,\n ('T', 'R'): 1,\n ('W', 'O'): 1,\n ('I', 'S'): 1,\n ('P', 'O'): 1,\n ('v', 'l'): 1,\n ('d', '2'): 1,\n ...}"
     },
     "metadata": {},
     "execution_count": 162
    }
   ],
   "source": [
    "incorrect_tuple_frequency"
   ]
  },
  {
   "cell_type": "code",
   "execution_count": 170,
   "metadata": {},
   "outputs": [],
   "source": [
    "finger_with_letters = {\n",
    "    0:{'q','a','z'}, \n",
    "    1:{'w','s','x'}, \n",
    "    2:{'e','d','c'}, \n",
    "    3:{'r','f','v', 't', 'g','b'}, \n",
    "    4:{'u','j','m', 'y','h','n'}, \n",
    "    5:{'i','k',','}, \n",
    "    6:{'o','l','.'}, \n",
    "    7:{'p',';','/'},\n",
    "    }"
   ]
  },
  {
   "cell_type": "code",
   "execution_count": 171,
   "metadata": {},
   "outputs": [],
   "source": [
    "letter_to_finger = dict()\n",
    "for k, v in finger_with_letters.items():\n",
    "    for letter in v:\n",
    "        letter_to_finger[letter] = k"
   ]
  },
  {
   "cell_type": "code",
   "execution_count": 180,
   "metadata": {},
   "outputs": [],
   "source": [
    "def distance(l1, l2):\n",
    "    try:\n",
    "        return abs(letter_to_finger[l1] - letter_to_finger[l2])\n",
    "    except:\n",
    "        return -1"
   ]
  },
  {
   "cell_type": "code",
   "execution_count": 176,
   "metadata": {},
   "outputs": [
    {
     "output_type": "execute_result",
     "data": {
      "text/plain": "3"
     },
     "metadata": {},
     "execution_count": 176
    }
   ],
   "source": [
    "distance('f','a')"
   ]
  },
  {
   "cell_type": "code",
   "execution_count": 177,
   "metadata": {},
   "outputs": [
    {
     "output_type": "error",
     "ename": "SyntaxError",
     "evalue": "invalid syntax (<ipython-input-177-023958f5ef95>, line 14)",
     "traceback": [
      "\u001b[0;36m  File \u001b[0;32m\"<ipython-input-177-023958f5ef95>\"\u001b[0;36m, line \u001b[0;32m14\u001b[0m\n\u001b[0;31m    def\u001b[0m\n\u001b[0m       ^\u001b[0m\n\u001b[0;31mSyntaxError\u001b[0m\u001b[0;31m:\u001b[0m invalid syntax\n"
     ]
    }
   ],
   "source": [
    "class KeyboardLayout:\n",
    "\n",
    "    # class members\n",
    "    # the fingers are denoted in a tupular fashion\n",
    "    # (left|right hand, finger)\n",
    "    # 0: left, 1: right, 0 -- little, 1 -- ring, 2 -- \n",
    "\n",
    "    # maybe not, first we try with a number for each of the 8 fingers\n",
    "    # 0: left pinky\n",
    "    # 3: left index\n",
    "    # 4: right index\n",
    "    # 7: right pinky\n",
    "\n",
    "    def"
   ]
  },
  {
   "cell_type": "code",
   "execution_count": 179,
   "metadata": {},
   "outputs": [
    {
     "output_type": "execute_result",
     "data": {
      "text/plain": "(('h', 'a'), 23)"
     },
     "metadata": {},
     "execution_count": 179
    }
   ],
   "source": [
    "list(incorrect_tuple_frequency.items())[0]"
   ]
  },
  {
   "cell_type": "code",
   "execution_count": 183,
   "metadata": {},
   "outputs": [
    {
     "output_type": "error",
     "ename": "TypeError",
     "evalue": "<lambda>() takes 0 positional arguments but 1 was given",
     "traceback": [
      "\u001b[0;31m---------------------------------------------------------------------------\u001b[0m",
      "\u001b[0;31mTypeError\u001b[0m                                 Traceback (most recent call last)",
      "\u001b[0;32m<ipython-input-183-65e927d4a581>\u001b[0m in \u001b[0;36m<module>\u001b[0;34m\u001b[0m\n\u001b[1;32m      1\u001b[0m \u001b[0mincorrect_tuple_frequency_list\u001b[0m \u001b[0;34m=\u001b[0m  \u001b[0mlist\u001b[0m\u001b[0;34m(\u001b[0m\u001b[0mincorrect_tuple_frequency\u001b[0m\u001b[0;34m.\u001b[0m\u001b[0mitems\u001b[0m\u001b[0;34m(\u001b[0m\u001b[0;34m)\u001b[0m\u001b[0;34m)\u001b[0m\u001b[0;34m\u001b[0m\u001b[0;34m\u001b[0m\u001b[0m\n\u001b[1;32m      2\u001b[0m \u001b[0mfiltered_list\u001b[0m \u001b[0;34m=\u001b[0m \u001b[0mfilter\u001b[0m\u001b[0;34m(\u001b[0m\u001b[0;32mlambda\u001b[0m\u001b[0;34m:\u001b[0m \u001b[0mdistance\u001b[0m\u001b[0;34m(\u001b[0m\u001b[0mx\u001b[0m\u001b[0;34m[\u001b[0m\u001b[0;36m0\u001b[0m\u001b[0;34m]\u001b[0m\u001b[0;34m[\u001b[0m\u001b[0;36m0\u001b[0m\u001b[0;34m]\u001b[0m\u001b[0;34m,\u001b[0m \u001b[0mx\u001b[0m\u001b[0;34m[\u001b[0m\u001b[0;36m0\u001b[0m\u001b[0;34m]\u001b[0m\u001b[0;34m[\u001b[0m\u001b[0;36m1\u001b[0m\u001b[0;34m]\u001b[0m\u001b[0;34m)\u001b[0m \u001b[0;32min\u001b[0m \u001b[0;34m[\u001b[0m\u001b[0;36m0\u001b[0m\u001b[0;34m,\u001b[0m\u001b[0;36m1\u001b[0m\u001b[0;34m,\u001b[0m\u001b[0;36m2\u001b[0m\u001b[0;34m]\u001b[0m\u001b[0;34m,\u001b[0m \u001b[0mincorrect_tuple_frequency_list\u001b[0m\u001b[0;34m)\u001b[0m\u001b[0;34m\u001b[0m\u001b[0;34m\u001b[0m\u001b[0m\n\u001b[0;32m----> 3\u001b[0;31m \u001b[0msorted_list\u001b[0m \u001b[0;34m=\u001b[0m \u001b[0msorted\u001b[0m\u001b[0;34m(\u001b[0m\u001b[0mfiltered_list\u001b[0m\u001b[0;34m,\u001b[0m \u001b[0mkey\u001b[0m\u001b[0;34m=\u001b[0m\u001b[0;32mlambda\u001b[0m \u001b[0mx\u001b[0m\u001b[0;34m:\u001b[0m \u001b[0mx\u001b[0m\u001b[0;34m[\u001b[0m\u001b[0;36m1\u001b[0m\u001b[0;34m]\u001b[0m\u001b[0;34m,\u001b[0m \u001b[0mreverse\u001b[0m\u001b[0;34m=\u001b[0m\u001b[0;32mTrue\u001b[0m\u001b[0;34m)\u001b[0m\u001b[0;34m\u001b[0m\u001b[0;34m\u001b[0m\u001b[0m\n\u001b[0m",
      "\u001b[0;31mTypeError\u001b[0m: <lambda>() takes 0 positional arguments but 1 was given"
     ]
    }
   ],
   "source": []
  },
  {
   "cell_type": "code",
   "execution_count": 196,
   "metadata": {},
   "outputs": [],
   "source": [
    "incorrect_tuple_frequency_symmetric = dict()\n",
    "for l1,l2 in incorrect_tuple_frequency:\n",
    "    if (l2, l1) in incorrect_tuple_frequency_symmetric:\n",
    "        incorrect_tuple_frequency_symmetric[(l2,l1)] += incorrect_tuple_frequency[(l1,l2)]\n",
    "    else:\n",
    "        incorrect_tuple_frequency_symmetric[(l1,l2)] = incorrect_tuple_frequency[(l1,l2)]\n",
    "\n",
    "incorrect_tuple_frequency_list =  list(incorrect_tuple_frequency_symmetric.items())\n"
   ]
  },
  {
   "cell_type": "code",
   "execution_count": 197,
   "metadata": {},
   "outputs": [],
   "source": [
    "filtered_list = list(filter(lambda x: distance(x[0][0], x[0][1]) in {0,1}, incorrect_tuple_frequency_list))\n",
    "sorted_list = sorted(filtered_list, key=lambda x: x[1], reverse=True)\n"
   ]
  },
  {
   "cell_type": "code",
   "execution_count": 198,
   "metadata": {},
   "outputs": [
    {
     "output_type": "execute_result",
     "data": {
      "text/plain": "[(('o', 'i'), 144),\n (('e', 'r'), 135),\n (('r', 't'), 116),\n (('i', 'u'), 108),\n (('t', 'e'), 104),\n (('i', 'n'), 102),\n (('s', 'a'), 82),\n (('s', 'e'), 81),\n (('d', 'f'), 80),\n (('h', 't'), 77),\n (('s', 'd'), 76),\n (('p', 'o'), 69),\n (('t', 'n'), 63),\n (('k', 'l'), 58),\n (('f', 'g'), 56),\n (('d', 'e'), 55),\n (('c', 'v'), 55),\n (('g', 'n'), 53),\n (('w', 'e'), 46),\n (('u', 'y'), 46),\n (('i', 'l'), 45),\n (('t', 'y'), 39),\n (('e', 'c'), 38),\n (('e', 'b'), 36),\n (('.', '/'), 36),\n (('u', 't'), 35),\n (('n', 'b'), 33),\n (('l', 'o'), 31),\n (('u', 'n'), 30),\n (('m', 'n'), 28),\n (('i', 'h'), 27),\n (('d', 't'), 26),\n (('r', 'n'), 25),\n (('r', 'u'), 25),\n (('g', 'r'), 25),\n (('f', 'e'), 24),\n (('w', 'a'), 24),\n (('m', 'i'), 24),\n (('j', 'h'), 23),\n (('b', 'v'), 23),\n (('s', 'c'), 22),\n (('c', 'x'), 22),\n (('e', 'v'), 21),\n (('d', 'r'), 20),\n (('g', 't'), 20),\n (('p', 'l'), 20),\n (('c', 't'), 20),\n (('g', 'e'), 20),\n ((',', '.'), 20),\n ((';', 'l'), 19),\n (('w', 's'), 18),\n (('h', 'n'), 16),\n (('i', 'y'), 15),\n (('m', 't'), 15),\n (('c', 'd'), 14),\n (('m', ','), 14),\n (('h', 'r'), 14),\n (('n', 'k'), 13),\n (('g', 'h'), 13),\n (('j', 'k'), 13),\n (('w', 'd'), 12),\n (('k', 'i'), 12),\n (('r', 'f'), 11),\n (('m', 'b'), 11),\n (('g', 'c'), 10),\n (('c', 'w'), 10),\n (('b', 't'), 10),\n (('a', 'q'), 10),\n (('d', 'g'), 10),\n (('f', 'h'), 9),\n (('o', 'k'), 9),\n (('u', 'm'), 9),\n (('d', 'b'), 9),\n (('h', 'm'), 9),\n (('r', 'm'), 9),\n (('c', 'f'), 9),\n (('t', 'f'), 8),\n (('c', 'r'), 8),\n (('r', 'y'), 8),\n (('g', 'u'), 7),\n (('u', 'b'), 7),\n (('u', 'h'), 7),\n (('h', 'y'), 7),\n (('u', 'j'), 7),\n (('f', 'b'), 7),\n (('j', 'n'), 7),\n (('n', 'y'), 6),\n (('y', 'm'), 6),\n (('b', 'c'), 6),\n (('b', 'g'), 6),\n (('b', 'r'), 6),\n (('u', 'f'), 5),\n (('f', 'm'), 5),\n (('n', 'v'), 5),\n (('g', 'j'), 4),\n (('f', 'n'), 4),\n (('v', 'f'), 4),\n (('s', 'z'), 4),\n (('l', '.'), 4),\n (('r', 'v'), 4),\n (('m', 'g'), 4),\n (('v', 't'), 4),\n (('m', 'v'), 4),\n (('m', 'k'), 4),\n (('h', 'k'), 4),\n (('b', 'y'), 4),\n ((';', 'o'), 3),\n (('.', 'i'), 3),\n (('k', 'u'), 3),\n (('v', 'h'), 3),\n (('j', 'b'), 2),\n (('v', 'g'), 2),\n (('h', ','), 2),\n (('x', 'a'), 2),\n (('d', 'x'), 2),\n (('t', 'j'), 2),\n (('b', 'h'), 2),\n (('j', 'y'), 2),\n (('z', 'x'), 2),\n (('s', 'x'), 2),\n (('u', 'v'), 2),\n (('r', 'j'), 2),\n (('s', 'q'), 2),\n (('f', 'y'), 2),\n (('.', 'o'), 2),\n (('x', 'e'), 1),\n (('g', 'y'), 1),\n (('n', ','), 1),\n (('y', 'k'), 1),\n ((';', '.'), 1),\n (('f', 'j'), 1),\n (('x', 'w'), 1),\n (('w', 'q'), 1),\n (('i', 'j'), 1),\n (('i', ','), 1),\n (('m', 'j'), 1),\n (('.', 'k'), 1),\n (('d', 'v'), 1),\n (('l', '/'), 1),\n (('z', 'q'), 1),\n ((',', 'o'), 1),\n (('l', ','), 1)]"
     },
     "metadata": {},
     "execution_count": 198
    }
   ],
   "source": [
    "sorted_list"
   ]
  },
  {
   "cell_type": "code",
   "execution_count": 189,
   "metadata": {},
   "outputs": [
    {
     "output_type": "execute_result",
     "data": {
      "text/plain": "[2]"
     },
     "metadata": {},
     "execution_count": 189
    }
   ],
   "source": [
    "a = [1,2,3]\n",
    "list(filter(lambda x: x%2 is 0, a))"
   ]
  },
  {
   "cell_type": "code",
   "execution_count": null,
   "metadata": {},
   "outputs": [],
   "source": []
  }
 ],
 "metadata": {
  "language_info": {
   "name": "python",
   "codemirror_mode": {
    "name": "ipython",
    "version": 3
   },
   "version": "3.6.9-final"
  },
  "orig_nbformat": 2,
  "file_extension": ".py",
  "mimetype": "text/x-python",
  "name": "python",
  "npconvert_exporter": "python",
  "pygments_lexer": "ipython3",
  "version": 3,
  "kernelspec": {
   "name": "python36964bitkeyboardvenv652e8eb5eb1b4b62a57f39412fdf8da4",
   "display_name": "Python 3.6.9 64-bit ('keyboard': venv)"
  }
 },
 "nbformat": 4,
 "nbformat_minor": 2
}