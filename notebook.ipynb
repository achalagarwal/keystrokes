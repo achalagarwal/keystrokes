{
 "cells": [
  {
   "cell_type": "code",
   "execution_count": 3,
   "metadata": {},
   "outputs": [],
   "source": [
    "from datetime import datetime\n",
    "from time import strptime\n",
    "from enum import Enum"
   ]
  },
  {
   "cell_type": "code",
   "execution_count": 4,
   "metadata": {},
   "outputs": [],
   "source": [
    "# read a file \n",
    "file1 = open(\"data/logkeys.log\",\"r\") "
   ]
  },
  {
   "cell_type": "code",
   "execution_count": 5,
   "metadata": {},
   "outputs": [],
   "source": [
    "raw_string = file1.read()"
   ]
  },
  {
   "cell_type": "code",
   "execution_count": 6,
   "metadata": {},
   "outputs": [],
   "source": [
    "raw_lines = raw_string.split('\\n')"
   ]
  },
  {
   "cell_type": "code",
   "execution_count": 7,
   "metadata": {},
   "outputs": [],
   "source": [
    "def process_raw_line(raw_line):\n",
    "    date_text = raw_line.split(\" > \")\n",
    "    \n",
    "    try:\n",
    "        # if date_text[0]\n",
    "        if (date_text[0].find(\"Logging stopped\")) > -1 or  (date_text[0].find(\"Logging started\")) > -1:\n",
    "            return None\n",
    "        if date_text[0] == '' and len(date_text) == 1:\n",
    "            return None\n",
    "        assert(len(date_text)==2)\n",
    "        date = date_text[0]\n",
    "        text = date_text[1]\n",
    "        return (strptime(date, \"%Y-%m-%d %H:%M:%S-0700\"), text)\n",
    "    except Exception as e:\n",
    "        print(date_text + \" has a parsing error: len != 2 \" + str(e))\n",
    "    # print(raw_line.split(\" > \"))\n",
    ""
   ]
  },
  {
   "cell_type": "code",
   "execution_count": 8,
   "metadata": {
    "tags": [
     "outputPrepend",
     "outputPrepend"
    ]
   },
   "outputs": [],
   "source": [
    "clean_lines = []\n",
    "for raw_line in raw_lines:\n",
    "    # print(raw_line)\n",
    "    line = process_raw_line(raw_line)\n",
    "    if line:\n",
    "        clean_lines.append(line)"
   ]
  },
  {
   "cell_type": "code",
   "execution_count": 9,
   "metadata": {},
   "outputs": [],
   "source": [
    "# the first 70 lines are from an incorrect keyboard layout\n",
    "clean_lines = clean_lines[70:]"
   ]
  },
  {
   "cell_type": "code",
   "execution_count": 10,
   "metadata": {},
   "outputs": [
    {
     "output_type": "execute_result",
     "data": {
      "text/plain": "'<Enter>which llk'"
     },
     "metadata": {},
     "execution_count": 10
    }
   ],
   "source": [
    "clean_lines[71][1]"
   ]
  },
  {
   "cell_type": "code",
   "execution_count": 11,
   "metadata": {},
   "outputs": [
    {
     "output_type": "error",
     "ename": "SyntaxError",
     "evalue": "invalid syntax (<ipython-input-11-27df08927e61>, line 1)",
     "traceback": [
      "\u001b[0;36m  File \u001b[0;32m\"<ipython-input-11-27df08927e61>\"\u001b[0;36m, line \u001b[0;32m1\u001b[0m\n\u001b[0;31m    'AltGr': SpecialCharacters.ALT,\u001b[0m\n\u001b[0m                                  ^\u001b[0m\n\u001b[0;31mSyntaxError\u001b[0m\u001b[0;31m:\u001b[0m invalid syntax\n"
     ]
    }
   ],
   "source": [
    "'AltGr': SpecialCharacters.ALT,\n",
    "        'BckSp': SpecialCharacters.BACKSPACE,\n",
    "        'CpsLk': SpecialCharacters.IGNORE,\n",
    "        'Del': SpecialCharacters.DELETE,\n",
    "        'Down': SpecialCharacters.ARROW,\n",
    "        'Enter': SpecialCharacters.ENTER,\n",
    "        'Esc': SpecialCharacters.ESC,\n",
    "        'F12': SpecialCharacters.FUNC,\n",
    "        'F4': SpecialCharacters.FUNC,\n",
    "        'Ins': SpecialCharacters.INS,\n",
    "        'KP0': SpecialCharacters.KEYPAD,\n",
    "        'KP1': SpecialCharacters.KEYPAD,\n",
    "        'KP2': SpecialCharacters.KEYPAD,\n",
    "        'KP3': SpecialCharacters.KEYPAD,\n",
    "        'KP4': SpecialCharacters.KEYPAD,\n",
    "        'KP5': SpecialCharacters.KEYPAD,\n",
    "        'KP6': SpecialCharacters.KEYPAD,\n",
    "        'KP7': SpecialCharacters.KEYPAD,\n",
    "        'KP8': SpecialCharacters.KEYPAD,\n",
    "        'KP9': SpecialCharacters.KEYPAD,\n",
    "        'KPEnt': SpecialCharacters.KEYPAD,\n",
    "        'LAlt': SpecialCharacters.ALT,\n",
    "        'RAlt': SpecialCharacters.ALT,\n",
    "        'LCtrl': SpecialCharacters.CTRL,\n",
    "        'LMeta': SpecialCharacters.OS,\n",
    "        'RMeta': SpecialCharacters.OS,\n",
    "        'LShft': SpecialCharacters.SHIFT,\n",
    "        'Left': SpecialCharacters.ARROW,\n",
    "        'Menu': SpecialCharacters.MENU,\n",
    "        'NumLk'\n",
    "        'PgUp': SpecialCharacters.PGUP,\n",
    "        'RCtrl': SpecialCharacters.CTRL,\n",
    "        'RShft': SpecialCharacters.SHIFT,\n",
    "        'Right': SpecialCharacters.ARROW,\n",
    "        'Tab': SpecialCharacters.TAB,\n",
    "        'Up': SpecialCharacters.ARROW,"
   ]
  },
  {
   "cell_type": "code",
   "execution_count": 56,
   "metadata": {},
   "outputs": [],
   "source": [
    "class SpecialCharacters(Enum):\n",
    "    BACKSPACE = 1\n",
    "    CTRL = 2\n",
    "    SHIFT = 3\n",
    "    OS = 4\n",
    "    ALT = 5\n",
    "    ARROW = 6\n",
    "    ENTER = 7\n",
    "    DELETE = 8\n",
    "    IGNORE = 9\n",
    "    REPEAT = 10\n",
    "    FUNC = 11\n",
    "    KEYPAD = 12\n",
    "    ESC = 13\n",
    "    INS = 14\n",
    "    MENU = 15\n",
    "    PGUP = 16\n",
    "    TAB = 17\n",
    "    META = 18"
   ]
  },
  {
   "cell_type": "markdown",
   "metadata": {},
   "source": [
    "clean_lines"
   ]
  },
  {
   "cell_type": "code",
   "execution_count": 13,
   "metadata": {},
   "outputs": [],
   "source": [
    "import re"
   ]
  },
  {
   "cell_type": "code",
   "execution_count": 14,
   "metadata": {},
   "outputs": [
    {
     "output_type": "execute_result",
     "data": {
      "text/plain": "(time.struct_time(tm_year=2020, tm_mon=3, tm_mday=25, tm_hour=23, tm_min=25, tm_sec=44, tm_wday=2, tm_yday=85, tm_isdst=-1),\n 'cc')"
     },
     "metadata": {},
     "execution_count": 14
    }
   ],
   "source": [
    "clean_lines[12]"
   ]
  },
  {
   "cell_type": "code",
   "execution_count": 15,
   "metadata": {
    "tags": [
     "outputPrepend",
     "outputPrepend"
    ]
   },
   "outputs": [
    {
     "output_type": "stream",
     "name": "stdout",
     "text": "['Enter', 'BckSp', 'LShft', 'BckSp', 'LShft', '#+12', 'LMeta', 'LMeta', '#+1', '#+1', 'LMeta', 'LCtrl', 'LShft', 'LMeta', '#+36', 'BckSp', 'BckSp', 'LCtrl', 'BckSp', 'BckSp', 'BckSp', 'BckSp', 'BckSp', 'BckSp', 'LShft', 'LShft', 'LShft', 'LShft', 'LShft', 'LCtrl', 'LMeta', 'LMeta', 'BckSp', 'BckSp', 'BckSp', 'LShft', 'LShft', 'LShft', '?<BckSp', 'Right', 'LShft', 'LShft', 'LShft', '#+8', 'LCtrl', 'LShft', 'vec<LCtrl', 'LShft', 'Left', 'LCtrl', '#+15', 'LCtrl', 'LMeta', 'LMeta', 'Left', 'LCtrl', '#+4', 'LShft', 'LShft', '#+24', 'LShft', '', 'LCtrl', 'LShft']\n['LCtrl', 'LCtrl', 'LCtrl', 'LCtrl', 'Right', 'LShft', 'LShft', '', 'Left', 'LShft', 'LCtrl', '#+1', 'LCtrl', '#+13', 'BckSp', 'BckSp', 'LShft', 'LCtrl', 'RShft', '<RShft', 'LCtrl', 'LShft', 'Down']\n['Enter', 'Up', 'BckSp', 'BckSp', 'BckSp', 'BckSp', 'BckSp', 'BckSp', 'LShft', 'LShft', 'LShft', 'LShft', 'BckSp', 'LShft', '', 'LCtrl', 'Right', 'Right', 'Left', 'LShft', 'LShft', 'LAlt', 'BckSp', 'BckSp', 'BckSp']\n['Enter', 'Down', 'Left', 'BckSp', 'BckSp', 'BckSp', 'LShft', 'LShft', '', 'LCtrl', 'Left', 'Left', 'Left', 'Right', 'BckSp', 'BckSp', 'BckSp', 'BckSp', 'BckSp', 'BckSp', 'Tab', 'BckSp', 'BckSp', 'BckSp', 'LCtrl', 'RShft', 'Right', 'BckSp', 'LCtrl', 'RShft', 'BckSp', 'BckSp', 'RShft', 'BckSp', '#+31', 'BckSp', 'BckSp', 'BckSp']\n['Enter', 'Left', 'Left', 'LCtrl', 'Left', 'Left', 'Left', 'Left', 'LShft', '', 'Left', 'LCtrl', 'Left', 'Left', 'Left', 'Left', 'LShft', 'BckSp', 'RShft', '<Right', 'Right', 'Right', 'Right', 'Right', 'RShft', 'Left', 'Left', 'Left', 'Right', 'LShft']\n['Enter', 'LShft', 'LCtrl', '#+6', 'Left', 'LShft', '', 'Left', 'LShft', 'LShft', '_', 'LCtrl', 'LCtrl', 'LShft', 'LCtrl', '#+3', 'LCtrl', 'LCtrl', 'LCtrl']\n['Enter', 'LMeta', 'LMeta', 'LMeta', 'LMeta', 'LMeta', 'LShft', '#+4', 'BckSp', 'Left', 'Left', 'BckSp', 'Down', 'BckSp', 'BckSp', 'LCtrl', '#+17', 'LShft', 'LShft', 'LShft', '', 'Left', 'LShft', 'LShft', '', 'LShft', 'LCtrl', 'RShft', 'LMeta', 'LMeta', '#+81', 'LMeta', '#+19', 'LShft', 'BckSp', '#+37', 'LShft', 'LShft', 'BckSp', 'BckSp', 'BckSp']\n['Enter', 'LMeta', 'LMeta', 'LMeta', 'LMeta', 'LMeta', 'LShft', '#+4', 'BckSp', 'Left', 'Left', 'BckSp', 'Down', 'BckSp', 'BckSp', 'LCtrl', '#+17', 'LShft', 'LShft', 'LShft', '', 'Left', 'LShft', 'LShft', '', 'LShft', 'LCtrl', 'RShft', 'LMeta', 'LMeta', '#+81', 'LMeta', '#+19', 'LShft', 'BckSp', '#+37', 'LShft', 'LShft', 'BckSp', 'BckSp', 'BckSp']\n['Enter', 'LShft', '', 'Left', 'LCtrl', 'Esc', 'RShft', 'LShft']\n['Enter', 'LCtrl', 'LCtrl', '#+11', 'LCtrl', '#+8', 'LCtrl', 'LShft', '#+1', 'LCtrl', 'LShft', 'BckSp', 'LShft', 'LShft', 'BckSp', 'BckSp', 'LShft', 'LShft', 'LShft', '#+5', 'LShft', 'LShft', 'BckSp', 'BckSp', 'LShft', 'LShft', '#+1', 'LShft', '', 'Down', 'Left', 'Down', 'Left', 'LCtrl', '#+41', 'LCtrl', '#+11', 'BckSp', 'LCtrl', 'Right', 'Right', 'Right', 'Right', 'Right', 'BckSp', 'BckSp', 'LShft', '<LShft', 'Down']\n"
    }
   ],
   "source": [
    "seen = set()\n",
    "for l in clean_lines:\n",
    "    specials = (re.findall(r'\\<(.*?)\\>', l[1]))\n",
    "    for special in specials:\n",
    "        try:\n",
    "            if special[0] != '#':\n",
    "                seen.add(special)\n",
    "        except:\n",
    "            print(specials)"
   ]
  },
  {
   "cell_type": "code",
   "execution_count": 16,
   "metadata": {},
   "outputs": [
    {
     "output_type": "execute_result",
     "data": {
      "text/plain": "{' .de;ta<BckSp',\n ' 0 would mean <BckSp',\n ' 0<LShft',\n ' <BckSp',\n ' <LCtrl',\n ' = and <RShft',\n ' b.best<Down',\n ' length<BckSp',\n ' self.<LShft',\n \"'<LCtrl\",\n '-<BckSp',\n '3 <LShft',\n '3 off<LShft',\n '<#+2',\n '<<<<BckSp',\n '<BckSp',\n '<LCtrl',\n '<LShft',\n '<RShft',\n '<Right',\n '?<BckSp',\n 'AltGr',\n 'BckSp',\n 'Camera<LShft',\n 'CpsLk',\n 'Del',\n 'Down',\n 'End',\n 'Enter',\n 'Esc',\n 'F1',\n 'F11',\n 'F12',\n 'F2',\n 'F3',\n 'F4',\n 'F5',\n 'F6',\n 'Home',\n 'Ins',\n 'KP+',\n 'KP.',\n 'KP0',\n 'KP1',\n 'KP2',\n 'KP3',\n 'KP4',\n 'KPEnt',\n 'LAlt',\n 'LCtrl',\n 'LMeta',\n 'LShft',\n 'Left',\n 'Menu',\n 'NumLk',\n 'PgDn',\n 'PgUp',\n 'RCtrl',\n 'RMeta',\n 'RShft',\n 'Right',\n 'Sizt<BckSp',\n 'Stron<BckSp',\n 'T',\n 'T,<LShft',\n 'T<BckSp',\n 'T<LCtrl',\n 'Tab',\n 'Up',\n 'Widget<LShft',\n '_',\n 'char<LShft',\n 'deep-melissa-repo<LShft',\n 'int.<LShft',\n 'int<LShft',\n 'iny<BckSp',\n 'logdir<LShft',\n 'nu,<LShft',\n 'num<LShft',\n 'p<BckSp',\n 'period<LShft',\n 'spave<LShft',\n 'ty<RShft',\n 'type<BckSp',\n 'type<LShft',\n 'typename <LShft',\n 'typename quad<LShft',\n 'typename type<LShft',\n 'vec<LCtrl',\n 'yup<BckSp'}"
     },
     "metadata": {},
     "execution_count": 16
    }
   ],
   "source": [
    "seen"
   ]
  },
  {
   "cell_type": "code",
   "execution_count": 17,
   "metadata": {},
   "outputs": [],
   "source": [
    "def ensure_length(string, length, source):\n",
    "    remaining = length - len(string)\n",
    "    if remaining > 0:\n",
    "        return string + source.get(remaining)\n",
    "    else:\n",
    "        return string"
   ]
  },
  {
   "cell_type": "code",
   "execution_count": 49,
   "metadata": {},
   "outputs": [],
   "source": [
    "def streamify(source):\n",
    "    string = source.get(10)\n",
    "    processed = 0\n",
    "    i = -1\n",
    "    symbol = None\n",
    "    last_returned = None\n",
    "    while(1):\n",
    "        # symbols detected previously are stored in symbol\n",
    "        if symbol:\n",
    "            last_returned = symbol\n",
    "            yield symbol\n",
    "            symbol = None\n",
    "            continue\n",
    "        \n",
    "        i += 1\n",
    "        \n",
    "        try:\n",
    "            char = string[i]\n",
    "        except:\n",
    "            processed += len(string)\n",
    "            i = 0\n",
    "            string = source.get(10)\n",
    "            char = string[i]\n",
    "\n",
    "        if char == '<':\n",
    "            start = i\n",
    "            end = None\n",
    "            subsymstr = \"\"\n",
    "            # print(\"char < detected\")\n",
    "            string = ensure_length(string, 10+start, source)\n",
    "\n",
    "            # lookup next 10 characters:\n",
    "            \n",
    "            # hook to check for <#+k> entries that denotes repeat the previous entry k times\n",
    "            # flag = True\n",
    "            if string[start+1:start+3] == '#+':\n",
    "                # print(\"#+ detected\")\n",
    "                end_bracket_at = string[start+3:].find('>')\n",
    "                if end_bracket_at is not -1:\n",
    "                    try:\n",
    "                        repeat_times = int(string[start+3:start+3+end_bracket_at])\n",
    "                        # print(\"This needs to be repeated: \", repeat_times)\n",
    "                        # now we repeat the previously returned string that many times\n",
    "                        while repeat_times > 0:\n",
    "                            repeat_times -= 1\n",
    "                            yield last_returned\n",
    "\n",
    "                        end = start+3+end_bracket_at\n",
    "                        i = end\n",
    "                        continue\n",
    "                    except:\n",
    "                        # not a symbol denoting repeat entries\n",
    "                        pass\n",
    "            # print(\"starting symbol detection\")\n",
    "            # # this flag is false if the special symbol was a repeat k times symbol\n",
    "            # if flag:\n",
    "            for j,char in enumerate(string[start+1:]):\n",
    "                if char == '<':\n",
    "                    \n",
    "                    # this means that we have consumed till end, \n",
    "                    # here as end = start, we have consumed till start\n",
    "                    # which means that we revert the search\n",
    "                    end = start\n",
    "                    # flag = True\n",
    "                    break\n",
    "\n",
    "                elif char =='>':\n",
    "\n",
    "                    # we have detected a less than and a greater than\n",
    "                    try:\n",
    "                        symbol = enumize(subsymstr)\n",
    "                        # there were j characters in subsymstr\n",
    "                        end = j+start+1\n",
    "                    except:\n",
    "                        # symbol not found error\n",
    "                        # print(\"symbol not found error\")\n",
    "                        end = start\n",
    "\n",
    "                    # anyway we break because a greater than will never be there in a special enum\n",
    "                    # flag = True\n",
    "                    break\n",
    "\n",
    "                elif j == 9:\n",
    "                    # flag = True\n",
    "                    end = start\n",
    "                    break\n",
    "\n",
    "                else:\n",
    "                    subsymstr += char\n",
    "            # set current index to end\n",
    "            i = end\n",
    "            if symbol:\n",
    "                # the symbol will be returned on top\n",
    "                continue\n",
    "            # otherwise the current char will be returned\n",
    "            last_returned = string[i]\n",
    "            # print(\"b\",end, start, i)\n",
    "            yield string[i]\n",
    "            # after every yield we need to restart\n",
    "            continue\n",
    "        # if not <\n",
    "        # print(\"l\",i)\n",
    "        last_returned = string[i]\n",
    "        yield string[i]\n",
    "         "
   ]
  },
  {
   "cell_type": "code",
   "execution_count": 50,
   "metadata": {},
   "outputs": [],
   "source": [
    "# create a helper function that given a source streamifies it?"
   ]
  },
  {
   "cell_type": "code",
   "execution_count": 64,
   "metadata": {},
   "outputs": [],
   "source": [
    "class Source:\n",
    "    def __init__(self, strings, join_with=\"<Split>\"):\n",
    "        self.string = join_with.join(strings)\n",
    "        self.index = 0\n",
    "    def get(self,count):\n",
    "        slice = self.string[self.index:self.index+count]\n",
    "        self.index += count\n",
    "        return slice\n",
    "    def streamify(self):\n",
    "        return streamify(self)"
   ]
  },
  {
   "cell_type": "code",
   "execution_count": null,
   "metadata": {},
   "outputs": [],
   "source": []
  },
  {
   "cell_type": "code",
   "execution_count": 60,
   "metadata": {},
   "outputs": [],
   "source": [
    "source = Source(lines, join_with='<Split>')"
   ]
  },
  {
   "cell_type": "code",
   "execution_count": 65,
   "metadata": {},
   "outputs": [],
   "source": [
    "dummy_source = Source(['<LAlt>','<#+3>'], join_with='<Split>')"
   ]
  },
  {
   "cell_type": "code",
   "execution_count": 66,
   "metadata": {},
   "outputs": [],
   "source": [
    "dg = dummy_source.streamify()"
   ]
  },
  {
   "cell_type": "code",
   "execution_count": null,
   "metadata": {},
   "outputs": [],
   "source": []
  },
  {
   "cell_type": "code",
   "execution_count": 91,
   "metadata": {},
   "outputs": [],
   "source": [
    "lines = list(map(lambda x: x[1], clean_lines))"
   ]
  },
  {
   "cell_type": "code",
   "execution_count": 92,
   "metadata": {},
   "outputs": [],
   "source": [
    "lines = list(map(lambda x: x[1], clean_lines))\n",
    "source = Source(lines, join_with='<Split>')\n",
    "stream = source.streamify()"
   ]
  },
  {
   "cell_type": "code",
   "execution_count": 53,
   "metadata": {},
   "outputs": [],
   "source": [
    "generator = streamify(source)"
   ]
  },
  {
   "cell_type": "code",
   "execution_count": 62,
   "metadata": {},
   "outputs": [],
   "source": [
    "dummy_generator = streamify(dummy_source)"
   ]
  },
  {
   "cell_type": "code",
   "execution_count": 67,
   "metadata": {},
   "outputs": [
    {
     "output_type": "stream",
     "name": "stdout",
     "text": "SpecialCharacters.ALT\nSpecialCharacters.META\nSpecialCharacters.META\nSpecialCharacters.META\nSpecialCharacters.META\n"
    },
    {
     "output_type": "error",
     "ename": "IndexError",
     "evalue": "string index out of range",
     "traceback": [
      "\u001b[0;31m---------------------------------------------------------------------------\u001b[0m",
      "\u001b[0;31mIndexError\u001b[0m                                Traceback (most recent call last)",
      "\u001b[0;32m<ipython-input-49-54072fb14b10>\u001b[0m in \u001b[0;36mstreamify\u001b[0;34m(source)\u001b[0m\n\u001b[1;32m     17\u001b[0m         \u001b[0;32mtry\u001b[0m\u001b[0;34m:\u001b[0m\u001b[0;34m\u001b[0m\u001b[0;34m\u001b[0m\u001b[0m\n\u001b[0;32m---> 18\u001b[0;31m             \u001b[0mchar\u001b[0m \u001b[0;34m=\u001b[0m \u001b[0mstring\u001b[0m\u001b[0;34m[\u001b[0m\u001b[0mi\u001b[0m\u001b[0;34m]\u001b[0m\u001b[0;34m\u001b[0m\u001b[0;34m\u001b[0m\u001b[0m\n\u001b[0m\u001b[1;32m     19\u001b[0m         \u001b[0;32mexcept\u001b[0m\u001b[0;34m:\u001b[0m\u001b[0;34m\u001b[0m\u001b[0;34m\u001b[0m\u001b[0m\n",
      "\u001b[0;31mIndexError\u001b[0m: string index out of range",
      "\nDuring handling of the above exception, another exception occurred:\n",
      "\u001b[0;31mIndexError\u001b[0m                                Traceback (most recent call last)",
      "\u001b[0;32m<ipython-input-67-769376b96fe7>\u001b[0m in \u001b[0;36m<module>\u001b[0;34m\u001b[0m\n\u001b[1;32m      1\u001b[0m \u001b[0;32mwhile\u001b[0m \u001b[0;36m1\u001b[0m\u001b[0;34m:\u001b[0m\u001b[0;34m\u001b[0m\u001b[0;34m\u001b[0m\u001b[0m\n\u001b[0;32m----> 2\u001b[0;31m     \u001b[0mprint\u001b[0m\u001b[0;34m(\u001b[0m\u001b[0mnext\u001b[0m\u001b[0;34m(\u001b[0m\u001b[0mdg\u001b[0m\u001b[0;34m)\u001b[0m\u001b[0;34m)\u001b[0m\u001b[0;34m\u001b[0m\u001b[0;34m\u001b[0m\u001b[0m\n\u001b[0m",
      "\u001b[0;32m<ipython-input-49-54072fb14b10>\u001b[0m in \u001b[0;36mstreamify\u001b[0;34m(source)\u001b[0m\n\u001b[1;32m     21\u001b[0m             \u001b[0mi\u001b[0m \u001b[0;34m=\u001b[0m \u001b[0;36m0\u001b[0m\u001b[0;34m\u001b[0m\u001b[0;34m\u001b[0m\u001b[0m\n\u001b[1;32m     22\u001b[0m             \u001b[0mstring\u001b[0m \u001b[0;34m=\u001b[0m \u001b[0msource\u001b[0m\u001b[0;34m.\u001b[0m\u001b[0mget\u001b[0m\u001b[0;34m(\u001b[0m\u001b[0;36m10\u001b[0m\u001b[0;34m)\u001b[0m\u001b[0;34m\u001b[0m\u001b[0;34m\u001b[0m\u001b[0m\n\u001b[0;32m---> 23\u001b[0;31m             \u001b[0mchar\u001b[0m \u001b[0;34m=\u001b[0m \u001b[0mstring\u001b[0m\u001b[0;34m[\u001b[0m\u001b[0mi\u001b[0m\u001b[0;34m]\u001b[0m\u001b[0;34m\u001b[0m\u001b[0;34m\u001b[0m\u001b[0m\n\u001b[0m\u001b[1;32m     24\u001b[0m \u001b[0;34m\u001b[0m\u001b[0m\n\u001b[1;32m     25\u001b[0m         \u001b[0;32mif\u001b[0m \u001b[0mchar\u001b[0m \u001b[0;34m==\u001b[0m \u001b[0;34m'<'\u001b[0m\u001b[0;34m:\u001b[0m\u001b[0;34m\u001b[0m\u001b[0;34m\u001b[0m\u001b[0m\n",
      "\u001b[0;31mIndexError\u001b[0m: string index out of range"
     ]
    }
   ],
   "source": [
    "while 1:\n",
    "    print(next(dg))"
   ]
  },
  {
   "cell_type": "code",
   "execution_count": 54,
   "metadata": {
    "tags": [
     "outputPrepend",
     "outputPrepend",
     "outputPrepend",
     "outputPrepend",
     "outputPrepend",
     "outputPrepend",
     "outputPrepend",
     "outputPrepend",
     "outputPrepend",
     "outputPrepend",
     "outputPrepend",
     "outputPrepend",
     "outputPrepend",
     "outputPrepend",
     "outputPrepend",
     "outputPrepend",
     "outputPrepend",
     "outputPrepend",
     "outputPrepend",
     "outputPrepend",
     "outputPrepend",
     "outputPrepend",
     "outputPrepend",
     "outputPrepend",
     "outputPrepend",
     "outputPrepend",
     "outputPrepend",
     "outputPrepend",
     "outputPrepend",
     "outputPrepend",
     "outputPrepend",
     "outputPrepend",
     "outputPrepend",
     "outputPrepend",
     "outputPrepend",
     "outputPrepend",
     "outputPrepend",
     "outputPrepend",
     "outputPrepend",
     "outputPrepend",
     "outputPrepend",
     "outputPrepend",
     "outputPrepend",
     "outputPrepend",
     "outputPrepend",
     "outputPrepend",
     "outputPrepend",
     "outputPrepend",
     "outputPrepend",
     "outputPrepend",
     "outputPrepend",
     "outputPrepend",
     "outputPrepend",
     "outputPrepend",
     "outputPrepend",
     "outputPrepend"
    ]
   },
   "outputs": [
    {
     "output_type": "stream",
     "name": "stdout",
     "text": "ialCharacters.CTRL\na\nSpecialCharacters.BACKSPACE\nSpecialCharacters.SHIFT\n@\nt\nh\ne\n\n\nSpecialCharacters.ENTER\ni\ns\n \nSpecialCharacters.BACKSPACE\nSpecialCharacters.BACKSPACE\nSpecialCharacters.BACKSPACE\nd\ni\nd\n \nt\nh\ne\n \nSpecialCharacters.BACKSPACE\nSpecialCharacters.BACKSPACE\nSpecialCharacters.BACKSPACE\nSpecialCharacters.BACKSPACE\ny\no\nu\n \nt\nr\ny\n \nt\nh\ne\nSpecialCharacters.BACKSPACE\nSpecialCharacters.BACKSPACE\nSpecialCharacters.BACKSPACE\nSpecialCharacters.BACKSPACE\nSpecialCharacters.BACKSPACE\nSpecialCharacters.BACKSPACE\nSpecialCharacters.BACKSPACE\nSpecialCharacters.BACKSPACE\nSpecialCharacters.BACKSPACE\nSpecialCharacters.BACKSPACE\nSpecialCharacters.BACKSPACE\nSpecialCharacters.BACKSPACE\nSpecialCharacters.BACKSPACE\nSpecialCharacters.BACKSPACE\nSpecialCharacters.BACKSPACE\nSpecialCharacters.BACKSPACE\nSpecialCharacters.BACKSPACE\nSpecialCharacters.BACKSPACE\nSpecialCharacters.BACKSPACE\nSpecialCharacters.BACKSPACE\nSpecialCharacters.BACKSPACE\nSpecialCharacters.BACKSPACE\nSpecialCharacters.BACKSPACE\nSpecialCharacters.BACKSPACE\nl\ne\nt\ns\n \ng\nSpecialCharacters.BACKSPACE\nt\nr\ny\n \nt\nh\ne\n \nn\ne\nw\n \nb\nu\nc\nk\ne\nt\n \nl\ne\na\nr\ne\nn\nSpecialCharacters.BACKSPACE\nSpecialCharacters.BACKSPACE\nn\ne\nr\nSpecialCharacters.SHIFT\n!\nSpecialCharacters.CTRL\nSpecialCharacters.ARROW\nSpecialCharacters.ARROW\ni\nz\ne\nd\n\n\nSpecialCharacters.ENTER\nSpecialCharacters.SHIFT\nU\nSpecialCharacters.BACKSPACE\nSpecialCharacters.BACKSPACE\nSpecialCharacters.SHIFT\nI\nt\n \nc\no\nu\nl\nd\n \na\nl\ns\no\n \nb\ne\n \nb\ne\nc\na\nu\ns\ne\n \no\nf\n \ne\np\no\nc\nh\ns\nSpecialCharacters.CTRL\nSpecialCharacters.ARROW\nm\nu\nl\nt\ni\np\nl\ne\n \nSpecialCharacters.CTRL\nSpecialCharacters.ARROW\nSpecialCharacters.ARROW\nSpecialCharacters.ARROW\nSpecialCharacters.ARROW\nSpecialCharacters.ARROW\nSpecialCharacters.ARROW\nSpecialCharacters.ARROW\nSpecialCharacters.ARROW\nSpecialCharacters.ARROW\nSpecialCharacters.ARROW\nSpecialCharacters.ARROW\nSpecialCharacters.ARROW\nSpecialCharacters.ARROW\nSpecialCharacters.ARROW\nSpecialCharacters.ARROW\nSpecialCharacters.ARROW\nSpecialCharacters.ARROW\nSpecialCharacters.ARROW\nSpecialCharacters.ARROW\nSpecialCharacters.ARROW\nSpecialCharacters.ARROW\nSpecialCharacters.ARROW\nSpecialCharacters.ARROW\nSpecialCharacters.ARROW\nSpecialCharacters.ARROW\nSpecialCharacters.ARROW\nSpecialCharacters.ARROW\nSpecialCharacters.ARROW\nSpecialCharacters.ARROW\nSpecialCharacters.ARROW\nSpecialCharacters.ARROW\nSpecialCharacters.ARROW\nSpecialCharacters.ARROW\nSpecialCharacters.ARROW\nSpecialCharacters.ARROW\nSpecialCharacters.SHIFT\nT\nh\ne\n \ng\no\no\ng\n \nr\nSpecialCharacters.BACKSPACE\nSpecialCharacters.BACKSPACE\nSpecialCharacters.BACKSPACE\nd\n \nr\ne\ns\nu\nl\nt\ns\n \nb\ne\nf\ng\nSpecialCharacters.BACKSPACE\no\nr\ne\n \nc\no\nu\nl\nd\nSpecialCharacters.BACKSPACE\nd\n \na\nl\nSpecialCharacters.SHIFT\nSpecialCharacters.ARROW\nSpecialCharacters.ARROW\nSpecialCharacters.ARROW\nSpecialCharacters.ARROW\nSpecialCharacters.ARROW\nSpecialCharacters.ARROW\nSpecialCharacters.ARROW\nSpecialCharacters.ARROW\nSpecialCharacters.ARROW\nSpecialCharacters.ARROW\nSpecialCharacters.ARROW\nSpecialCharacters.ARROW\nSpecialCharacters.ARROW\nSpecialCharacters.ARROW\nSpecialCharacters.ARROW\nSpecialCharacters.ARROW\nSpecialCharacters.BACKSPACE\nSpecialCharacters.BACKSPACE\nSpecialCharacters.BACKSPACE\nSpecialCharacters.BACKSPACE\nSpecialCharacters.CTRL\nSpecialCharacters.ARROW\nSpecialCharacters.ARROW\nSpecialCharacters.ARROW\nSpecialCharacters.ARROW\nSpecialCharacters.ARROW\nSpecialCharacters.BACKSPACE\nSpecialCharacters.BACKSPACE\nSpecialCharacters.SHIFT\nSpecialCharacters.SHIFT\nSpecialCharacters.SHIFT\nSpecialCharacters.SHIFT\nSpecialCharacters.SHIFT\nSpecialCharacters.SHIFT\nh\na\nv\ne\n \nb\ne\ne\nn\n \nt\nh\ne\nr\nSpecialCharacters.BACKSPACE\n \nr\ne\ns\nu\nl\nt\ns\nSpecialCharacters.SHIFT\nSpecialCharacters.ARROW\nSpecialCharacters.ARROW\nSpecialCharacters.ARROW\nSpecialCharacters.ARROW\nSpecialCharacters.ARROW\nSpecialCharacters.ARROW\nSpecialCharacters.ARROW\nSpecialCharacters.ARROW\nSpecialCharacters.ARROW\nSpecialCharacters.ARROW\nSpecialCharacters.ARROW\nSpecialCharacters.ARROW\nSpecialCharacters.ARROW\nSpecialCharacters.ARROW\nSpecialCharacters.ARROW\nSpecialCharacters.ARROW\nSpecialCharacters.ARROW\nSpecialCharacters.ARROW\nSpecialCharacters.ARROW\nSpecialCharacters.ARROW\nSpecialCharacters.ARROW\nSpecialCharacters.BACKSPACE\nSpecialCharacters.BACKSPACE\nv\nt\nSpecialCharacters.BACKSPACE\nr\nt\ni\nc\ne\ns\nSpecialCharacters.ARROW\nSpecialCharacters.ARROW\nSpecialCharacters.ARROW\nSpecialCharacters.ARROW\nSpecialCharacters.ARROW\nSpecialCharacters.ARROW\no\n\n\nSpecialCharacters.ENTER\ni\nt\n \ni\ns\n \nc\ny\nc\nl\ni\nc\n \nl\ne\na\nr\nn\ni\nn\ng\n \nr\na\nt\ne\n \nw\ni\nt\nh\n \nSpecialCharacters.BACKSPACE\nSpecialCharacters.BACKSPACE\nSpecialCharacters.BACKSPACE\nSpecialCharacters.BACKSPACE\nSpecialCharacters.BACKSPACE\nSpecialCharacters.BACKSPACE\nSpecialCharacters.BACKSPACE\nSpecialCharacters.BACKSPACE\nSpecialCharacters.BACKSPACE\nSpecialCharacters.BACKSPACE\nSpecialCharacters.CTRL\nSpecialCharacters.ARROW\nSpecialCharacters.ARROW\nSpecialCharacters.ARROW\nSpecialCharacters.ARROW\na\nn\n \nu\nn\nb\ni\na\ns\ne\nd\n \nSpecialCharacters.CTRL\nSpecialCharacters.ARROW\nSpecialCharacters.ARROW\nSpecialCharacters.ARROW\nSpecialCharacters.CTRL\nSpecialCharacters.ARROW\nSpecialCharacters.BACKSPACE\nSpecialCharacters.BACKSPACE\n\n\nSpecialCharacters.ENTER\nh\no\nw\ne\nv\nSpecialCharacters.BACKSPACE\nSpecialCharacters.BACKSPACE\nSpecialCharacters.BACKSPACE\nSpecialCharacters.BACKSPACE\nSpecialCharacters.BACKSPACE\nSpecialCharacters.BACKSPACE\nSpecialCharacters.BACKSPACE\nSpecialCharacters.BACKSPACE\nSpecialCharacters.BACKSPACE\nSpecialCharacters.BACKSPACE\nSpecialCharacters.BACKSPACE\nSpecialCharacters.BACKSPACE\nSpecialCharacters.BACKSPACE\nSpecialCharacters.BACKSPACE\nSpecialCharacters.BACKSPACE\nSpecialCharacters.BACKSPACE\nSpecialCharacters.BACKSPACE\nSpecialCharacters.BACKSPACE\nSpecialCharacters.BACKSPACE\nb\nu\nt\n \nw\nt\nSpecialCharacters.BACKSPACE\ni\nt\nh\n \nm\no\nr\ne\n \np\nq\na\nSpecialCharacters.BACKSPACE\nSpecialCharacters.BACKSPACE\na\nr\na\nm\ne\nt\ne\nr\ns\n,\n \nt\nh\ne\n \nn\nm\nSpecialCharacters.BACKSPACE\nu\nm\nb\ne\nr\n \nf\no\n \ne\nSpecialCharacters.BACKSPACE\nSpecialCharacters.BACKSPACE\nSpecialCharacters.BACKSPACE\nSpecialCharacters.BACKSPACE\no\nf\n \ne\np\no\nc\nh\ns\n \nw\ni\nl\nl\n \nd\ne\nc\ne\nr\nSpecialCharacters.BACKSPACE\nSpecialCharacters.BACKSPACE\nr\ne\na\ns\ne\nSpecialCharacters.SHIFT\n?\nSpecialCharacters.BACKSPACE\nw\nSpecialCharacters.BACKSPACE\n\n\nSpecialCharacters.ENTER\nt\nh\na\nt\n \nc\no\nu\nl\nd\n \nb\ne\n \na\n \nf\na\nc\nt\no\nr\n\n\nSpecialCharacters.ENTER\nw\nh\na\nt\nSpecialCharacters.BACKSPACE\nSpecialCharacters.BACKSPACE\nSpecialCharacters.BACKSPACE\nSpecialCharacters.BACKSPACE\nSpecialCharacters.BACKSPACE\nSpecialCharacters.BACKSPACE\nSpecialCharacters.BACKSPACE\nSpecialCharacters.BACKSPACE\nSpecialCharacters.BACKSPACE\nSpecialCharacters.BACKSPACE\nSpecialCharacters.BACKSPACE\nSpecialCharacters.BACKSPACE\nSpecialCharacters.BACKSPACE\nSpecialCharacters.BACKSPACE\nSpecialCharacters.BACKSPACE\nh\no\nw\n \nm\na\nn\ny\n \ne\np\no\nc\nh\ns\n \na\nr\ne\n \nw\ne\n \nf\no\ni\nSpecialCharacters.BACKSPACE\nSpecialCharacters.BACKSPACE\nSpecialCharacters.BACKSPACE\nd\no\ni\nn\ng\n \nr\ni\ng\nh\nt\n \nn\nw\nSpecialCharacters.BACKSPACE\no\nw\nSpecialCharacters.SHIFT\n?\n\n\nSpecialCharacters.ENTER\no\nh\n \nSpecialCharacters.SHIFT\nI\n \nt\nSpecialCharacters.BACKSPACE\nSpecialCharacters.BACKSPACE\nSpecialCharacters.BACKSPACE\nSpecialCharacters.BACKSPACE\nSpecialCharacters.BACKSPACE\nSpecialCharacters.BACKSPACE\nSpecialCharacters.BACKSPACE\ne\nSpecialCharacters.BACKSPACE\nSpecialCharacters.BACKSPACE\nSpecialCharacters.BACKSPACE\nSpecialCharacters.BACKSPACE\nSpecialCharacters.BACKSPACE\nSpecialCharacters.BACKSPACE\nSpecialCharacters.BACKSPACE\nSpecialCharacters.BACKSPACE\nSpecialCharacters.BACKSPACE\nSpecialCharacters.BACKSPACE\nSpecialCharacters.BACKSPACE\nSpecialCharacters.BACKSPACE\nSpecialCharacters.BACKSPACE\nSpecialCharacters.BACKSPACE\nSpecialCharacters.BACKSPACE\nSpecialCharacters.BACKSPACE\nSpecialCharacters.BACKSPACE\nSpecialCharacters.BACKSPACE\nSpecialCharacters.BACKSPACE\nSpecialCharacters.BACKSPACE\nSpecialCharacters.BACKSPACE\nSpecialCharacters.BACKSPACE\nSpecialCharacters.BACKSPACE\nSpecialCharacters.BACKSPACE\nSpecialCharacters.BACKSPACE\nSpecialCharacters.BACKSPACE\nSpecialCharacters.BACKSPACE\nSpecialCharacters.BACKSPACE\nSpecialCharacters.BACKSPACE\nSpecialCharacters.BACKSPACE\nSpecialCharacters.BACKSPACE\nSpecialCharacters.BACKSPACE\nSpecialCharacters.BACKSPACE\nSpecialCharacters.BACKSPACE\nSpecialCharacters.BACKSPACE\nSpecialCharacters.BACKSPACE\nSpecialCharacters.BACKSPACE\nSpecialCharacters.BACKSPACE\nSpecialCharacters.BACKSPACE\nSpecialCharacters.BACKSPACE\nSpecialCharacters.BACKSPACE\nSpecialCharacters.BACKSPACE\nSpecialCharacters.BACKSPACE\nSpecialCharacters.BACKSPACE\nSpecialCharacters.BACKSPACE\nSpecialCharacters.BACKSPACE\nSpecialCharacters.BACKSPACE\nSpecialCharacters.BACKSPACE\nSpecialCharacters.BACKSPACE\nSpecialCharacters.BACKSPACE\nSpecialCharacters.BACKSPACE\nSpecialCharacters.BACKSPACE\nSpecialCharacters.BACKSPACE\nSpecialCharacters.BACKSPACE\nSpecialCharacters.BACKSPACE\nSpecialCharacters.BACKSPACE\nSpecialCharacters.BACKSPACE\nSpecialCharacters.BACKSPACE\nSpecialCharacters.BACKSPACE\nSpecialCharacters.BACKSPACE\nSpecialCharacters.BACKSPACE\nSpecialCharacters.BACKSPACE\nSpecialCharacters.BACKSPACE\nSpecialCharacters.BACKSPACE\nSpecialCharacters.BACKSPACE\nSpecialCharacters.BACKSPACE\nSpecialCharacters.BACKSPACE\nSpecialCharacters.BACKSPACE\nSpecialCharacters.BACKSPACE\nSpecialCharacters.BACKSPACE\nSpecialCharacters.BACKSPACE\nSpecialCharacters.BACKSPACE\nSpecialCharacters.BACKSPACE\nSpecialCharacters.BACKSPACE\nSpecialCharacters.BACKSPACE\nSpecialCharacters.BACKSPACE\nSpecialCharacters.BACKSPACE\nSpecialCharacters.BACKSPACE\nSpecialCharacters.BACKSPACE\nSpecialCharacters.BACKSPACE\nSpecialCharacters.BACKSPACE\nSpecialCharacters.BACKSPACE\nSpecialCharacters.BACKSPACE\nSpecialCharacters.BACKSPACE\nSpecialCharacters.BACKSPACE\nSpecialCharacters.BACKSPACE\nSpecialCharacters.BACKSPACE\nSpecialCharacters.BACKSPACE\nSpecialCharacters.BACKSPACE\nSpecialCharacters.BACKSPACE\nSpecialCharacters.BACKSPACE\nSpecialCharacters.BACKSPACE\nSpecialCharacters.BACKSPACE\nSpecialCharacters.BACKSPACE\nSpecialCharacters.BACKSPACE\nSpecialCharacters.BACKSPACE\nSpecialCharacters.BACKSPACE\nSpecialCharacters.BACKSPACE\nSpecialCharacters.BACKSPACE\nSpecialCharacters.BACKSPACE\nSpecialCharacters.BACKSPACE\nSpecialCharacters.BACKSPACE\nSpecialCharacters.BACKSPACE\nSpecialCharacters.BACKSPACE\nSpecialCharacters.BACKSPACE\nSpecialCharacters.BACKSPACE\nSpecialCharacters.BACKSPACE\nSpecialCharacters.BACKSPACE\nSpecialCharacters.BACKSPACE\nSpecialCharacters.BACKSPACE\nSpecialCharacters.BACKSPACE\nSpecialCharacters.BACKSPACE\nSpecialCharacters.BACKSPACE\nSpecialCharacters.BACKSPACE\nSpecialCharacters.BACKSPACE\nSpecialCharacters.BACKSPACE\nSpecialCharacters.BACKSPACE\nSpecialCharacters.BACKSPACE\nSpecialCharacters.BACKSPACE\nSpecialCharacters.BACKSPACE\nSpecialCharacters.BACKSPACE\nSpecialCharacters.BACKSPACE\nSpecialCharacters.BACKSPACE\nSpecialCharacters.BACKSPACE\nSpecialCharacters.BACKSPACE\nSpecialCharacters.BACKSPACE\nSpecialCharacters.BACKSPACE\nSpecialCharacters.BACKSPACE\nSpecialCharacters.BACKSPACE\nSpecialCharacters.BACKSPACE\nSpecialCharacters.BACKSPACE\nSpecialCharacters.BACKSPACE\nSpecialCharacters.BACKSPACE\nSpecialCharacters.BACKSPACE\nSpecialCharacters.BACKSPACE\nSpecialCharacters.BACKSPACE\nSpecialCharacters.BACKSPACE\nSpecialCharacters.BACKSPACE\nSpecialCharacters.BACKSPACE\nSpecialCharacters.BACKSPACE\nSpecialCharacters.BACKSPACE\nSpecialCharacters.BACKSPACE\nSpecialCharacters.BACKSPACE\nSpecialCharacters.BACKSPACE\nSpecialCharacters.BACKSPACE\nSpecialCharacters.BACKSPACE\nSpecialCharacters.BACKSPACE\nSpecialCharacters.BACKSPACE\nSpecialCharacters.BACKSPACE\na\nr\ne\n \ny\no\nu\n \ns\nu\nr\ne\n \nSpecialCharacters.CTRL\na\nSpecialCharacters.BACKSPACE\nd\ni\nd\n \nt\nh\ne\n \nt\nr\na\ni\nn\ni\nn\ng\n \nt\ni\nm\ne\n \nn\nSpecialCharacters.BACKSPACE\ni\nn\nc\nr\ne\na\ns\ne\n \ni\nn\n \n6\n0\n \nl\na\ny\ne\nr\ns\nSpecialCharacters.SHIFT\n?\n\n\nSpecialCharacters.ENTER\nt\nh\ne\nr\ne\n \nc\no\nu\nl\nd\n \nb\ne\n \na\n \nb\nu\ng\n \ni\nn\n \nSpecialCharacters.BACKSPACE\nSpecialCharacters.BACKSPACE\nSpecialCharacters.BACKSPACE\nSpecialCharacters.BACKSPACE\nSpecialCharacters.BACKSPACE\nSpecialCharacters.BACKSPACE\nSpecialCharacters.BACKSPACE\nSpecialCharacters.BACKSPACE\nSpecialCharacters.BACKSPACE\nSpecialCharacters.BACKSPACE\nSpecialCharacters.BACKSPACE\nSpecialCharacters.BACKSPACE\nSpecialCharacters.BACKSPACE\nSpecialCharacters.BACKSPACE\nSpecialCharacters.BACKSPACE\nSpecialCharacters.BACKSPACE\nSpecialCharacters.BACKSPACE\nSpecialCharacters.BACKSPACE\nSpecialCharacters.BACKSPACE\nSpecialCharacters.BACKSPACE\nSpecialCharacters.BACKSPACE\nSpecialCharacters.BACKSPACE\nSpecialCharacters.BACKSPACE\nSpecialCharacters.BACKSPACE\nSpecialCharacters.BACKSPACE\nSpecialCharacters.BACKSPACE\nSpecialCharacters.BACKSPACE\nSpecialCharacters.BACKSPACE\nSpecialCharacters.BACKSPACE\nSpecialCharacters.BACKSPACE\nSpecialCharacters.BACKSPACE\nSpecialCharacters.BACKSPACE\nSpecialCharacters.BACKSPACE\nSpecialCharacters.BACKSPACE\nSpecialCharacters.BACKSPACE\nSpecialCharacters.BACKSPACE\nSpecialCharacters.BACKSPACE\nSpecialCharacters.BACKSPACE\nSpecialCharacters.BACKSPACE\nSpecialCharacters.BACKSPACE\nSpecialCharacters.BACKSPACE\nSpecialCharacters.BACKSPACE\nSpecialCharacters.BACKSPACE\nSpecialCharacters.BACKSPACE\nSpecialCharacters.BACKSPACE\nSpecialCharacters.BACKSPACE\ni\nt\ns\n \np\no\ns\ns\ni\nb\nl\ne\n \nt\nh\na\nt\n \ni\nSpecialCharacters.BACKSPACE\nw\ne\n \nd\ni\nd\nn\nt\n \nh\na\nv\ne\n \n6\n0\n,\n \nt\nh\ne\nr\ne\n \nc\no\nu\nl\nd\n \nh\na\nb\ne\n \nn\nSpecialCharacters.BACKSPACE\nSpecialCharacters.BACKSPACE\nSpecialCharacters.BACKSPACE\nSpecialCharacters.BACKSPACE\nv\ne\n \nb\ne\ne\nn\n \na\n \nb\nu\ng\n \ns\no\nm\ne\nw\nh\ne\nr\ne\nSpecialCharacters.CTRL\nSpecialCharacters.ARROW\nSpecialCharacters.ARROW\nSpecialCharacters.ARROW\nSpecialCharacters.ARROW\nSpecialCharacters.ARROW\nSpecialCharacters.ARROW\nSpecialCharacters.ARROW\nSpecialCharacters.ARROW\nSpecialCharacters.ARROW\nSpecialCharacters.ARROW\nSpecialCharacters.ARROW\nSpecialCharacters.ARROW\nSpecialCharacters.ARROW\nSpecialCharacters.ARROW\nSpecialCharacters.ARROW\nSpecialCharacters.ARROW\nSpecialCharacters.ARROW\nSpecialCharacters.ARROW\nSpecialCharacters.ARROW\nSpecialCharacters.ARROW\nSpecialCharacters.ARROW\nSpecialCharacters.ARROW\nSpecialCharacters.ARROW\nSpecialCharacters.ARROW\nSpecialCharacters.ARROW\nSpecialCharacters.ARROW\nSpecialCharacters.ARROW\nSpecialCharacters.ARROW\nSpecialCharacters.ARROW\nSpecialCharacters.ARROW\nSpecialCharacters.ARROW\nSpecialCharacters.ARROW\nSpecialCharacters.ARROW\nSpecialCharacters.ARROW\nSpecialCharacters.ARROW\nSpecialCharacters.ARROW\nSpecialCharacters.ARROW\nSpecialCharacters.ARROW\nSpecialCharacters.ARROW\nSpecialCharacters.ARROW\nSpecialCharacters.ARROW\nSpecialCharacters.ARROW\nSpecialCharacters.ARROW\nSpecialCharacters.ARROW\nSpecialCharacters.ARROW\nSpecialCharacters.ARROW\nSpecialCharacters.ARROW\nSpecialCharacters.ARROW\nSpecialCharacters.ARROW\nSpecialCharacters.ARROW\nSpecialCharacters.ARROW\nSpecialCharacters.ARROW\nSpecialCharacters.ARROW\nSpecialCharacters.ARROW\nSpecialCharacters.ARROW\nSpecialCharacters.SHIFT\nI\n \na\nm\n \na\ns\nk\ni\nn\ng\n \nb\ne\nc\na\nu\ns\ne\n \n\n\nSpecialCharacters.ENTER\nSpecialCharacters.SHIFT\nI\n \nj\nu\ns\nt\n \nw\no\nk\ne\n \nu\np\n \na\nn\nd\n \ns\na\nw\n \nt\nh\ne\n \ns\nl\na\nc\nk\n \nt\nh\nr\ne\na\nd\n \nw\ni\nt\nh\n \nm\ne\ns\ns\na\ng\ne\nd\nSpecialCharacters.BACKSPACE\ns\n,\n \ns\no\n \nc\nh\ni\np\np\ne\nd\n \ni\nn\n.\nSpecialCharacters.BACKSPACE\n \nSpecialCharacters.SHIFT\n:\ns\nw\ne\na\n\n\nSpecialCharacters.ENTER\nSpecialCharacters.SHIFT\n\n\nSpecialCharacters.ENTER\n\n\nSpecialCharacters.ENTER\nw\nSpecialCharacters.BACKSPACE\ng\no\ni\nn\ng\n \nt\no\n \ng\no\n \nd\no\nSpecialCharacters.BACKSPACE\nSpecialCharacters.BACKSPACE\nf\no\nr\n \na\n \nr\nu\nn\n \nSpecialCharacters.BACKSPACE\nSpecialCharacters.BACKSPACE\nSpecialCharacters.BACKSPACE\nSpecialCharacters.BACKSPACE\nSpecialCharacters.BACKSPACE\nSpecialCharacters.BACKSPACE\nSpecialCharacters.BACKSPACE\nSpecialCharacters.BACKSPACE\nSpecialCharacters.BACKSPACE\nSpecialCharacters.BACKSPACE\nSpecialCharacters.BACKSPACE\nSpecialCharacters.BACKSPACE\nSpecialCharacters.BACKSPACE\nSpecialCharacters.BACKSPACE\nSpecialCharacters.BACKSPACE\nSpecialCharacters.BACKSPACE\nSpecialCharacters.BACKSPACE\nSpecialCharacters.BACKSPACE\nSpecialCharacters.BACKSPACE\nSpecialCharacters.BACKSPACE\nSpecialCharacters.BACKSPACE\nSpecialCharacters.BACKSPACE\nSpecialCharacters.BACKSPACE\nSpecialCharacters.BACKSPACE\nSpecialCharacters.BACKSPACE\nSpecialCharacters.BACKSPACE\nSpecialCharacters.BACKSPACE\nSpecialCharacters.BACKSPACE\nSpecialCharacters.BACKSPACE\nSpecialCharacters.BACKSPACE\nSpecialCharacters.BACKSPACE\nSpecialCharacters.BACKSPACE\nSpecialCharacters.BACKSPACE\nSpecialCharacters.SHIFT\nT\nh\nSpecialCharacters.BACKSPACE\nSpecialCharacters.BACKSPACE\nSpecialCharacters.BACKSPACE\nSpecialCharacters.BACKSPACE\nSpecialCharacters.BACKSPACE\nSpecialCharacters.BACKSPACE\nSpecialCharacters.SHIFT\n:\n)\n\n\nSpecialCharacters.ENTER\nSpecialCharacters.SHIFT\nY\ne\na\nh\n \ni\nt\ns\n \nSpecialCharacters.SHIFT\n&\nSpecialCharacters.BACKSPACE\n7\nSpecialCharacters.SHIFT\n:\n1\n5\n\n\nSpecialCharacters.ENTER\nt\nh\na\nt\nSpecialCharacters.BACKSPACE\nSpecialCharacters.BACKSPACE\ne\nn\n \nw\ne\n \nc\no\nu\nl\nd\n \nh\na\nv\ne\n \na\nn\n \ne\nr\nr\no\nr\n \ns\nd\nSpecialCharacters.BACKSPACE\nSpecialCharacters.BACKSPACE\ns\no\nm\ne\nh\nSpecialCharacters.BACKSPACE\nw\nh\ne\nr\ne\n.\nSpecialCharacters.BACKSPACE\nSpecialCharacters.CTRL\na\nSpecialCharacters.BACKSPACE\na\nSpecialCharacters.BACKSPACE\nSpecialCharacters.SHIFT\nI\n \nc\na\nn\n \nl\no\nk\nSpecialCharacters.BACKSPACE\no\nk\n \na\nt\n \ni\nSpecialCharacters.BACKSPACE\nt\nSpecialCharacters.BACKSPACE\ni\nt\n \nw\ni\nt\nh\n \ny\no\nu\n,\n \ng\no\ni\nn\nSpecialCharacters.BACKSPACE\nSpecialCharacters.BACKSPACE\nSpecialCharacters.BACKSPACE\nSpecialCharacters.BACKSPACE\nh\no\nw\n \na\nb\no\nu\nt\n \ni\nn\n \n4\n5\n \nm\ni\nn\ns\nSpecialCharacters.SHIFT\n?\n \nSpecialCharacters.CTRL\na\nx\nSpecialCharacters.CTRL\nv\n\n\nSpecialCharacters.ENTER\no\nr\n \ni\nf\n \nt\nh\na\nt\ns\n \nl\na\nt\ne\n,\n \nw\nSpecialCharacters.BACKSPACE\ny\no\nu\n \nc\no\nu\nl\nd\n \nt\nr\ny\n \nt\nh\ne\n \nn\ne\nw\n \nb\nu\nc\nk\ne\nt\n \nl\ne\na\nr\nn\ne\nr\n\n\nSpecialCharacters.ENTER\na\nn\nd\n \nt\nh\ne\nn\n \nw\nSpecialCharacters.BACKSPACE\nw\nSpecialCharacters.BACKSPACE\nSpecialCharacters.SHIFT\nI\n \ng\no\n \nSpecialCharacters.BACKSPACE\nSpecialCharacters.BACKSPACE\nSpecialCharacters.BACKSPACE\nc\no\nu\nl\nd\n \ng\no\n \nt\nh\nr\no\nu\n=\nSpecialCharacters.CTRL\na\nSpecialCharacters.BACKSPACE\ny\ne\nSpecialCharacters.BACKSPACE\nSpecialCharacters.BACKSPACE\nSpecialCharacters.BACKSPACE\nt\nh\na\nt\n \nw\no\nSpecialCharacters.BACKSPACE\no\nu\nl\nd\n \nb\ne\n \nt\nh\ne\n \nd\ne\ne\np\n \nm\ne\nl\ni\nd\ns\nSpecialCharacters.BACKSPACE\nSpecialCharacters.BACKSPACE\ns\na\ns\nSpecialCharacters.BACKSPACE\nSpecialCharacters.BACKSPACE\ns\na\n \nw\nh\ni\nc\nh\n \nSpecialCharacters.SHIFT\nI\n \ni\nn\ns\nt\na\nl\nl\ne\ne\nd\nm\n=\nSpecialCharacters.BACKSPACE\nSpecialCharacters.BACKSPACE\n,\n \nSpecialCharacters.SHIFT\nI\n \nw\no\nu\nSpecialCharacters.BACKSPACE\nSpecialCharacters.BACKSPACE\nSpecialCharacters.BACKSPACE\nSpecialCharacters.BACKSPACE\nSpecialCharacters.BACKSPACE\na\n \nl\no\nt\n \nh\na\ns\n \nc\nh\na\nn\ng\ne\nd\n \nSpecialCharacters.SHIFT\n(\na\ns\n \nSpecialCharacters.SHIFT\nI\n \nc\nh\na\nn\ng\ne\nd\n \nSpecialCharacters.SHIFT\nSpecialCharacters.SHIFT\nSpecialCharacters.SHIFT\nSpecialCharacters.SHIFT\ng\nt\ni\nSpecialCharacters.BACKSPACE\nSpecialCharacters.BACKSPACE\ni\nt\n \nh\ni\ns\nt\no\nr\ny\nSpecialCharacters.SHIFT\n)\nSpecialCharacters.SHIFT\n\n\nSpecialCharacters.ENTER\n\n\nSpecialCharacters.ENTER\nSpecialCharacters.BACKSPACE\n \ns\ni\nn\nc\ne\n \nt\nh\ne\nn\n\n\nSpecialCharacters.ENTER\ne\nSpecialCharacters.BACKSPACE\nSpecialCharacters.BACKSPACE\nSpecialCharacters.SHIFT\n \nSpecialCharacters.BACKSPACE\nSpecialCharacters.SHIFT\nY\ne\na\nh\n,\nSpecialCharacters.CTRL\na\nSpecialCharacters.SHIFT\n@\nb\nr\nu\nn\no\n \nb\nu\ni\nSpecialCharacters.BACKSPACE\nu\nSpecialCharacters.BACKSPACE\nt\n \nt\nSpecialCharacters.BACKSPACE\ny\ne\na\nh\n \nf\no\nr\n \na\n \nf\nr\ne\nn\nSpecialCharacters.BACKSPACE\ns\nh\n \ni\nn\ns\nt\na\nl\nl\na\nl\nt\no\nSpecialCharacters.BACKSPACE\nSpecialCharacters.BACKSPACE\ni\no\nn\n \nSpecialCharacters.BACKSPACE\nSpecialCharacters.BACKSPACE\nSpecialCharacters.BACKSPACE\nSpecialCharacters.BACKSPACE\nSpecialCharacters.BACKSPACE\nSpecialCharacters.BACKSPACE\nSpecialCharacters.BACKSPACE\nSpecialCharacters.BACKSPACE\nSpecialCharacters.BACKSPACE\nSpecialCharacters.BACKSPACE\nSpecialCharacters.BACKSPACE\nSpecialCharacters.BACKSPACE\na\nt\ni\no\nn\n,\n \ng\ni\nt\n \nc\nl\no\nn\ne\n \n-\n-\nr\ne\nc\nu\nr\ns\ni\nv\ne\nSpecialCharacters.CTRL\nSpecialCharacters.CTRL\nSpecialCharacters.ARROW\nSpecialCharacters.ARROW\nSpecialCharacters.ARROW\nSpecialCharacters.ARROW\n \nr\ne\nm\no\nv\ne\n \nt\nh\ne\n \nw\nh\no\nl\ne\n \nd\ni\nr\ne\nc\nt\no\nr\ny\n \na\nn\nd\nSpecialCharacters.ARROW\n`\n`\n`\nSpecialCharacters.CTRL\nSpecialCharacters.ARROW\nSpecialCharacters.ARROW\nSpecialCharacters.ARROW\nSpecialCharacters.ARROW\nSpecialCharacters.ARROW\nSpecialCharacters.ARROW\n \nSpecialCharacters.SHIFT\n"
    },
    {
     "output_type": "error",
     "ename": "TypeError",
     "evalue": "string indices must be integers",
     "traceback": [
      "\u001b[0;31m---------------------------------------------------------------------------\u001b[0m",
      "\u001b[0;31mTypeError\u001b[0m                                 Traceback (most recent call last)",
      "\u001b[0;32m<ipython-input-54-0fe1d64e9351>\u001b[0m in \u001b[0;36m<module>\u001b[0;34m\u001b[0m\n\u001b[1;32m      1\u001b[0m \u001b[0;32mwhile\u001b[0m \u001b[0;36m1\u001b[0m\u001b[0;34m:\u001b[0m\u001b[0;34m\u001b[0m\u001b[0;34m\u001b[0m\u001b[0m\n\u001b[0;32m----> 2\u001b[0;31m     \u001b[0mprint\u001b[0m\u001b[0;34m(\u001b[0m\u001b[0mnext\u001b[0m\u001b[0;34m(\u001b[0m\u001b[0mgenerator\u001b[0m\u001b[0;34m)\u001b[0m\u001b[0;34m)\u001b[0m\u001b[0;34m\u001b[0m\u001b[0;34m\u001b[0m\u001b[0m\n\u001b[0m",
      "\u001b[0;32m<ipython-input-49-54072fb14b10>\u001b[0m in \u001b[0;36mstreamify\u001b[0;34m(source)\u001b[0m\n\u001b[1;32m     94\u001b[0m                 \u001b[0;32mcontinue\u001b[0m\u001b[0;34m\u001b[0m\u001b[0;34m\u001b[0m\u001b[0m\n\u001b[1;32m     95\u001b[0m             \u001b[0;31m# otherwise the current char will be returned\u001b[0m\u001b[0;34m\u001b[0m\u001b[0;34m\u001b[0m\u001b[0;34m\u001b[0m\u001b[0m\n\u001b[0;32m---> 96\u001b[0;31m             \u001b[0mlast_returned\u001b[0m \u001b[0;34m=\u001b[0m \u001b[0mstring\u001b[0m\u001b[0;34m[\u001b[0m\u001b[0mi\u001b[0m\u001b[0;34m]\u001b[0m\u001b[0;34m\u001b[0m\u001b[0;34m\u001b[0m\u001b[0m\n\u001b[0m\u001b[1;32m     97\u001b[0m             \u001b[0;31m# print(\"b\",end, start, i)\u001b[0m\u001b[0;34m\u001b[0m\u001b[0;34m\u001b[0m\u001b[0;34m\u001b[0m\u001b[0m\n\u001b[1;32m     98\u001b[0m             \u001b[0;32myield\u001b[0m \u001b[0mstring\u001b[0m\u001b[0;34m[\u001b[0m\u001b[0mi\u001b[0m\u001b[0;34m]\u001b[0m\u001b[0;34m\u001b[0m\u001b[0;34m\u001b[0m\u001b[0m\n",
      "\u001b[0;31mTypeError\u001b[0m: string indices must be integers"
     ]
    }
   ],
   "source": [
    "while 1:\n",
    "    print(next(generator))"
   ]
  },
  {
   "cell_type": "code",
   "execution_count": 58,
   "metadata": {},
   "outputs": [],
   "source": [
    "def enumize(string):\n",
    "    d = {\n",
    "        'AltGr': SpecialCharacters.ALT,\n",
    "        'BckSp': SpecialCharacters.BACKSPACE,\n",
    "        'CpsLk': SpecialCharacters.IGNORE,\n",
    "        'Del': SpecialCharacters.DELETE,\n",
    "        'Down': SpecialCharacters.ARROW,\n",
    "        'Enter': SpecialCharacters.ENTER,\n",
    "        'Esc': SpecialCharacters.ESC,\n",
    "        'F12': SpecialCharacters.FUNC,\n",
    "        'F4': SpecialCharacters.FUNC,\n",
    "        'Ins': SpecialCharacters.INS,\n",
    "        'KP0': SpecialCharacters.KEYPAD,\n",
    "        'KP1': SpecialCharacters.KEYPAD,\n",
    "        'KP2': SpecialCharacters.KEYPAD,\n",
    "        'KP3': SpecialCharacters.KEYPAD,\n",
    "        'KP4': SpecialCharacters.KEYPAD,\n",
    "        'KP5': SpecialCharacters.KEYPAD,\n",
    "        'KP6': SpecialCharacters.KEYPAD,\n",
    "        'KP7': SpecialCharacters.KEYPAD,\n",
    "        'KP8': SpecialCharacters.KEYPAD,\n",
    "        'KP9': SpecialCharacters.KEYPAD,\n",
    "        'KPEnt': SpecialCharacters.KEYPAD,\n",
    "        'LAlt': SpecialCharacters.ALT,\n",
    "        'RAlt': SpecialCharacters.ALT,\n",
    "        'LCtrl': SpecialCharacters.CTRL,\n",
    "        'LMeta': SpecialCharacters.OS,\n",
    "        'RMeta': SpecialCharacters.OS,\n",
    "        'LShft': SpecialCharacters.SHIFT,\n",
    "        'Left': SpecialCharacters.ARROW,\n",
    "        'Menu': SpecialCharacters.MENU,\n",
    "        'NumLk': SpecialCharacters.IGNORE,\n",
    "        'PgUp': SpecialCharacters.PGUP,\n",
    "        'RCtrl': SpecialCharacters.CTRL,\n",
    "        'RShft': SpecialCharacters.SHIFT,\n",
    "        'Right': SpecialCharacters.ARROW,\n",
    "        'Tab': SpecialCharacters.TAB,\n",
    "        'Up': SpecialCharacters.ARROW,\n",
    "        'Split': SpecialCharacters.META\n",
    "    }\n",
    "    return d[string]"
   ]
  },
  {
   "cell_type": "code",
   "execution_count": 27,
   "metadata": {},
   "outputs": [
    {
     "output_type": "execute_result",
     "data": {
      "text/plain": "<SpecialCharacters.SHIFT: 3>"
     },
     "metadata": {},
     "execution_count": 27
    }
   ],
   "source": [
    "enumize(\"LShft\")"
   ]
  },
  {
   "cell_type": "code",
   "execution_count": 68,
   "metadata": {},
   "outputs": [],
   "source": [
    "# take a stream and start performing operations on it"
   ]
  },
  {
   "cell_type": "code",
   "execution_count": 75,
   "metadata": {},
   "outputs": [],
   "source": [
    "import rx\n",
    "from rx import operators as ops\n"
   ]
  },
  {
   "cell_type": "code",
   "execution_count": 73,
   "metadata": {},
   "outputs": [],
   "source": [
    "source = rx.of(Source(lines).streamify())"
   ]
  },
  {
   "cell_type": "code",
   "execution_count": 85,
   "metadata": {},
   "outputs": [
    {
     "output_type": "error",
     "ename": "SyntaxError",
     "evalue": "invalid syntax (<ipython-input-85-acbea3984ea9>, line 5)",
     "traceback": [
      "\u001b[0;36m  File \u001b[0;32m\"<ipython-input-85-acbea3984ea9>\"\u001b[0;36m, line \u001b[0;32m5\u001b[0m\n\u001b[0;31m    )\u001b[0m\n\u001b[0m    ^\u001b[0m\n\u001b[0;31mSyntaxError\u001b[0m\u001b[0;31m:\u001b[0m invalid syntax\n"
     ]
    }
   ],
   "source": [
    "composed = source.pipe(\n",
    "    ops.map(lambda s: len(s)),\n",
    "    ops.filter(lambda i: i >= 5),\n",
    "    ops.\n",
    ")"
   ]
  },
  {
   "cell_type": "code",
   "execution_count": null,
   "metadata": {},
   "outputs": [],
   "source": [
    "# these are the symbols that denote a reset\n",
    "# "
   ]
  },
  {
   "cell_type": "code",
   "execution_count": 95,
   "metadata": {},
   "outputs": [],
   "source": [
    "\n",
    "# TODO reset buffer lengths?\n",
    "def return_corrected_pairs(stream):\n",
    "    index = -1\n",
    "    previously = None\n",
    "    # flag set when we are allowed to compare and send letters\n",
    "    is_checking = False\n",
    "    reset = True\n",
    "    # need to initialise with at least one character to prevent errors by one\n",
    "    while(1):\n",
    "        \n",
    "        if index == 0 or reset:\n",
    "\n",
    "            index = 1\n",
    "            previously = [None]\n",
    "            is_checking = False\n",
    "            reset = False\n",
    "\n",
    "            while(1):\n",
    "                current_element = next(stream)\n",
    "                previously[0] = current_element\n",
    "                if type(current_element) is not SpecialCharacters:\n",
    "                    break\n",
    "\n",
    "            continue    \n",
    "       \n",
    "\n",
    "        # the index holds the position with the previous entry + 1\n",
    "\n",
    "        current_element = next(stream)\n",
    "        \n",
    "\n",
    "        if current_element == SpecialCharacters.BACKSPACE:\n",
    "            is_checking = True\n",
    "            index -= 1\n",
    "            continue\n",
    "        \n",
    "        if type(current_element) is SpecialCharacters:\n",
    "            reset = True\n",
    "            continue\n",
    "        \n",
    "        # else: is character\n",
    "        if is_checking:\n",
    "\n",
    "            yield (previously[index], current_element)\n",
    "            previously[index] = current_element\n",
    "            index += 1\n",
    "            continue\n",
    "        \n",
    "        # if not checking\n",
    "        previously.append(current_element)\n",
    "        index += 1\n",
    "        continue\n",
    "\n",
    "           "
   ]
  },
  {
   "cell_type": "code",
   "execution_count": 88,
   "metadata": {},
   "outputs": [
    {
     "output_type": "execute_result",
     "data": {
      "text/plain": "True"
     },
     "metadata": {},
     "execution_count": 88
    }
   ],
   "source": [
    "type(SpecialCharacters.BACKSPACE) == SpecialCharacters"
   ]
  },
  {
   "cell_type": "code",
   "execution_count": 96,
   "metadata": {},
   "outputs": [],
   "source": [
    "stream_tuple = return_corrected_pairs(stream)"
   ]
  },
  {
   "cell_type": "code",
   "execution_count": 97,
   "metadata": {},
   "outputs": [
    {
     "output_type": "stream",
     "name": "stdout",
     "text": "('h', 'a')\n('i', 'h')\n"
    },
    {
     "output_type": "error",
     "ename": "IndexError",
     "evalue": "list index out of range",
     "traceback": [
      "\u001b[0;31m---------------------------------------------------------------------------\u001b[0m",
      "\u001b[0;31mIndexError\u001b[0m                                Traceback (most recent call last)",
      "\u001b[0;32m<ipython-input-97-366b93fcd0a7>\u001b[0m in \u001b[0;36m<module>\u001b[0;34m\u001b[0m\n\u001b[1;32m      1\u001b[0m \u001b[0;32mwhile\u001b[0m\u001b[0;34m(\u001b[0m\u001b[0;36m1\u001b[0m\u001b[0;34m)\u001b[0m\u001b[0;34m:\u001b[0m\u001b[0;34m\u001b[0m\u001b[0;34m\u001b[0m\u001b[0m\n\u001b[0;32m----> 2\u001b[0;31m     \u001b[0mprint\u001b[0m\u001b[0;34m(\u001b[0m\u001b[0mnext\u001b[0m\u001b[0;34m(\u001b[0m\u001b[0mstream_tuple\u001b[0m\u001b[0;34m)\u001b[0m\u001b[0;34m)\u001b[0m\u001b[0;34m\u001b[0m\u001b[0;34m\u001b[0m\u001b[0m\n\u001b[0m",
      "\u001b[0;32m<ipython-input-95-c992fa235bf5>\u001b[0m in \u001b[0;36mreturn_corrected_pairs\u001b[0;34m(stream)\u001b[0m\n\u001b[1;32m     42\u001b[0m         \u001b[0;32mif\u001b[0m \u001b[0mis_checking\u001b[0m\u001b[0;34m:\u001b[0m\u001b[0;34m\u001b[0m\u001b[0;34m\u001b[0m\u001b[0m\n\u001b[1;32m     43\u001b[0m \u001b[0;34m\u001b[0m\u001b[0m\n\u001b[0;32m---> 44\u001b[0;31m             \u001b[0;32myield\u001b[0m \u001b[0;34m(\u001b[0m\u001b[0mpreviously\u001b[0m\u001b[0;34m[\u001b[0m\u001b[0mindex\u001b[0m\u001b[0;34m]\u001b[0m\u001b[0;34m,\u001b[0m \u001b[0mcurrent_element\u001b[0m\u001b[0;34m)\u001b[0m\u001b[0;34m\u001b[0m\u001b[0;34m\u001b[0m\u001b[0m\n\u001b[0m\u001b[1;32m     45\u001b[0m             \u001b[0mpreviously\u001b[0m\u001b[0;34m[\u001b[0m\u001b[0mindex\u001b[0m\u001b[0;34m]\u001b[0m \u001b[0;34m=\u001b[0m \u001b[0mcurrent_element\u001b[0m\u001b[0;34m\u001b[0m\u001b[0;34m\u001b[0m\u001b[0m\n\u001b[1;32m     46\u001b[0m             \u001b[0mindex\u001b[0m \u001b[0;34m+=\u001b[0m \u001b[0;36m1\u001b[0m\u001b[0;34m\u001b[0m\u001b[0;34m\u001b[0m\u001b[0m\n",
      "\u001b[0;31mIndexError\u001b[0m: list index out of range"
     ]
    }
   ],
   "source": [
    "while(1):\n",
    "    print(next(stream_tuple))"
   ]
  },
  {
   "cell_type": "code",
   "execution_count": null,
   "metadata": {},
   "outputs": [],
   "source": []
  }
 ],
 "metadata": {
  "language_info": {
   "name": "python",
   "codemirror_mode": {
    "name": "ipython",
    "version": 3
   },
   "version": "3.6.9-final"
  },
  "orig_nbformat": 2,
  "file_extension": ".py",
  "mimetype": "text/x-python",
  "name": "python",
  "npconvert_exporter": "python",
  "pygments_lexer": "ipython3",
  "version": 3,
  "kernelspec": {
   "name": "python36964bitkeyboardvenv652e8eb5eb1b4b62a57f39412fdf8da4",
   "display_name": "Python 3.6.9 64-bit ('keyboard': venv)"
  }
 },
 "nbformat": 4,
 "nbformat_minor": 2
}