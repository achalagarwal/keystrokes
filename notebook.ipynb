{
 "nbformat": 4,
 "nbformat_minor": 2,
 "metadata": {
  "language_info": {
   "name": "python",
   "codemirror_mode": {
    "name": "ipython",
    "version": 3
   },
   "version": "3.6.9-final"
  },
  "orig_nbformat": 2,
  "file_extension": ".py",
  "mimetype": "text/x-python",
  "name": "python",
  "npconvert_exporter": "python",
  "pygments_lexer": "ipython3",
  "version": 3,
  "kernelspec": {
   "name": "python36964bitkeyboardvenv652e8eb5eb1b4b62a57f39412fdf8da4",
   "display_name": "Python 3.6.9 64-bit ('keyboard': venv)"
  }
 },
 "cells": [
  {
   "cell_type": "code",
   "execution_count": 119,
   "metadata": {},
   "outputs": [],
   "source": [
    "from datetime import datetime\n",
    "from time import strptime\n",
    "from enum import Enum"
   ]
  },
  {
   "cell_type": "code",
   "execution_count": 7,
   "metadata": {},
   "outputs": [],
   "source": [
    "# read a file \n",
    "file1 = open(\"data/logkeys.log\",\"r\") "
   ]
  },
  {
   "cell_type": "code",
   "execution_count": 8,
   "metadata": {},
   "outputs": [],
   "source": [
    "raw_string = file1.read()"
   ]
  },
  {
   "cell_type": "code",
   "execution_count": 19,
   "metadata": {},
   "outputs": [],
   "source": [
    "raw_lines = raw_string.split('\\n')"
   ]
  },
  {
   "cell_type": "code",
   "execution_count": 68,
   "metadata": {},
   "outputs": [],
   "source": [
    "def process_raw_line(raw_line):\n",
    "    date_text = raw_line.split(\" > \")\n",
    "    \n",
    "    try:\n",
    "        # if date_text[0]\n",
    "        if (date_text[0].find(\"Logging stopped\")) > -1 or  (date_text[0].find(\"Logging started\")) > -1:\n",
    "            return None\n",
    "        if date_text[0] == '' and len(date_text) == 1:\n",
    "            return None\n",
    "        assert(len(date_text)==2)\n",
    "        date = date_text[0]\n",
    "        text = date_text[1]\n",
    "        return (strptime(date, \"%Y-%m-%d %H:%M:%S-0700\"), text)\n",
    "    except Exception as e:\n",
    "        print(date_text + \" has a parsing error: len != 2 \" + str(e))\n",
    "    # print(raw_line.split(\" > \"))\n",
    ""
   ]
  },
  {
   "cell_type": "code",
   "execution_count": 79,
   "metadata": {
    "tags": [
     "outputPrepend",
     "outputPrepend"
    ]
   },
   "outputs": [],
   "source": [
    "clean_lines = []\n",
    "for raw_line in raw_lines:\n",
    "    # print(raw_line)\n",
    "    line = process_raw_line(raw_line)\n",
    "    if line:\n",
    "        clean_lines.append(line)"
   ]
  },
  {
   "cell_type": "code",
   "execution_count": 112,
   "metadata": {},
   "outputs": [],
   "source": [
    "# the first 70 lines are from an incorrect keyboard layout\n",
    "clean_lines = clean_lines[70:]"
   ]
  },
  {
   "cell_type": "code",
   "execution_count": 117,
   "metadata": {},
   "outputs": [
    {
     "output_type": "execute_result",
     "data": {
      "text/plain": "'<Enter>which llk'"
     },
     "metadata": {},
     "execution_count": 117
    }
   ],
   "source": [
    "clean_lines[71][1]"
   ]
  },
  {
   "cell_type": "code",
   "execution_count": 139,
   "metadata": {},
   "outputs": [],
   "source": [
    "class SpecialCharacters(Enum):\n",
    "    BACKSPACE = 1\n",
    "    CTRL = 2\n",
    "    SHIFT = 3\n",
    "    OS = 4\n",
    "    ALT = 5\n",
    "    ARROW = 6\n",
    "    ENTER = 7\n",
    "    DEL = 8\n",
    "    IGNORE = 9\n",
    "    REPEAT = 10\n",
    ""
   ]
  },
  {
   "cell_type": "markdown",
   "metadata": {},
   "source": [
    "clean_lines"
   ]
  },
  {
   "cell_type": "code",
   "execution_count": 130,
   "metadata": {},
   "outputs": [],
   "source": [
    "import re"
   ]
  },
  {
   "cell_type": "code",
   "execution_count": 135,
   "metadata": {
    "tags": [
     "outputPrepend",
     "outputPrepend"
    ]
   },
   "outputs": [
    {
     "output_type": "error",
     "ename": "IndexError",
     "evalue": "string index out of range",
     "traceback": [
      "\u001b[0;31m---------------------------------------------------------------------------\u001b[0m",
      "\u001b[0;31mIndexError\u001b[0m                                Traceback (most recent call last)",
      "\u001b[0;32m<ipython-input-135-9265e155c3d0>\u001b[0m in \u001b[0;36m<module>\u001b[0;34m\u001b[0m\n\u001b[1;32m      3\u001b[0m     \u001b[0mspecials\u001b[0m \u001b[0;34m=\u001b[0m \u001b[0;34m(\u001b[0m\u001b[0mre\u001b[0m\u001b[0;34m.\u001b[0m\u001b[0mfindall\u001b[0m\u001b[0;34m(\u001b[0m\u001b[0;34mr'\\<(.*?)\\>'\u001b[0m\u001b[0;34m,\u001b[0m \u001b[0ml\u001b[0m\u001b[0;34m[\u001b[0m\u001b[0;36m1\u001b[0m\u001b[0;34m]\u001b[0m\u001b[0;34m)\u001b[0m\u001b[0;34m)\u001b[0m\u001b[0;34m\u001b[0m\u001b[0;34m\u001b[0m\u001b[0m\n\u001b[1;32m      4\u001b[0m     \u001b[0;32mfor\u001b[0m \u001b[0mspecial\u001b[0m \u001b[0;32min\u001b[0m \u001b[0mspecials\u001b[0m\u001b[0;34m:\u001b[0m\u001b[0;34m\u001b[0m\u001b[0;34m\u001b[0m\u001b[0m\n\u001b[0;32m----> 5\u001b[0;31m         \u001b[0;32mif\u001b[0m \u001b[0mspecial\u001b[0m\u001b[0;34m[\u001b[0m\u001b[0;36m0\u001b[0m\u001b[0;34m]\u001b[0m \u001b[0;34m!=\u001b[0m \u001b[0;34m'#'\u001b[0m\u001b[0;34m:\u001b[0m\u001b[0;34m\u001b[0m\u001b[0;34m\u001b[0m\u001b[0m\n\u001b[0m\u001b[1;32m      6\u001b[0m             \u001b[0mseen\u001b[0m\u001b[0;34m.\u001b[0m\u001b[0madd\u001b[0m\u001b[0;34m(\u001b[0m\u001b[0mspecial\u001b[0m\u001b[0;34m)\u001b[0m\u001b[0;34m\u001b[0m\u001b[0;34m\u001b[0m\u001b[0m\n",
      "\u001b[0;31mIndexError\u001b[0m: string index out of range"
     ]
    }
   ],
   "source": [
    "seen = set()\n",
    "for l in clean_lines:\n",
    "    specials = (re.findall(r'\\<(.*?)\\>', l[1]))\n",
    "    for special in specials:\n",
    "        if special[0] != '#':\n",
    "            seen.add(special)"
   ]
  },
  {
   "cell_type": "code",
   "execution_count": 136,
   "metadata": {},
   "outputs": [
    {
     "output_type": "execute_result",
     "data": {
      "text/plain": "{' 0<LShft',\n '3 off<LShft',\n '?<BckSp',\n 'AltGr',\n 'BckSp',\n 'CpsLk',\n 'Del',\n 'Down',\n 'Enter',\n 'Esc',\n 'F12',\n 'F4',\n 'Ins',\n 'KP0',\n 'KP1',\n 'KPEnt',\n 'LAlt',\n 'LCtrl',\n 'LMeta',\n 'LShft',\n 'Left',\n 'Menu',\n 'PgUp',\n 'RCtrl',\n 'RShft',\n 'Right',\n 'Tab',\n 'Up',\n 'vec<LCtrl'}"
     },
     "metadata": {},
     "execution_count": 136
    }
   ],
   "source": [
    "seen"
   ]
  },
  {
   "cell_type": "code",
   "execution_count": 137,
   "metadata": {},
   "outputs": [
    {
     "output_type": "error",
     "ename": "SyntaxError",
     "evalue": "unexpected EOF while parsing (<ipython-input-137-62d07f7a760f>, line 2)",
     "traceback": [
      "\u001b[0;36m  File \u001b[0;32m\"<ipython-input-137-62d07f7a760f>\"\u001b[0;36m, line \u001b[0;32m2\u001b[0m\n\u001b[0;31m    \u001b[0m\n\u001b[0m    ^\u001b[0m\n\u001b[0;31mSyntaxError\u001b[0m\u001b[0;31m:\u001b[0m unexpected EOF while parsing\n"
     ]
    }
   ],
   "source": [
    "def parse_line(clean_line):\n",
    "    "
   ]
  },
  {
   "cell_type": "code",
   "execution_count": 141,
   "metadata": {},
   "outputs": [],
   "source": [
    "def enumize(string):\n",
    "    d = {\n",
    "        'AltGr': SpecialCharacters.ALT,\n",
    "        'BckSp': SpecialCharacters.BACKSPACE,\n",
    "        'CpsLk': SpecialCharacters.IGNORE,\n",
    "        'Del': SpecialCharacters.DELETE,\n",
    "        'Down': SpecialCharacters.ARROW,\n",
    "        'Enter': SpecialCharacters.ENTER,\n",
    "        'Esc': SpecialCharacters.ESC,\n",
    "        'F12': SpecialCharacters.FUNC,\n",
    "        'F4': SpecialCharacters.FUNC,\n",
    "        'Ins': SpecialCharacters.INS,\n",
    "        'KP0': SpecialCharacters.KEYPAD,\n",
    "        'KP1': SpecialCharacters.KEYPAD,\n",
    "        'KPEnt': SpecialCharacters.KEYPAD,\n",
    "        'LAlt': SpecialCharacters.ALT,\n",
    "        'LCtrl': SpecialCharacters.CTRL,\n",
    "        'LMeta': SpecialCharacters.OS,\n",
    "        'LShft': SpecialCharacters.SHIFT,\n",
    "        'Left': SpecialCharacters.ARROW,\n",
    "        'Menu': SpecialCharacters.MENU,\n",
    "        'PgUp': SpecialCharacters.PGUP,\n",
    "        'RCtrl': SpecialCharacters.CTRL,\n",
    "        'RShft': SpecialCharacters.SHIFT,\n",
    "        'Right': SpecialCharacters.ARROW,\n",
    "        'Tab': SpecialCharacters.TAB,\n",
    "        'Up': SpecialCharacters.ARROW,\n",
    "    }"
   ]
  },
  {
   "cell_type": "code",
   "execution_count": null,
   "metadata": {},
   "outputs": [],
   "source": []
  }
 ]
}