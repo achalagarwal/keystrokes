{
 "nbformat": 4,
 "nbformat_minor": 2,
 "metadata": {
  "language_info": {
   "name": "python",
   "codemirror_mode": {
    "name": "ipython",
    "version": 3
   },
   "version": "3.6.9-final"
  },
  "orig_nbformat": 2,
  "file_extension": ".py",
  "mimetype": "text/x-python",
  "name": "python",
  "npconvert_exporter": "python",
  "pygments_lexer": "ipython3",
  "version": 3,
  "kernelspec": {
   "name": "python36964bitkeyboardvenv652e8eb5eb1b4b62a57f39412fdf8da4",
   "display_name": "Python 3.6.9 64-bit ('keyboard': venv)"
  }
 },
 "cells": [
  {
   "cell_type": "code",
   "execution_count": 3,
   "metadata": {},
   "outputs": [],
   "source": [
    "from datetime import datetime\n",
    "from time import strptime\n",
    "from enum import Enum"
   ]
  },
  {
   "cell_type": "code",
   "execution_count": 4,
   "metadata": {},
   "outputs": [],
   "source": [
    "# read a file \n",
    "file1 = open(\"data/logkeys.log\",\"r\") "
   ]
  },
  {
   "cell_type": "code",
   "execution_count": 5,
   "metadata": {},
   "outputs": [],
   "source": [
    "raw_string = file1.read()"
   ]
  },
  {
   "cell_type": "code",
   "execution_count": 6,
   "metadata": {},
   "outputs": [],
   "source": [
    "raw_lines = raw_string.split('\\n')"
   ]
  },
  {
   "cell_type": "code",
   "execution_count": 7,
   "metadata": {},
   "outputs": [],
   "source": [
    "def process_raw_line(raw_line):\n",
    "    date_text = raw_line.split(\" > \")\n",
    "    \n",
    "    try:\n",
    "        # if date_text[0]\n",
    "        if (date_text[0].find(\"Logging stopped\")) > -1 or  (date_text[0].find(\"Logging started\")) > -1:\n",
    "            return None\n",
    "        if date_text[0] == '' and len(date_text) == 1:\n",
    "            return None\n",
    "        assert(len(date_text)==2)\n",
    "        date = date_text[0]\n",
    "        text = date_text[1]\n",
    "        return (strptime(date, \"%Y-%m-%d %H:%M:%S-0700\"), text)\n",
    "    except Exception as e:\n",
    "        print(date_text + \" has a parsing error: len != 2 \" + str(e))\n",
    "    # print(raw_line.split(\" > \"))\n",
    ""
   ]
  },
  {
   "cell_type": "code",
   "execution_count": 8,
   "metadata": {
    "tags": [
     "outputPrepend",
     "outputPrepend"
    ]
   },
   "outputs": [],
   "source": [
    "clean_lines = []\n",
    "for raw_line in raw_lines:\n",
    "    # print(raw_line)\n",
    "    line = process_raw_line(raw_line)\n",
    "    if line:\n",
    "        clean_lines.append(line)"
   ]
  },
  {
   "cell_type": "code",
   "execution_count": 9,
   "metadata": {},
   "outputs": [],
   "source": [
    "# the first 70 lines are from an incorrect keyboard layout\n",
    "clean_lines = clean_lines[70:]"
   ]
  },
  {
   "cell_type": "code",
   "execution_count": 53,
   "metadata": {},
   "outputs": [
    {
     "output_type": "execute_result",
     "data": {
      "text/plain": "'<Enter>which llk'"
     },
     "metadata": {},
     "execution_count": 53
    }
   ],
   "source": [
    "clean_lines[71][1]"
   ]
  },
  {
   "cell_type": "code",
   "execution_count": null,
   "metadata": {},
   "outputs": [],
   "source": [
    "'AltGr': SpecialCharacters.ALT,\n",
    "        'BckSp': SpecialCharacters.BACKSPACE,\n",
    "        'CpsLk': SpecialCharacters.IGNORE,\n",
    "        'Del': SpecialCharacters.DELETE,\n",
    "        'Down': SpecialCharacters.ARROW,\n",
    "        'Enter': SpecialCharacters.ENTER,\n",
    "        'Esc': SpecialCharacters.ESC,\n",
    "        'F12': SpecialCharacters.FUNC,\n",
    "        'F4': SpecialCharacters.FUNC,\n",
    "        'Ins': SpecialCharacters.INS,\n",
    "        'KP0': SpecialCharacters.KEYPAD,\n",
    "        'KP1': SpecialCharacters.KEYPAD,\n",
    "        'KP2': SpecialCharacters.KEYPAD,\n",
    "        'KP3': SpecialCharacters.KEYPAD,\n",
    "        'KP4': SpecialCharacters.KEYPAD,\n",
    "        'KP5': SpecialCharacters.KEYPAD,\n",
    "        'KP6': SpecialCharacters.KEYPAD,\n",
    "        'KP7': SpecialCharacters.KEYPAD,\n",
    "        'KP8': SpecialCharacters.KEYPAD,\n",
    "        'KP9': SpecialCharacters.KEYPAD,\n",
    "        'KPEnt': SpecialCharacters.KEYPAD,\n",
    "        'LAlt': SpecialCharacters.ALT,\n",
    "        'RAlt': SpecialCharacters.ALT,\n",
    "        'LCtrl': SpecialCharacters.CTRL,\n",
    "        'LMeta': SpecialCharacters.OS,\n",
    "        'RMeta': SpecialCharacters.OS,\n",
    "        'LShft': SpecialCharacters.SHIFT,\n",
    "        'Left': SpecialCharacters.ARROW,\n",
    "        'Menu': SpecialCharacters.MENU,\n",
    "        'NumLk'\n",
    "        'PgUp': SpecialCharacters.PGUP,\n",
    "        'RCtrl': SpecialCharacters.CTRL,\n",
    "        'RShft': SpecialCharacters.SHIFT,\n",
    "        'Right': SpecialCharacters.ARROW,\n",
    "        'Tab': SpecialCharacters.TAB,\n",
    "        'Up': SpecialCharacters.ARROW,"
   ]
  },
  {
   "cell_type": "code",
   "execution_count": 72,
   "metadata": {},
   "outputs": [],
   "source": [
    "class SpecialCharacters(Enum):\n",
    "    BACKSPACE = 1\n",
    "    CTRL = 2\n",
    "    SHIFT = 3\n",
    "    OS = 4\n",
    "    ALT = 5\n",
    "    ARROW = 6\n",
    "    ENTER = 7\n",
    "    DELETE = 8\n",
    "    IGNORE = 9\n",
    "    REPEAT = 10\n",
    "    FUNC = 11\n",
    "    KEYPAD = 12\n",
    "    ESC = 13\n",
    "    INS = 14\n",
    "    MENU = 15\n",
    "    PGUP = 16\n",
    "    TAB = 17"
   ]
  },
  {
   "cell_type": "markdown",
   "metadata": {},
   "source": [
    "clean_lines"
   ]
  },
  {
   "cell_type": "code",
   "execution_count": 12,
   "metadata": {},
   "outputs": [],
   "source": [
    "import re"
   ]
  },
  {
   "cell_type": "code",
   "execution_count": 13,
   "metadata": {},
   "outputs": [
    {
     "output_type": "execute_result",
     "data": {
      "text/plain": "(time.struct_time(tm_year=2020, tm_mon=3, tm_mday=25, tm_hour=23, tm_min=25, tm_sec=44, tm_wday=2, tm_yday=85, tm_isdst=-1),\n 'cc')"
     },
     "metadata": {},
     "execution_count": 13
    }
   ],
   "source": [
    "clean_lines[12]"
   ]
  },
  {
   "cell_type": "code",
   "execution_count": 14,
   "metadata": {
    "tags": [
     "outputPrepend",
     "outputPrepend"
    ]
   },
   "outputs": [
    {
     "output_type": "stream",
     "name": "stdout",
     "text": "['Enter', 'BckSp', 'LShft', 'BckSp', 'LShft', '#+12', 'LMeta', 'LMeta', '#+1', '#+1', 'LMeta', 'LCtrl', 'LShft', 'LMeta', '#+36', 'BckSp', 'BckSp', 'LCtrl', 'BckSp', 'BckSp', 'BckSp', 'BckSp', 'BckSp', 'BckSp', 'LShft', 'LShft', 'LShft', 'LShft', 'LShft', 'LCtrl', 'LMeta', 'LMeta', 'BckSp', 'BckSp', 'BckSp', 'LShft', 'LShft', 'LShft', '?<BckSp', 'Right', 'LShft', 'LShft', 'LShft', '#+8', 'LCtrl', 'LShft', 'vec<LCtrl', 'LShft', 'Left', 'LCtrl', '#+15', 'LCtrl', 'LMeta', 'LMeta', 'Left', 'LCtrl', '#+4', 'LShft', 'LShft', '#+24', 'LShft', '', 'LCtrl', 'LShft']\n['LCtrl', 'LCtrl', 'LCtrl', 'LCtrl', 'Right', 'LShft', 'LShft', '', 'Left', 'LShft', 'LCtrl', '#+1', 'LCtrl', '#+13', 'BckSp', 'BckSp', 'LShft', 'LCtrl', 'RShft', '<RShft', 'LCtrl', 'LShft', 'Down']\n['Enter', 'Up', 'BckSp', 'BckSp', 'BckSp', 'BckSp', 'BckSp', 'BckSp', 'LShft', 'LShft', 'LShft', 'LShft', 'BckSp', 'LShft', '', 'LCtrl', 'Right', 'Right', 'Left', 'LShft', 'LShft', 'LAlt', 'BckSp', 'BckSp', 'BckSp']\n['Enter', 'Down', 'Left', 'BckSp', 'BckSp', 'BckSp', 'LShft', 'LShft', '', 'LCtrl', 'Left', 'Left', 'Left', 'Right', 'BckSp', 'BckSp', 'BckSp', 'BckSp', 'BckSp', 'BckSp', 'Tab', 'BckSp', 'BckSp', 'BckSp', 'LCtrl', 'RShft', 'Right', 'BckSp', 'LCtrl', 'RShft', 'BckSp', 'BckSp', 'RShft', 'BckSp', '#+31', 'BckSp', 'BckSp', 'BckSp']\n['Enter', 'Left', 'Left', 'LCtrl', 'Left', 'Left', 'Left', 'Left', 'LShft', '', 'Left', 'LCtrl', 'Left', 'Left', 'Left', 'Left', 'LShft', 'BckSp', 'RShft', '<Right', 'Right', 'Right', 'Right', 'Right', 'RShft', 'Left', 'Left', 'Left', 'Right', 'LShft']\n['Enter', 'LShft', 'LCtrl', '#+6', 'Left', 'LShft', '', 'Left', 'LShft', 'LShft', '_', 'LCtrl', 'LCtrl', 'LShft', 'LCtrl', '#+3', 'LCtrl', 'LCtrl', 'LCtrl']\n['Enter', 'LMeta', 'LMeta', 'LMeta', 'LMeta', 'LMeta', 'LShft', '#+4', 'BckSp', 'Left', 'Left', 'BckSp', 'Down', 'BckSp', 'BckSp', 'LCtrl', '#+17', 'LShft', 'LShft', 'LShft', '', 'Left', 'LShft', 'LShft', '', 'LShft', 'LCtrl', 'RShft', 'LMeta', 'LMeta', '#+81', 'LMeta', '#+19', 'LShft', 'BckSp', '#+37', 'LShft', 'LShft', 'BckSp', 'BckSp', 'BckSp']\n['Enter', 'LMeta', 'LMeta', 'LMeta', 'LMeta', 'LMeta', 'LShft', '#+4', 'BckSp', 'Left', 'Left', 'BckSp', 'Down', 'BckSp', 'BckSp', 'LCtrl', '#+17', 'LShft', 'LShft', 'LShft', '', 'Left', 'LShft', 'LShft', '', 'LShft', 'LCtrl', 'RShft', 'LMeta', 'LMeta', '#+81', 'LMeta', '#+19', 'LShft', 'BckSp', '#+37', 'LShft', 'LShft', 'BckSp', 'BckSp', 'BckSp']\n"
    }
   ],
   "source": [
    "seen = set()\n",
    "for l in clean_lines:\n",
    "    specials = (re.findall(r'\\<(.*?)\\>', l[1]))\n",
    "    for special in specials:\n",
    "        try:\n",
    "            if special[0] != '#':\n",
    "                seen.add(special)\n",
    "        except:\n",
    "            print(specials)"
   ]
  },
  {
   "cell_type": "code",
   "execution_count": 15,
   "metadata": {},
   "outputs": [
    {
     "output_type": "execute_result",
     "data": {
      "text/plain": "{' .de;ta<BckSp',\n ' 0<LShft',\n ' <LCtrl',\n ' self.<LShft',\n '3 off<LShft',\n '<BckSp',\n '<LCtrl',\n '<LShft',\n '<RShft',\n '<Right',\n '?<BckSp',\n 'AltGr',\n 'BckSp',\n 'CpsLk',\n 'Del',\n 'Down',\n 'End',\n 'Enter',\n 'Esc',\n 'F1',\n 'F11',\n 'F12',\n 'F3',\n 'F4',\n 'F5',\n 'Home',\n 'Ins',\n 'KP+',\n 'KP.',\n 'KP0',\n 'KP1',\n 'KP2',\n 'KP3',\n 'KP4',\n 'KPEnt',\n 'LAlt',\n 'LCtrl',\n 'LMeta',\n 'LShft',\n 'Left',\n 'Menu',\n 'NumLk',\n 'PgDn',\n 'PgUp',\n 'RCtrl',\n 'RMeta',\n 'RShft',\n 'Right',\n 'Sizt<BckSp',\n 'Stron<BckSp',\n 'T',\n 'T,<LShft',\n 'T<BckSp',\n 'T<LCtrl',\n 'Tab',\n 'Up',\n '_',\n 'char<LShft',\n 'deep-melissa-repo<LShft',\n 'period<LShft',\n 'spave<LShft',\n 'vec<LCtrl'}"
     },
     "metadata": {},
     "execution_count": 15
    }
   ],
   "source": [
    "seen"
   ]
  },
  {
   "cell_type": "code",
   "execution_count": 16,
   "metadata": {},
   "outputs": [],
   "source": [
    "def ensure_length(string, length, source):\n",
    "    remaining = length - len(string)\n",
    "    if remaining > 0:\n",
    "        return string + source.get(remaining)"
   ]
  },
  {
   "cell_type": "code",
   "execution_count": 77,
   "metadata": {},
   "outputs": [],
   "source": [
    "def streamify(source):\n",
    "    string = source.get(10)\n",
    "    processed = 0\n",
    "    i = -1\n",
    "    symbol = None\n",
    "    while(1):\n",
    "\n",
    "        if symbol:\n",
    "            yield symbol\n",
    "            symbol = None\n",
    "            continue\n",
    "        \n",
    "        i += 1\n",
    "        \n",
    "        try:\n",
    "            char = string[i]\n",
    "        except:\n",
    "            processed += len(string)\n",
    "            i = 0\n",
    "            string = source.get(10)\n",
    "            char = string[i]\n",
    "\n",
    "        if char == '<':\n",
    "            start = i\n",
    "            end = None\n",
    "            subsymstr = \"\"\n",
    "            \n",
    "            string = ensure_length(string, 10+start, source)\n",
    "\n",
    "            # lookup next 10 characters:\n",
    "                \n",
    "                \n",
    "            for j,char in enumerate(string[start+1:]):\n",
    "                if char == '<':\n",
    "                    \n",
    "                    # this means that we have consumed till end, \n",
    "                    # here as end = start, we have consumed till start\n",
    "                    # which means that we revert the search\n",
    "                    end = start\n",
    "                    # flag = True\n",
    "                    break\n",
    "\n",
    "                elif char =='>':\n",
    "\n",
    "                    # we have detected a less than and a greater than\n",
    "                    try:\n",
    "                        symbol = enumize(subsymstr)\n",
    "                        # there were j characters in subsymstr\n",
    "                        end = j+start\n",
    "                    except:\n",
    "                        # symbol not found error\n",
    "                        end = start\n",
    "\n",
    "                    # anyway we break because a greater than will never be there in a special enum\n",
    "                    # flag = True\n",
    "                    break\n",
    "\n",
    "                elif j == 9:\n",
    "                    # flag = True\n",
    "                    end = start\n",
    "                    break\n",
    "\n",
    "                else:\n",
    "                    subsymstr += char\n",
    "            # set current index to end\n",
    "            i = end\n",
    "            if symbol:\n",
    "                # the symbol will be returned on top\n",
    "                continue\n",
    "            # otherwise the current char will be returned\n",
    "            yield string[i]\n",
    "            # after every yield we need to restart\n",
    "            continue\n",
    "        # if not <\n",
    "        yield string[i]\n",
    "         "
   ]
  },
  {
   "cell_type": "code",
   "execution_count": 78,
   "metadata": {},
   "outputs": [],
   "source": [
    "# create a helper function that given a source streamifies it?"
   ]
  },
  {
   "cell_type": "code",
   "execution_count": 79,
   "metadata": {},
   "outputs": [],
   "source": [
    "class Source:\n",
    "    def __init__(self, strings):\n",
    "        self.string = '\\n'.join(strings)\n",
    "        self.index = 0\n",
    "    def get(self,count):\n",
    "        slice = self.string[self.index:self.index+count]\n",
    "        self.index += count\n",
    "        return slice"
   ]
  },
  {
   "cell_type": "code",
   "execution_count": 82,
   "metadata": {},
   "outputs": [],
   "source": [
    "source = Source(lines)"
   ]
  },
  {
   "cell_type": "code",
   "execution_count": 81,
   "metadata": {},
   "outputs": [],
   "source": [
    "lines = list(map(lambda x: x[1], clean_lines))"
   ]
  },
  {
   "cell_type": "code",
   "execution_count": 83,
   "metadata": {},
   "outputs": [],
   "source": [
    "generator = streamify(source)"
   ]
  },
  {
   "cell_type": "code",
   "execution_count": 84,
   "metadata": {},
   "outputs": [
    {
     "output_type": "stream",
     "name": "stdout",
     "text": "a\ns\nd\nf\n \n1\n2\n3\n4\nSpecialCharacters.SHIFT\n>\n!\n@\n#\n$\n!\n@\n#\n$\n%\n^\n^\n&\n*\n(\n(\n)\n{\n}\n:\n\"\n;\nSpecialCharacters.SHIFT\n>\n'\n]\n/\n.\n,\nSpecialCharacters.IGNORE\n>\nSpecialCharacters.IGNORE\n>\nSpecialCharacters.TAB\n>\nSpecialCharacters.TAB\n>\na\nc\nh\ns\n \n"
    },
    {
     "output_type": "error",
     "ename": "TypeError",
     "evalue": "'NoneType' object is not subscriptable",
     "traceback": [
      "\u001b[0;31m---------------------------------------------------------------------------\u001b[0m",
      "\u001b[0;31mTypeError\u001b[0m                                 Traceback (most recent call last)",
      "\u001b[0;32m<ipython-input-84-0fe1d64e9351>\u001b[0m in \u001b[0;36m<module>\u001b[0;34m\u001b[0m\n\u001b[1;32m      1\u001b[0m \u001b[0;32mwhile\u001b[0m \u001b[0;36m1\u001b[0m\u001b[0;34m:\u001b[0m\u001b[0;34m\u001b[0m\u001b[0;34m\u001b[0m\u001b[0m\n\u001b[0;32m----> 2\u001b[0;31m     \u001b[0mprint\u001b[0m\u001b[0;34m(\u001b[0m\u001b[0mnext\u001b[0m\u001b[0;34m(\u001b[0m\u001b[0mgenerator\u001b[0m\u001b[0;34m)\u001b[0m\u001b[0;34m)\u001b[0m\u001b[0;34m\u001b[0m\u001b[0;34m\u001b[0m\u001b[0m\n\u001b[0m",
      "\u001b[0;32m<ipython-input-77-5e03d74e2bbc>\u001b[0m in \u001b[0;36mstreamify\u001b[0;34m(source)\u001b[0m\n\u001b[1;32m     31\u001b[0m \u001b[0;34m\u001b[0m\u001b[0m\n\u001b[1;32m     32\u001b[0m \u001b[0;34m\u001b[0m\u001b[0m\n\u001b[0;32m---> 33\u001b[0;31m             \u001b[0;32mfor\u001b[0m \u001b[0mj\u001b[0m\u001b[0;34m,\u001b[0m\u001b[0mchar\u001b[0m \u001b[0;32min\u001b[0m \u001b[0menumerate\u001b[0m\u001b[0;34m(\u001b[0m\u001b[0mstring\u001b[0m\u001b[0;34m[\u001b[0m\u001b[0mstart\u001b[0m\u001b[0;34m+\u001b[0m\u001b[0;36m1\u001b[0m\u001b[0;34m:\u001b[0m\u001b[0;34m]\u001b[0m\u001b[0;34m)\u001b[0m\u001b[0;34m:\u001b[0m\u001b[0;34m\u001b[0m\u001b[0;34m\u001b[0m\u001b[0m\n\u001b[0m\u001b[1;32m     34\u001b[0m                 \u001b[0;32mif\u001b[0m \u001b[0mchar\u001b[0m \u001b[0;34m==\u001b[0m \u001b[0;34m'<'\u001b[0m\u001b[0;34m:\u001b[0m\u001b[0;34m\u001b[0m\u001b[0;34m\u001b[0m\u001b[0m\n\u001b[1;32m     35\u001b[0m \u001b[0;34m\u001b[0m\u001b[0m\n",
      "\u001b[0;31mTypeError\u001b[0m: 'NoneType' object is not subscriptable"
     ]
    }
   ],
   "source": [
    "while 1:\n",
    "    print(next(generator))"
   ]
  },
  {
   "cell_type": "code",
   "execution_count": 73,
   "metadata": {},
   "outputs": [],
   "source": [
    "def enumize(string):\n",
    "    d = {\n",
    "        'AltGr': SpecialCharacters.ALT,\n",
    "        'BckSp': SpecialCharacters.BACKSPACE,\n",
    "        'CpsLk': SpecialCharacters.IGNORE,\n",
    "        'Del': SpecialCharacters.DELETE,\n",
    "        'Down': SpecialCharacters.ARROW,\n",
    "        'Enter': SpecialCharacters.ENTER,\n",
    "        'Esc': SpecialCharacters.ESC,\n",
    "        'F12': SpecialCharacters.FUNC,\n",
    "        'F4': SpecialCharacters.FUNC,\n",
    "        'Ins': SpecialCharacters.INS,\n",
    "        'KP0': SpecialCharacters.KEYPAD,\n",
    "        'KP1': SpecialCharacters.KEYPAD,\n",
    "        'KP2': SpecialCharacters.KEYPAD,\n",
    "        'KP3': SpecialCharacters.KEYPAD,\n",
    "        'KP4': SpecialCharacters.KEYPAD,\n",
    "        'KP5': SpecialCharacters.KEYPAD,\n",
    "        'KP6': SpecialCharacters.KEYPAD,\n",
    "        'KP7': SpecialCharacters.KEYPAD,\n",
    "        'KP8': SpecialCharacters.KEYPAD,\n",
    "        'KP9': SpecialCharacters.KEYPAD,\n",
    "        'KPEnt': SpecialCharacters.KEYPAD,\n",
    "        'LAlt': SpecialCharacters.ALT,\n",
    "        'RAlt': SpecialCharacters.ALT,\n",
    "        'LCtrl': SpecialCharacters.CTRL,\n",
    "        'LMeta': SpecialCharacters.OS,\n",
    "        'RMeta': SpecialCharacters.OS,\n",
    "        'LShft': SpecialCharacters.SHIFT,\n",
    "        'Left': SpecialCharacters.ARROW,\n",
    "        'Menu': SpecialCharacters.MENU,\n",
    "        'NumLk'\n",
    "        'PgUp': SpecialCharacters.PGUP,\n",
    "        'RCtrl': SpecialCharacters.CTRL,\n",
    "        'RShft': SpecialCharacters.SHIFT,\n",
    "        'Right': SpecialCharacters.ARROW,\n",
    "        'Tab': SpecialCharacters.TAB,\n",
    "        'Up': SpecialCharacters.ARROW,\n",
    "    }\n",
    "    return d[string]"
   ]
  },
  {
   "cell_type": "code",
   "execution_count": 74,
   "metadata": {},
   "outputs": [
    {
     "output_type": "execute_result",
     "data": {
      "text/plain": "<SpecialCharacters.SHIFT: 3>"
     },
     "metadata": {},
     "execution_count": 74
    }
   ],
   "source": [
    "enumize(\"LShft\")"
   ]
  },
  {
   "cell_type": "code",
   "execution_count": null,
   "metadata": {},
   "outputs": [],
   "source": []
  }
 ]
}