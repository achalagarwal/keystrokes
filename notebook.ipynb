{
 "cells": [
  {
   "cell_type": "code",
   "execution_count": 1,
   "metadata": {},
   "outputs": [],
   "source": [
    "from datetime import datetime\n",
    "from time import strptime\n",
    "from enum import Enum"
   ]
  },
  {
   "cell_type": "code",
   "execution_count": 4,
   "metadata": {},
   "outputs": [],
   "source": [
    "import watchdog as wd"
   ]
  },
  {
   "cell_type": "code",
   "execution_count": 9,
   "metadata": {},
   "outputs": [],
   "source": [
    "handler = wd.events.PatternMatchingEventHandler(patterns=[\"/var/log/logkeys.log\"])"
   ]
  },
  {
   "cell_type": "code",
   "execution_count": 11,
   "metadata": {},
   "outputs": [
    {
     "output_type": "execute_result",
     "data": {
      "text/plain": "['__class__',\n '__delattr__',\n '__dict__',\n '__dir__',\n '__doc__',\n '__eq__',\n '__format__',\n '__ge__',\n '__getattribute__',\n '__gt__',\n '__hash__',\n '__init__',\n '__init_subclass__',\n '__le__',\n '__lt__',\n '__module__',\n '__ne__',\n '__new__',\n '__reduce__',\n '__reduce_ex__',\n '__repr__',\n '__setattr__',\n '__sizeof__',\n '__str__',\n '__subclasshook__',\n '__weakref__',\n '_case_sensitive',\n '_ignore_directories',\n '_ignore_patterns',\n '_patterns',\n 'case_sensitive',\n 'dispatch',\n 'ignore_directories',\n 'ignore_patterns',\n 'on_any_event',\n 'on_created',\n 'on_deleted',\n 'on_modified',\n 'on_moved',\n 'patterns']"
     },
     "metadata": {},
     "execution_count": 11
    }
   ],
   "source": [
    "dir(handler)"
   ]
  },
  {
   "cell_type": "code",
   "execution_count": 17,
   "metadata": {},
   "outputs": [],
   "source": [
    "# import time\n",
    "from watchdog.observers import Observer\n",
    "from watchdog.events import PatternMatchingEventHandler\n",
    "class MyHandler(PatternMatchingEventHandler):\n",
    "    def __init__(self, patterns):\n",
    "        super().__init__(patterns)\n",
    "    def on_modified(self, event):\n",
    "        print(\"Got it!\")\n",
    "event_handler = MyHandler(patterns=[\"/var/log/logkeys.log\"])\n",
    "observer = Observer()\n",
    "observer.schedule(event_handler, path='.', recursive=False)\n",
    "observer.start()\n",
    "try:\n",
    "    while True:\n",
    "\n",
    "        pass\n",
    "        # time.sleep(1)\n",
    "except KeyboardInterrupt:\n",
    "    observer.stop()\n",
    "observer.join()"
   ]
  },
  {
   "cell_type": "code",
   "execution_count": 8,
   "metadata": {},
   "outputs": [
    {
     "output_type": "error",
     "ename": "TypeError",
     "evalue": "on_modified() missing 1 required positional argument: 'event'",
     "traceback": [
      "\u001b[0;31m---------------------------------------------------------------------------\u001b[0m",
      "\u001b[0;31mTypeError\u001b[0m                                 Traceback (most recent call last)",
      "\u001b[0;32m<ipython-input-8-1229ce2f24ed>\u001b[0m in \u001b[0;36m<module>\u001b[0;34m\u001b[0m\n\u001b[0;32m----> 1\u001b[0;31m \u001b[0mhandler\u001b[0m\u001b[0;34m.\u001b[0m\u001b[0mon_modified\u001b[0m\u001b[0;34m(\u001b[0m\u001b[0;34m)\u001b[0m\u001b[0;34m\u001b[0m\u001b[0;34m\u001b[0m\u001b[0m\n\u001b[0m",
      "\u001b[0;31mTypeError\u001b[0m: on_modified() missing 1 required positional argument: 'event'"
     ]
    }
   ],
   "source": [
    "handler.on_modified()"
   ]
  },
  {
   "cell_type": "code",
   "execution_count": 39,
   "metadata": {},
   "outputs": [],
   "source": [
    "# read a file \n",
    "file1 = open(\"data/logkeys.log\",\"r\") "
   ]
  },
  {
   "cell_type": "code",
   "execution_count": 43,
   "metadata": {},
   "outputs": [],
   "source": [
    "def stream_consumer(stream):\n",
    "    while(1):\n",
    "        print(next(stream))"
   ]
  },
  {
   "cell_type": "code",
   "execution_count": 8,
   "metadata": {},
   "outputs": [],
   "source": [
    "raw_string = file1.read()"
   ]
  },
  {
   "cell_type": "code",
   "execution_count": 9,
   "metadata": {},
   "outputs": [],
   "source": [
    "raw_lines = raw_string.split('\\n')"
   ]
  },
  {
   "cell_type": "code",
   "execution_count": 10,
   "metadata": {},
   "outputs": [],
   "source": [
    "def process_raw_line(raw_line):\n",
    "    date_text = raw_line.split(\" > \")\n",
    "    \n",
    "    try:\n",
    "        # if date_text[0]\n",
    "        if (date_text[0].find(\"Logging stopped\")) > -1 or  (date_text[0].find(\"Logging started\")) > -1:\n",
    "            return None\n",
    "        if date_text[0] == '' and len(date_text) == 1:\n",
    "            return None\n",
    "        assert(len(date_text)==2)\n",
    "        date = date_text[0]\n",
    "        text = date_text[1]\n",
    "        return (strptime(date, \"%Y-%m-%d %H:%M:%S-0700\"), text)\n",
    "    except Exception as e:\n",
    "        print(date_text + \" has a parsing error: len != 2 \" + str(e))\n",
    "    # print(raw_line.split(\" > \"))\n",
    ""
   ]
  },
  {
   "cell_type": "code",
   "execution_count": 11,
   "metadata": {
    "tags": [
     "outputPrepend",
     "outputPrepend"
    ]
   },
   "outputs": [],
   "source": [
    "clean_lines = []\n",
    "for raw_line in raw_lines:\n",
    "    # print(raw_line)\n",
    "    line = process_raw_line(raw_line)\n",
    "    if line:\n",
    "        clean_lines.append(line)"
   ]
  },
  {
   "cell_type": "code",
   "execution_count": 12,
   "metadata": {},
   "outputs": [],
   "source": [
    "# the first 70 lines are from an incorrect keyboard layout\n",
    "clean_lines = clean_lines[70:]"
   ]
  },
  {
   "cell_type": "code",
   "execution_count": 13,
   "metadata": {},
   "outputs": [
    {
     "output_type": "execute_result",
     "data": {
      "text/plain": "'<Enter>which llk'"
     },
     "metadata": {},
     "execution_count": 13
    }
   ],
   "source": [
    "clean_lines[71][1]"
   ]
  },
  {
   "cell_type": "code",
   "execution_count": 14,
   "metadata": {},
   "outputs": [
    {
     "output_type": "error",
     "ename": "SyntaxError",
     "evalue": "invalid syntax (<ipython-input-14-27df08927e61>, line 1)",
     "traceback": [
      "\u001b[0;36m  File \u001b[0;32m\"<ipython-input-14-27df08927e61>\"\u001b[0;36m, line \u001b[0;32m1\u001b[0m\n\u001b[0;31m    'AltGr': SpecialCharacters.ALT,\u001b[0m\n\u001b[0m                                  ^\u001b[0m\n\u001b[0;31mSyntaxError\u001b[0m\u001b[0;31m:\u001b[0m invalid syntax\n"
     ]
    }
   ],
   "source": [
    "'AltGr': SpecialCharacters.ALT,\n",
    "        'BckSp': SpecialCharacters.BACKSPACE,\n",
    "        'CpsLk': SpecialCharacters.IGNORE,\n",
    "        'Del': SpecialCharacters.DELETE,\n",
    "        'Down': SpecialCharacters.ARROW,\n",
    "        'Enter': SpecialCharacters.ENTER,\n",
    "        'Esc': SpecialCharacters.ESC,\n",
    "        'F12': SpecialCharacters.FUNC,\n",
    "        'F4': SpecialCharacters.FUNC,\n",
    "        'Ins': SpecialCharacters.INS,\n",
    "        'KP0': SpecialCharacters.KEYPAD,\n",
    "        'KP1': SpecialCharacters.KEYPAD,\n",
    "        'KP2': SpecialCharacters.KEYPAD,\n",
    "        'KP3': SpecialCharacters.KEYPAD,\n",
    "        'KP4': SpecialCharacters.KEYPAD,\n",
    "        'KP5': SpecialCharacters.KEYPAD,\n",
    "        'KP6': SpecialCharacters.KEYPAD,\n",
    "        'KP7': SpecialCharacters.KEYPAD,\n",
    "        'KP8': SpecialCharacters.KEYPAD,\n",
    "        'KP9': SpecialCharacters.KEYPAD,\n",
    "        'KPEnt': SpecialCharacters.KEYPAD,\n",
    "        'LAlt': SpecialCharacters.ALT,\n",
    "        'RAlt': SpecialCharacters.ALT,\n",
    "        'LCtrl': SpecialCharacters.CTRL,\n",
    "        'LMeta': SpecialCharacters.OS,\n",
    "        'RMeta': SpecialCharacters.OS,\n",
    "        'LShft': SpecialCharacters.SHIFT,\n",
    "        'Left': SpecialCharacters.ARROW,\n",
    "        'Menu': SpecialCharacters.MENU,\n",
    "        'NumLk'\n",
    "        'PgUp': SpecialCharacters.PGUP,\n",
    "        'RCtrl': SpecialCharacters.CTRL,\n",
    "        'RShft': SpecialCharacters.SHIFT,\n",
    "        'Right': SpecialCharacters.ARROW,\n",
    "        'Tab': SpecialCharacters.TAB,\n",
    "        'Up': SpecialCharacters.ARROW,"
   ]
  },
  {
   "cell_type": "code",
   "execution_count": 15,
   "metadata": {},
   "outputs": [],
   "source": [
    "class SpecialCharacters(Enum):\n",
    "    BACKSPACE = 1\n",
    "    CTRL = 2\n",
    "    SHIFT = 3\n",
    "    OS = 4\n",
    "    ALT = 5\n",
    "    ARROW = 6\n",
    "    ENTER = 7\n",
    "    DELETE = 8\n",
    "    IGNORE = 9\n",
    "    REPEAT = 10\n",
    "    FUNC = 11\n",
    "    KEYPAD = 12\n",
    "    ESC = 13\n",
    "    INS = 14\n",
    "    MENU = 15\n",
    "    PGUP = 16\n",
    "    TAB = 17\n",
    "    META = 18"
   ]
  },
  {
   "cell_type": "markdown",
   "metadata": {},
   "source": [
    "clean_lines"
   ]
  },
  {
   "cell_type": "code",
   "execution_count": 16,
   "metadata": {},
   "outputs": [],
   "source": [
    "import re"
   ]
  },
  {
   "cell_type": "code",
   "execution_count": 17,
   "metadata": {},
   "outputs": [
    {
     "output_type": "execute_result",
     "data": {
      "text/plain": "(time.struct_time(tm_year=2020, tm_mon=3, tm_mday=25, tm_hour=23, tm_min=25, tm_sec=44, tm_wday=2, tm_yday=85, tm_isdst=-1),\n 'cc')"
     },
     "metadata": {},
     "execution_count": 17
    }
   ],
   "source": [
    "clean_lines[12]"
   ]
  },
  {
   "cell_type": "code",
   "execution_count": 18,
   "metadata": {
    "tags": [
     "outputPrepend",
     "outputPrepend"
    ]
   },
   "outputs": [
    {
     "output_type": "stream",
     "name": "stdout",
     "text": "['Enter', 'BckSp', 'LShft', 'BckSp', 'LShft', '#+12', 'LMeta', 'LMeta', '#+1', '#+1', 'LMeta', 'LCtrl', 'LShft', 'LMeta', '#+36', 'BckSp', 'BckSp', 'LCtrl', 'BckSp', 'BckSp', 'BckSp', 'BckSp', 'BckSp', 'BckSp', 'LShft', 'LShft', 'LShft', 'LShft', 'LShft', 'LCtrl', 'LMeta', 'LMeta', 'BckSp', 'BckSp', 'BckSp', 'LShft', 'LShft', 'LShft', '?<BckSp', 'Right', 'LShft', 'LShft', 'LShft', '#+8', 'LCtrl', 'LShft', 'vec<LCtrl', 'LShft', 'Left', 'LCtrl', '#+15', 'LCtrl', 'LMeta', 'LMeta', 'Left', 'LCtrl', '#+4', 'LShft', 'LShft', '#+24', 'LShft', '', 'LCtrl', 'LShft']\n['LCtrl', 'LCtrl', 'LCtrl', 'LCtrl', 'Right', 'LShft', 'LShft', '', 'Left', 'LShft', 'LCtrl', '#+1', 'LCtrl', '#+13', 'BckSp', 'BckSp', 'LShft', 'LCtrl', 'RShft', '<RShft', 'LCtrl', 'LShft', 'Down']\n['Enter', 'Up', 'BckSp', 'BckSp', 'BckSp', 'BckSp', 'BckSp', 'BckSp', 'LShft', 'LShft', 'LShft', 'LShft', 'BckSp', 'LShft', '', 'LCtrl', 'Right', 'Right', 'Left', 'LShft', 'LShft', 'LAlt', 'BckSp', 'BckSp', 'BckSp']\n['Enter', 'Down', 'Left', 'BckSp', 'BckSp', 'BckSp', 'LShft', 'LShft', '', 'LCtrl', 'Left', 'Left', 'Left', 'Right', 'BckSp', 'BckSp', 'BckSp', 'BckSp', 'BckSp', 'BckSp', 'Tab', 'BckSp', 'BckSp', 'BckSp', 'LCtrl', 'RShft', 'Right', 'BckSp', 'LCtrl', 'RShft', 'BckSp', 'BckSp', 'RShft', 'BckSp', '#+31', 'BckSp', 'BckSp', 'BckSp']\n['Enter', 'Left', 'Left', 'LCtrl', 'Left', 'Left', 'Left', 'Left', 'LShft', '', 'Left', 'LCtrl', 'Left', 'Left', 'Left', 'Left', 'LShft', 'BckSp', 'RShft', '<Right', 'Right', 'Right', 'Right', 'Right', 'RShft', 'Left', 'Left', 'Left', 'Right', 'LShft']\n['Enter', 'LShft', 'LCtrl', '#+6', 'Left', 'LShft', '', 'Left', 'LShft', 'LShft', '_', 'LCtrl', 'LCtrl', 'LShft', 'LCtrl', '#+3', 'LCtrl', 'LCtrl', 'LCtrl']\n['Enter', 'LMeta', 'LMeta', 'LMeta', 'LMeta', 'LMeta', 'LShft', '#+4', 'BckSp', 'Left', 'Left', 'BckSp', 'Down', 'BckSp', 'BckSp', 'LCtrl', '#+17', 'LShft', 'LShft', 'LShft', '', 'Left', 'LShft', 'LShft', '', 'LShft', 'LCtrl', 'RShft', 'LMeta', 'LMeta', '#+81', 'LMeta', '#+19', 'LShft', 'BckSp', '#+37', 'LShft', 'LShft', 'BckSp', 'BckSp', 'BckSp']\n['Enter', 'LMeta', 'LMeta', 'LMeta', 'LMeta', 'LMeta', 'LShft', '#+4', 'BckSp', 'Left', 'Left', 'BckSp', 'Down', 'BckSp', 'BckSp', 'LCtrl', '#+17', 'LShft', 'LShft', 'LShft', '', 'Left', 'LShft', 'LShft', '', 'LShft', 'LCtrl', 'RShft', 'LMeta', 'LMeta', '#+81', 'LMeta', '#+19', 'LShft', 'BckSp', '#+37', 'LShft', 'LShft', 'BckSp', 'BckSp', 'BckSp']\n['Enter', 'LShft', '', 'Left', 'LCtrl', 'Esc', 'RShft', 'LShft']\n['Enter', 'LCtrl', 'LCtrl', '#+11', 'LCtrl', '#+8', 'LCtrl', 'LShft', '#+1', 'LCtrl', 'LShft', 'BckSp', 'LShft', 'LShft', 'BckSp', 'BckSp', 'LShft', 'LShft', 'LShft', '#+5', 'LShft', 'LShft', 'BckSp', 'BckSp', 'LShft', 'LShft', '#+1', 'LShft', '', 'Down', 'Left', 'Down', 'Left', 'LCtrl', '#+41', 'LCtrl', '#+11', 'BckSp', 'LCtrl', 'Right', 'Right', 'Right', 'Right', 'Right', 'BckSp', 'BckSp', 'LShft', '<LShft', 'Down']\n"
    }
   ],
   "source": [
    "seen = set()\n",
    "for l in clean_lines:\n",
    "    specials = (re.findall(r'\\<(.*?)\\>', l[1]))\n",
    "    for special in specials:\n",
    "        try:\n",
    "            if special[0] != '#':\n",
    "                seen.add(special)\n",
    "        except:\n",
    "            print(specials)"
   ]
  },
  {
   "cell_type": "code",
   "execution_count": 19,
   "metadata": {},
   "outputs": [
    {
     "output_type": "execute_result",
     "data": {
      "text/plain": "{' .de;ta<BckSp',\n ' 0 would mean <BckSp',\n ' 0<LShft',\n ' <BckSp',\n ' <LCtrl',\n ' = and <RShft',\n ' b.best<Down',\n ' length<BckSp',\n ' self.<LShft',\n \"'<LCtrl\",\n '-<BckSp',\n '3 <LShft',\n '3 off<LShft',\n '<#+2',\n '<<<<BckSp',\n '<BckSp',\n '<LCtrl',\n '<LShft',\n '<RShft',\n '<Right',\n '?<BckSp',\n 'AltGr',\n 'BckSp',\n 'Camera<LShft',\n 'CpsLk',\n 'Del',\n 'Down',\n 'End',\n 'Enter',\n 'Esc',\n 'F1',\n 'F11',\n 'F12',\n 'F2',\n 'F3',\n 'F4',\n 'F5',\n 'F6',\n 'Home',\n 'Ins',\n 'KP+',\n 'KP.',\n 'KP0',\n 'KP1',\n 'KP2',\n 'KP3',\n 'KP4',\n 'KPEnt',\n 'LAlt',\n 'LCtrl',\n 'LMeta',\n 'LShft',\n 'Left',\n 'Menu',\n 'NumLk',\n 'PgDn',\n 'PgUp',\n 'RCtrl',\n 'RMeta',\n 'RShft',\n 'Right',\n 'Sizt<BckSp',\n 'Stron<BckSp',\n 'T',\n 'T,<LShft',\n 'T<BckSp',\n 'T<LCtrl',\n 'Tab',\n 'Up',\n 'Widget<LShft',\n '_',\n 'char<LShft',\n 'deep-melissa-repo<LShft',\n 'int.<LShft',\n 'int<LShft',\n 'iny<BckSp',\n 'logdir<LShft',\n 'nu,<LShft',\n 'num<LShft',\n 'p<BckSp',\n 'period<LShft',\n 'spave<LShft',\n 'ty<RShft',\n 'type<BckSp',\n 'type<LShft',\n 'typename <LShft',\n 'typename quad<LShft',\n 'typename type<LShft',\n 'vec<LCtrl',\n 'yup<BckSp'}"
     },
     "metadata": {},
     "execution_count": 19
    }
   ],
   "source": [
    "seen"
   ]
  },
  {
   "cell_type": "code",
   "execution_count": 20,
   "metadata": {},
   "outputs": [],
   "source": [
    "def ensure_length(string, length, source):\n",
    "    remaining = length - len(string)\n",
    "    if remaining > 0:\n",
    "        return string + source.get(remaining)\n",
    "    else:\n",
    "        return string"
   ]
  },
  {
   "cell_type": "code",
   "execution_count": 21,
   "metadata": {},
   "outputs": [],
   "source": [
    "def streamify(source):\n",
    "    string = source.get(10)\n",
    "    processed = 0\n",
    "    i = -1\n",
    "    symbol = None\n",
    "    last_returned = None\n",
    "    while(1):\n",
    "        # symbols detected previously are stored in symbol\n",
    "        if symbol:\n",
    "            last_returned = symbol\n",
    "            yield symbol\n",
    "            symbol = None\n",
    "            continue\n",
    "        \n",
    "        i += 1\n",
    "        \n",
    "        try:\n",
    "            char = string[i]\n",
    "        except:\n",
    "            processed += len(string)\n",
    "            i = 0\n",
    "            string = source.get(10)\n",
    "            char = string[i]\n",
    "\n",
    "        if char == '<':\n",
    "            start = i\n",
    "            end = None\n",
    "            subsymstr = \"\"\n",
    "            # print(\"char < detected\")\n",
    "            string = ensure_length(string, 10+start, source)\n",
    "\n",
    "            # lookup next 10 characters:\n",
    "            \n",
    "            # hook to check for <#+k> entries that denotes repeat the previous entry k times\n",
    "            # flag = True\n",
    "            if string[start+1:start+3] == '#+':\n",
    "                # print(\"#+ detected\")\n",
    "                end_bracket_at = string[start+3:].find('>')\n",
    "                if end_bracket_at is not -1:\n",
    "                    try:\n",
    "                        repeat_times = int(string[start+3:start+3+end_bracket_at])\n",
    "                        # print(\"This needs to be repeated: \", repeat_times)\n",
    "                        # now we repeat the previously returned string that many times\n",
    "                        while repeat_times > 0:\n",
    "                            repeat_times -= 1\n",
    "                            yield last_returned\n",
    "\n",
    "                        end = start+3+end_bracket_at\n",
    "                        i = end\n",
    "                        continue\n",
    "                    except:\n",
    "                        # not a symbol denoting repeat entries\n",
    "                        pass\n",
    "            # print(\"starting symbol detection\")\n",
    "            # # this flag is false if the special symbol was a repeat k times symbol\n",
    "            # if flag:\n",
    "            for j,char in enumerate(string[start+1:]):\n",
    "                if char == '<':\n",
    "                    \n",
    "                    # this means that we have consumed till end, \n",
    "                    # here as end = start, we have consumed till start\n",
    "                    # which means that we revert the search\n",
    "                    end = start\n",
    "                    # flag = True\n",
    "                    break\n",
    "\n",
    "                elif char =='>':\n",
    "\n",
    "                    # we have detected a less than and a greater than\n",
    "                    try:\n",
    "                        symbol = enumize(subsymstr)\n",
    "                        # there were j characters in subsymstr\n",
    "                        end = j+start+1\n",
    "                    except:\n",
    "                        # symbol not found error\n",
    "                        # print(\"symbol not found error\")\n",
    "                        end = start\n",
    "\n",
    "                    # anyway we break because a greater than will never be there in a special enum\n",
    "                    # flag = True\n",
    "                    break\n",
    "\n",
    "                elif j == 9:\n",
    "                    # flag = True\n",
    "                    end = start\n",
    "                    break\n",
    "\n",
    "                else:\n",
    "                    subsymstr += char\n",
    "            # set current index to end\n",
    "            i = end\n",
    "            if symbol:\n",
    "                # the symbol will be returned on top\n",
    "                continue\n",
    "            # otherwise the current char will be returned\n",
    "            last_returned = string[i]\n",
    "            # print(\"b\",end, start, i)\n",
    "            yield string[i]\n",
    "            # after every yield we need to restart\n",
    "            continue\n",
    "        # if not <\n",
    "        # print(\"l\",i)\n",
    "        last_returned = string[i]\n",
    "        yield string[i]\n",
    "         "
   ]
  },
  {
   "cell_type": "code",
   "execution_count": 22,
   "metadata": {},
   "outputs": [],
   "source": [
    "# create a helper function that given a source streamifies it?"
   ]
  },
  {
   "cell_type": "code",
   "execution_count": 23,
   "metadata": {},
   "outputs": [],
   "source": [
    "class Source:\n",
    "    def __init__(self, strings, join_with=\"<Split>\"):\n",
    "        self.string = join_with.join(strings)\n",
    "        self.index = 0\n",
    "    def get(self,count):\n",
    "        slice = self.string[self.index:self.index+count]\n",
    "        self.index += count\n",
    "        return slice\n",
    "    def streamify(self):\n",
    "        return streamify(self)"
   ]
  },
  {
   "cell_type": "code",
   "execution_count": null,
   "metadata": {},
   "outputs": [],
   "source": []
  },
  {
   "cell_type": "code",
   "execution_count": 24,
   "metadata": {},
   "outputs": [
    {
     "output_type": "error",
     "ename": "NameError",
     "evalue": "name 'lines' is not defined",
     "traceback": [
      "\u001b[0;31m---------------------------------------------------------------------------\u001b[0m",
      "\u001b[0;31mNameError\u001b[0m                                 Traceback (most recent call last)",
      "\u001b[0;32m<ipython-input-24-657a180f9940>\u001b[0m in \u001b[0;36m<module>\u001b[0;34m\u001b[0m\n\u001b[0;32m----> 1\u001b[0;31m \u001b[0msource\u001b[0m \u001b[0;34m=\u001b[0m \u001b[0mSource\u001b[0m\u001b[0;34m(\u001b[0m\u001b[0mlines\u001b[0m\u001b[0;34m,\u001b[0m \u001b[0mjoin_with\u001b[0m\u001b[0;34m=\u001b[0m\u001b[0;34m'<Split>'\u001b[0m\u001b[0;34m)\u001b[0m\u001b[0;34m\u001b[0m\u001b[0;34m\u001b[0m\u001b[0m\n\u001b[0m",
      "\u001b[0;31mNameError\u001b[0m: name 'lines' is not defined"
     ]
    }
   ],
   "source": [
    "source = Source(lines, join_with='<Split>')"
   ]
  },
  {
   "cell_type": "code",
   "execution_count": 25,
   "metadata": {},
   "outputs": [],
   "source": [
    "dummy_source = Source(['<LAlt>','<#+3>'], join_with='<Split>')"
   ]
  },
  {
   "cell_type": "code",
   "execution_count": 66,
   "metadata": {},
   "outputs": [],
   "source": [
    "dg = dummy_source.streamify()"
   ]
  },
  {
   "cell_type": "code",
   "execution_count": 27,
   "metadata": {},
   "outputs": [],
   "source": []
  },
  {
   "cell_type": "code",
   "execution_count": 91,
   "metadata": {},
   "outputs": [],
   "source": [
    "lines = list(map(lambda x: x[1], clean_lines))"
   ]
  },
  {
   "cell_type": "code",
   "execution_count": 110,
   "metadata": {},
   "outputs": [],
   "source": [
    "lines = list(map(lambda x: x[1], clean_lines))\n",
    "source = Source(lines, join_with='<Split>')\n",
    "stream = source.streamify()"
   ]
  },
  {
   "cell_type": "code",
   "execution_count": 53,
   "metadata": {},
   "outputs": [],
   "source": [
    "generator = streamify(source)"
   ]
  },
  {
   "cell_type": "code",
   "execution_count": 62,
   "metadata": {},
   "outputs": [],
   "source": [
    "dummy_generator = streamify(dummy_source)"
   ]
  },
  {
   "cell_type": "code",
   "execution_count": 67,
   "metadata": {},
   "outputs": [
    {
     "output_type": "stream",
     "name": "stdout",
     "text": "SpecialCharacters.ALT\nSpecialCharacters.META\nSpecialCharacters.META\nSpecialCharacters.META\nSpecialCharacters.META\n"
    },
    {
     "output_type": "error",
     "ename": "IndexError",
     "evalue": "string index out of range",
     "traceback": [
      "\u001b[0;31m---------------------------------------------------------------------------\u001b[0m",
      "\u001b[0;31mIndexError\u001b[0m                                Traceback (most recent call last)",
      "\u001b[0;32m<ipython-input-49-54072fb14b10>\u001b[0m in \u001b[0;36mstreamify\u001b[0;34m(source)\u001b[0m\n\u001b[1;32m     17\u001b[0m         \u001b[0;32mtry\u001b[0m\u001b[0;34m:\u001b[0m\u001b[0;34m\u001b[0m\u001b[0;34m\u001b[0m\u001b[0m\n\u001b[0;32m---> 18\u001b[0;31m             \u001b[0mchar\u001b[0m \u001b[0;34m=\u001b[0m \u001b[0mstring\u001b[0m\u001b[0;34m[\u001b[0m\u001b[0mi\u001b[0m\u001b[0;34m]\u001b[0m\u001b[0;34m\u001b[0m\u001b[0;34m\u001b[0m\u001b[0m\n\u001b[0m\u001b[1;32m     19\u001b[0m         \u001b[0;32mexcept\u001b[0m\u001b[0;34m:\u001b[0m\u001b[0;34m\u001b[0m\u001b[0;34m\u001b[0m\u001b[0m\n",
      "\u001b[0;31mIndexError\u001b[0m: string index out of range",
      "\nDuring handling of the above exception, another exception occurred:\n",
      "\u001b[0;31mIndexError\u001b[0m                                Traceback (most recent call last)",
      "\u001b[0;32m<ipython-input-67-769376b96fe7>\u001b[0m in \u001b[0;36m<module>\u001b[0;34m\u001b[0m\n\u001b[1;32m      1\u001b[0m \u001b[0;32mwhile\u001b[0m \u001b[0;36m1\u001b[0m\u001b[0;34m:\u001b[0m\u001b[0;34m\u001b[0m\u001b[0;34m\u001b[0m\u001b[0m\n\u001b[0;32m----> 2\u001b[0;31m     \u001b[0mprint\u001b[0m\u001b[0;34m(\u001b[0m\u001b[0mnext\u001b[0m\u001b[0;34m(\u001b[0m\u001b[0mdg\u001b[0m\u001b[0;34m)\u001b[0m\u001b[0;34m)\u001b[0m\u001b[0;34m\u001b[0m\u001b[0;34m\u001b[0m\u001b[0m\n\u001b[0m",
      "\u001b[0;32m<ipython-input-49-54072fb14b10>\u001b[0m in \u001b[0;36mstreamify\u001b[0;34m(source)\u001b[0m\n\u001b[1;32m     21\u001b[0m             \u001b[0mi\u001b[0m \u001b[0;34m=\u001b[0m \u001b[0;36m0\u001b[0m\u001b[0;34m\u001b[0m\u001b[0;34m\u001b[0m\u001b[0m\n\u001b[1;32m     22\u001b[0m             \u001b[0mstring\u001b[0m \u001b[0;34m=\u001b[0m \u001b[0msource\u001b[0m\u001b[0;34m.\u001b[0m\u001b[0mget\u001b[0m\u001b[0;34m(\u001b[0m\u001b[0;36m10\u001b[0m\u001b[0;34m)\u001b[0m\u001b[0;34m\u001b[0m\u001b[0;34m\u001b[0m\u001b[0m\n\u001b[0;32m---> 23\u001b[0;31m             \u001b[0mchar\u001b[0m \u001b[0;34m=\u001b[0m \u001b[0mstring\u001b[0m\u001b[0;34m[\u001b[0m\u001b[0mi\u001b[0m\u001b[0;34m]\u001b[0m\u001b[0;34m\u001b[0m\u001b[0;34m\u001b[0m\u001b[0m\n\u001b[0m\u001b[1;32m     24\u001b[0m \u001b[0;34m\u001b[0m\u001b[0m\n\u001b[1;32m     25\u001b[0m         \u001b[0;32mif\u001b[0m \u001b[0mchar\u001b[0m \u001b[0;34m==\u001b[0m \u001b[0;34m'<'\u001b[0m\u001b[0;34m:\u001b[0m\u001b[0;34m\u001b[0m\u001b[0;34m\u001b[0m\u001b[0m\n",
      "\u001b[0;31mIndexError\u001b[0m: string index out of range"
     ]
    }
   ],
   "source": [
    "while 1:\n",
    "    print(next(dg))"
   ]
  },
  {
   "cell_type": "code",
   "execution_count": 54,
   "metadata": {
    "tags": [
     "outputPrepend",
     "outputPrepend",
     "outputPrepend",
     "outputPrepend",
     "outputPrepend",
     "outputPrepend",
     "outputPrepend",
     "outputPrepend",
     "outputPrepend",
     "outputPrepend",
     "outputPrepend",
     "outputPrepend",
     "outputPrepend",
     "outputPrepend",
     "outputPrepend",
     "outputPrepend",
     "outputPrepend",
     "outputPrepend",
     "outputPrepend",
     "outputPrepend",
     "outputPrepend",
     "outputPrepend",
     "outputPrepend",
     "outputPrepend",
     "outputPrepend",
     "outputPrepend",
     "outputPrepend",
     "outputPrepend",
     "outputPrepend",
     "outputPrepend",
     "outputPrepend",
     "outputPrepend",
     "outputPrepend",
     "outputPrepend",
     "outputPrepend",
     "outputPrepend",
     "outputPrepend",
     "outputPrepend",
     "outputPrepend",
     "outputPrepend",
     "outputPrepend",
     "outputPrepend",
     "outputPrepend",
     "outputPrepend",
     "outputPrepend",
     "outputPrepend",
     "outputPrepend",
     "outputPrepend",
     "outputPrepend",
     "outputPrepend",
     "outputPrepend",
     "outputPrepend",
     "outputPrepend",
     "outputPrepend",
     "outputPrepend",
     "outputPrepend"
    ]
   },
   "outputs": [
    {
     "output_type": "stream",
     "name": "stdout",
     "text": "ialCharacters.CTRL\na\nSpecialCharacters.BACKSPACE\nSpecialCharacters.SHIFT\n@\nt\nh\ne\n\n\nSpecialCharacters.ENTER\ni\ns\n \nSpecialCharacters.BACKSPACE\nSpecialCharacters.BACKSPACE\nSpecialCharacters.BACKSPACE\nd\ni\nd\n \nt\nh\ne\n \nSpecialCharacters.BACKSPACE\nSpecialCharacters.BACKSPACE\nSpecialCharacters.BACKSPACE\nSpecialCharacters.BACKSPACE\ny\no\nu\n \nt\nr\ny\n \nt\nh\ne\nSpecialCharacters.BACKSPACE\nSpecialCharacters.BACKSPACE\nSpecialCharacters.BACKSPACE\nSpecialCharacters.BACKSPACE\nSpecialCharacters.BACKSPACE\nSpecialCharacters.BACKSPACE\nSpecialCharacters.BACKSPACE\nSpecialCharacters.BACKSPACE\nSpecialCharacters.BACKSPACE\nSpecialCharacters.BACKSPACE\nSpecialCharacters.BACKSPACE\nSpecialCharacters.BACKSPACE\nSpecialCharacters.BACKSPACE\nSpecialCharacters.BACKSPACE\nSpecialCharacters.BACKSPACE\nSpecialCharacters.BACKSPACE\nSpecialCharacters.BACKSPACE\nSpecialCharacters.BACKSPACE\nSpecialCharacters.BACKSPACE\nSpecialCharacters.BACKSPACE\nSpecialCharacters.BACKSPACE\nSpecialCharacters.BACKSPACE\nSpecialCharacters.BACKSPACE\nSpecialCharacters.BACKSPACE\nl\ne\nt\ns\n \ng\nSpecialCharacters.BACKSPACE\nt\nr\ny\n \nt\nh\ne\n \nn\ne\nw\n \nb\nu\nc\nk\ne\nt\n \nl\ne\na\nr\ne\nn\nSpecialCharacters.BACKSPACE\nSpecialCharacters.BACKSPACE\nn\ne\nr\nSpecialCharacters.SHIFT\n!\nSpecialCharacters.CTRL\nSpecialCharacters.ARROW\nSpecialCharacters.ARROW\ni\nz\ne\nd\n\n\nSpecialCharacters.ENTER\nSpecialCharacters.SHIFT\nU\nSpecialCharacters.BACKSPACE\nSpecialCharacters.BACKSPACE\nSpecialCharacters.SHIFT\nI\nt\n \nc\no\nu\nl\nd\n \na\nl\ns\no\n \nb\ne\n \nb\ne\nc\na\nu\ns\ne\n \no\nf\n \ne\np\no\nc\nh\ns\nSpecialCharacters.CTRL\nSpecialCharacters.ARROW\nm\nu\nl\nt\ni\np\nl\ne\n \nSpecialCharacters.CTRL\nSpecialCharacters.ARROW\nSpecialCharacters.ARROW\nSpecialCharacters.ARROW\nSpecialCharacters.ARROW\nSpecialCharacters.ARROW\nSpecialCharacters.ARROW\nSpecialCharacters.ARROW\nSpecialCharacters.ARROW\nSpecialCharacters.ARROW\nSpecialCharacters.ARROW\nSpecialCharacters.ARROW\nSpecialCharacters.ARROW\nSpecialCharacters.ARROW\nSpecialCharacters.ARROW\nSpecialCharacters.ARROW\nSpecialCharacters.ARROW\nSpecialCharacters.ARROW\nSpecialCharacters.ARROW\nSpecialCharacters.ARROW\nSpecialCharacters.ARROW\nSpecialCharacters.ARROW\nSpecialCharacters.ARROW\nSpecialCharacters.ARROW\nSpecialCharacters.ARROW\nSpecialCharacters.ARROW\nSpecialCharacters.ARROW\nSpecialCharacters.ARROW\nSpecialCharacters.ARROW\nSpecialCharacters.ARROW\nSpecialCharacters.ARROW\nSpecialCharacters.ARROW\nSpecialCharacters.ARROW\nSpecialCharacters.ARROW\nSpecialCharacters.ARROW\nSpecialCharacters.ARROW\nSpecialCharacters.SHIFT\nT\nh\ne\n \ng\no\no\ng\n \nr\nSpecialCharacters.BACKSPACE\nSpecialCharacters.BACKSPACE\nSpecialCharacters.BACKSPACE\nd\n \nr\ne\ns\nu\nl\nt\ns\n \nb\ne\nf\ng\nSpecialCharacters.BACKSPACE\no\nr\ne\n \nc\no\nu\nl\nd\nSpecialCharacters.BACKSPACE\nd\n \na\nl\nSpecialCharacters.SHIFT\nSpecialCharacters.ARROW\nSpecialCharacters.ARROW\nSpecialCharacters.ARROW\nSpecialCharacters.ARROW\nSpecialCharacters.ARROW\nSpecialCharacters.ARROW\nSpecialCharacters.ARROW\nSpecialCharacters.ARROW\nSpecialCharacters.ARROW\nSpecialCharacters.ARROW\nSpecialCharacters.ARROW\nSpecialCharacters.ARROW\nSpecialCharacters.ARROW\nSpecialCharacters.ARROW\nSpecialCharacters.ARROW\nSpecialCharacters.ARROW\nSpecialCharacters.BACKSPACE\nSpecialCharacters.BACKSPACE\nSpecialCharacters.BACKSPACE\nSpecialCharacters.BACKSPACE\nSpecialCharacters.CTRL\nSpecialCharacters.ARROW\nSpecialCharacters.ARROW\nSpecialCharacters.ARROW\nSpecialCharacters.ARROW\nSpecialCharacters.ARROW\nSpecialCharacters.BACKSPACE\nSpecialCharacters.BACKSPACE\nSpecialCharacters.SHIFT\nSpecialCharacters.SHIFT\nSpecialCharacters.SHIFT\nSpecialCharacters.SHIFT\nSpecialCharacters.SHIFT\nSpecialCharacters.SHIFT\nh\na\nv\ne\n \nb\ne\ne\nn\n \nt\nh\ne\nr\nSpecialCharacters.BACKSPACE\n \nr\ne\ns\nu\nl\nt\ns\nSpecialCharacters.SHIFT\nSpecialCharacters.ARROW\nSpecialCharacters.ARROW\nSpecialCharacters.ARROW\nSpecialCharacters.ARROW\nSpecialCharacters.ARROW\nSpecialCharacters.ARROW\nSpecialCharacters.ARROW\nSpecialCharacters.ARROW\nSpecialCharacters.ARROW\nSpecialCharacters.ARROW\nSpecialCharacters.ARROW\nSpecialCharacters.ARROW\nSpecialCharacters.ARROW\nSpecialCharacters.ARROW\nSpecialCharacters.ARROW\nSpecialCharacters.ARROW\nSpecialCharacters.ARROW\nSpecialCharacters.ARROW\nSpecialCharacters.ARROW\nSpecialCharacters.ARROW\nSpecialCharacters.ARROW\nSpecialCharacters.BACKSPACE\nSpecialCharacters.BACKSPACE\nv\nt\nSpecialCharacters.BACKSPACE\nr\nt\ni\nc\ne\ns\nSpecialCharacters.ARROW\nSpecialCharacters.ARROW\nSpecialCharacters.ARROW\nSpecialCharacters.ARROW\nSpecialCharacters.ARROW\nSpecialCharacters.ARROW\no\n\n\nSpecialCharacters.ENTER\ni\nt\n \ni\ns\n \nc\ny\nc\nl\ni\nc\n \nl\ne\na\nr\nn\ni\nn\ng\n \nr\na\nt\ne\n \nw\ni\nt\nh\n \nSpecialCharacters.BACKSPACE\nSpecialCharacters.BACKSPACE\nSpecialCharacters.BACKSPACE\nSpecialCharacters.BACKSPACE\nSpecialCharacters.BACKSPACE\nSpecialCharacters.BACKSPACE\nSpecialCharacters.BACKSPACE\nSpecialCharacters.BACKSPACE\nSpecialCharacters.BACKSPACE\nSpecialCharacters.BACKSPACE\nSpecialCharacters.CTRL\nSpecialCharacters.ARROW\nSpecialCharacters.ARROW\nSpecialCharacters.ARROW\nSpecialCharacters.ARROW\na\nn\n \nu\nn\nb\ni\na\ns\ne\nd\n \nSpecialCharacters.CTRL\nSpecialCharacters.ARROW\nSpecialCharacters.ARROW\nSpecialCharacters.ARROW\nSpecialCharacters.CTRL\nSpecialCharacters.ARROW\nSpecialCharacters.BACKSPACE\nSpecialCharacters.BACKSPACE\n\n\nSpecialCharacters.ENTER\nh\no\nw\ne\nv\nSpecialCharacters.BACKSPACE\nSpecialCharacters.BACKSPACE\nSpecialCharacters.BACKSPACE\nSpecialCharacters.BACKSPACE\nSpecialCharacters.BACKSPACE\nSpecialCharacters.BACKSPACE\nSpecialCharacters.BACKSPACE\nSpecialCharacters.BACKSPACE\nSpecialCharacters.BACKSPACE\nSpecialCharacters.BACKSPACE\nSpecialCharacters.BACKSPACE\nSpecialCharacters.BACKSPACE\nSpecialCharacters.BACKSPACE\nSpecialCharacters.BACKSPACE\nSpecialCharacters.BACKSPACE\nSpecialCharacters.BACKSPACE\nSpecialCharacters.BACKSPACE\nSpecialCharacters.BACKSPACE\nSpecialCharacters.BACKSPACE\nb\nu\nt\n \nw\nt\nSpecialCharacters.BACKSPACE\ni\nt\nh\n \nm\no\nr\ne\n \np\nq\na\nSpecialCharacters.BACKSPACE\nSpecialCharacters.BACKSPACE\na\nr\na\nm\ne\nt\ne\nr\ns\n,\n \nt\nh\ne\n \nn\nm\nSpecialCharacters.BACKSPACE\nu\nm\nb\ne\nr\n \nf\no\n \ne\nSpecialCharacters.BACKSPACE\nSpecialCharacters.BACKSPACE\nSpecialCharacters.BACKSPACE\nSpecialCharacters.BACKSPACE\no\nf\n \ne\np\no\nc\nh\ns\n \nw\ni\nl\nl\n \nd\ne\nc\ne\nr\nSpecialCharacters.BACKSPACE\nSpecialCharacters.BACKSPACE\nr\ne\na\ns\ne\nSpecialCharacters.SHIFT\n?\nSpecialCharacters.BACKSPACE\nw\nSpecialCharacters.BACKSPACE\n\n\nSpecialCharacters.ENTER\nt\nh\na\nt\n \nc\no\nu\nl\nd\n \nb\ne\n \na\n \nf\na\nc\nt\no\nr\n\n\nSpecialCharacters.ENTER\nw\nh\na\nt\nSpecialCharacters.BACKSPACE\nSpecialCharacters.BACKSPACE\nSpecialCharacters.BACKSPACE\nSpecialCharacters.BACKSPACE\nSpecialCharacters.BACKSPACE\nSpecialCharacters.BACKSPACE\nSpecialCharacters.BACKSPACE\nSpecialCharacters.BACKSPACE\nSpecialCharacters.BACKSPACE\nSpecialCharacters.BACKSPACE\nSpecialCharacters.BACKSPACE\nSpecialCharacters.BACKSPACE\nSpecialCharacters.BACKSPACE\nSpecialCharacters.BACKSPACE\nSpecialCharacters.BACKSPACE\nh\no\nw\n \nm\na\nn\ny\n \ne\np\no\nc\nh\ns\n \na\nr\ne\n \nw\ne\n \nf\no\ni\nSpecialCharacters.BACKSPACE\nSpecialCharacters.BACKSPACE\nSpecialCharacters.BACKSPACE\nd\no\ni\nn\ng\n \nr\ni\ng\nh\nt\n \nn\nw\nSpecialCharacters.BACKSPACE\no\nw\nSpecialCharacters.SHIFT\n?\n\n\nSpecialCharacters.ENTER\no\nh\n \nSpecialCharacters.SHIFT\nI\n \nt\nSpecialCharacters.BACKSPACE\nSpecialCharacters.BACKSPACE\nSpecialCharacters.BACKSPACE\nSpecialCharacters.BACKSPACE\nSpecialCharacters.BACKSPACE\nSpecialCharacters.BACKSPACE\nSpecialCharacters.BACKSPACE\ne\nSpecialCharacters.BACKSPACE\nSpecialCharacters.BACKSPACE\nSpecialCharacters.BACKSPACE\nSpecialCharacters.BACKSPACE\nSpecialCharacters.BACKSPACE\nSpecialCharacters.BACKSPACE\nSpecialCharacters.BACKSPACE\nSpecialCharacters.BACKSPACE\nSpecialCharacters.BACKSPACE\nSpecialCharacters.BACKSPACE\nSpecialCharacters.BACKSPACE\nSpecialCharacters.BACKSPACE\nSpecialCharacters.BACKSPACE\nSpecialCharacters.BACKSPACE\nSpecialCharacters.BACKSPACE\nSpecialCharacters.BACKSPACE\nSpecialCharacters.BACKSPACE\nSpecialCharacters.BACKSPACE\nSpecialCharacters.BACKSPACE\nSpecialCharacters.BACKSPACE\nSpecialCharacters.BACKSPACE\nSpecialCharacters.BACKSPACE\nSpecialCharacters.BACKSPACE\nSpecialCharacters.BACKSPACE\nSpecialCharacters.BACKSPACE\nSpecialCharacters.BACKSPACE\nSpecialCharacters.BACKSPACE\nSpecialCharacters.BACKSPACE\nSpecialCharacters.BACKSPACE\nSpecialCharacters.BACKSPACE\nSpecialCharacters.BACKSPACE\nSpecialCharacters.BACKSPACE\nSpecialCharacters.BACKSPACE\nSpecialCharacters.BACKSPACE\nSpecialCharacters.BACKSPACE\nSpecialCharacters.BACKSPACE\nSpecialCharacters.BACKSPACE\nSpecialCharacters.BACKSPACE\nSpecialCharacters.BACKSPACE\nSpecialCharacters.BACKSPACE\nSpecialCharacters.BACKSPACE\nSpecialCharacters.BACKSPACE\nSpecialCharacters.BACKSPACE\nSpecialCharacters.BACKSPACE\nSpecialCharacters.BACKSPACE\nSpecialCharacters.BACKSPACE\nSpecialCharacters.BACKSPACE\nSpecialCharacters.BACKSPACE\nSpecialCharacters.BACKSPACE\nSpecialCharacters.BACKSPACE\nSpecialCharacters.BACKSPACE\nSpecialCharacters.BACKSPACE\nSpecialCharacters.BACKSPACE\nSpecialCharacters.BACKSPACE\nSpecialCharacters.BACKSPACE\nSpecialCharacters.BACKSPACE\nSpecialCharacters.BACKSPACE\nSpecialCharacters.BACKSPACE\nSpecialCharacters.BACKSPACE\nSpecialCharacters.BACKSPACE\nSpecialCharacters.BACKSPACE\nSpecialCharacters.BACKSPACE\nSpecialCharacters.BACKSPACE\nSpecialCharacters.BACKSPACE\nSpecialCharacters.BACKSPACE\nSpecialCharacters.BACKSPACE\nSpecialCharacters.BACKSPACE\nSpecialCharacters.BACKSPACE\nSpecialCharacters.BACKSPACE\nSpecialCharacters.BACKSPACE\nSpecialCharacters.BACKSPACE\nSpecialCharacters.BACKSPACE\nSpecialCharacters.BACKSPACE\nSpecialCharacters.BACKSPACE\nSpecialCharacters.BACKSPACE\nSpecialCharacters.BACKSPACE\nSpecialCharacters.BACKSPACE\nSpecialCharacters.BACKSPACE\nSpecialCharacters.BACKSPACE\nSpecialCharacters.BACKSPACE\nSpecialCharacters.BACKSPACE\nSpecialCharacters.BACKSPACE\nSpecialCharacters.BACKSPACE\nSpecialCharacters.BACKSPACE\nSpecialCharacters.BACKSPACE\nSpecialCharacters.BACKSPACE\nSpecialCharacters.BACKSPACE\nSpecialCharacters.BACKSPACE\nSpecialCharacters.BACKSPACE\nSpecialCharacters.BACKSPACE\nSpecialCharacters.BACKSPACE\nSpecialCharacters.BACKSPACE\nSpecialCharacters.BACKSPACE\nSpecialCharacters.BACKSPACE\nSpecialCharacters.BACKSPACE\nSpecialCharacters.BACKSPACE\nSpecialCharacters.BACKSPACE\nSpecialCharacters.BACKSPACE\nSpecialCharacters.BACKSPACE\nSpecialCharacters.BACKSPACE\nSpecialCharacters.BACKSPACE\nSpecialCharacters.BACKSPACE\nSpecialCharacters.BACKSPACE\nSpecialCharacters.BACKSPACE\nSpecialCharacters.BACKSPACE\nSpecialCharacters.BACKSPACE\nSpecialCharacters.BACKSPACE\nSpecialCharacters.BACKSPACE\nSpecialCharacters.BACKSPACE\nSpecialCharacters.BACKSPACE\nSpecialCharacters.BACKSPACE\nSpecialCharacters.BACKSPACE\nSpecialCharacters.BACKSPACE\nSpecialCharacters.BACKSPACE\nSpecialCharacters.BACKSPACE\nSpecialCharacters.BACKSPACE\nSpecialCharacters.BACKSPACE\nSpecialCharacters.BACKSPACE\nSpecialCharacters.BACKSPACE\nSpecialCharacters.BACKSPACE\nSpecialCharacters.BACKSPACE\nSpecialCharacters.BACKSPACE\nSpecialCharacters.BACKSPACE\nSpecialCharacters.BACKSPACE\nSpecialCharacters.BACKSPACE\nSpecialCharacters.BACKSPACE\nSpecialCharacters.BACKSPACE\nSpecialCharacters.BACKSPACE\nSpecialCharacters.BACKSPACE\nSpecialCharacters.BACKSPACE\nSpecialCharacters.BACKSPACE\nSpecialCharacters.BACKSPACE\nSpecialCharacters.BACKSPACE\nSpecialCharacters.BACKSPACE\nSpecialCharacters.BACKSPACE\nSpecialCharacters.BACKSPACE\nSpecialCharacters.BACKSPACE\nSpecialCharacters.BACKSPACE\nSpecialCharacters.BACKSPACE\nSpecialCharacters.BACKSPACE\nSpecialCharacters.BACKSPACE\nSpecialCharacters.BACKSPACE\nSpecialCharacters.BACKSPACE\nSpecialCharacters.BACKSPACE\nSpecialCharacters.BACKSPACE\nSpecialCharacters.BACKSPACE\nSpecialCharacters.BACKSPACE\nSpecialCharacters.BACKSPACE\nSpecialCharacters.BACKSPACE\na\nr\ne\n \ny\no\nu\n \ns\nu\nr\ne\n \nSpecialCharacters.CTRL\na\nSpecialCharacters.BACKSPACE\nd\ni\nd\n \nt\nh\ne\n \nt\nr\na\ni\nn\ni\nn\ng\n \nt\ni\nm\ne\n \nn\nSpecialCharacters.BACKSPACE\ni\nn\nc\nr\ne\na\ns\ne\n \ni\nn\n \n6\n0\n \nl\na\ny\ne\nr\ns\nSpecialCharacters.SHIFT\n?\n\n\nSpecialCharacters.ENTER\nt\nh\ne\nr\ne\n \nc\no\nu\nl\nd\n \nb\ne\n \na\n \nb\nu\ng\n \ni\nn\n \nSpecialCharacters.BACKSPACE\nSpecialCharacters.BACKSPACE\nSpecialCharacters.BACKSPACE\nSpecialCharacters.BACKSPACE\nSpecialCharacters.BACKSPACE\nSpecialCharacters.BACKSPACE\nSpecialCharacters.BACKSPACE\nSpecialCharacters.BACKSPACE\nSpecialCharacters.BACKSPACE\nSpecialCharacters.BACKSPACE\nSpecialCharacters.BACKSPACE\nSpecialCharacters.BACKSPACE\nSpecialCharacters.BACKSPACE\nSpecialCharacters.BACKSPACE\nSpecialCharacters.BACKSPACE\nSpecialCharacters.BACKSPACE\nSpecialCharacters.BACKSPACE\nSpecialCharacters.BACKSPACE\nSpecialCharacters.BACKSPACE\nSpecialCharacters.BACKSPACE\nSpecialCharacters.BACKSPACE\nSpecialCharacters.BACKSPACE\nSpecialCharacters.BACKSPACE\nSpecialCharacters.BACKSPACE\nSpecialCharacters.BACKSPACE\nSpecialCharacters.BACKSPACE\nSpecialCharacters.BACKSPACE\nSpecialCharacters.BACKSPACE\nSpecialCharacters.BACKSPACE\nSpecialCharacters.BACKSPACE\nSpecialCharacters.BACKSPACE\nSpecialCharacters.BACKSPACE\nSpecialCharacters.BACKSPACE\nSpecialCharacters.BACKSPACE\nSpecialCharacters.BACKSPACE\nSpecialCharacters.BACKSPACE\nSpecialCharacters.BACKSPACE\nSpecialCharacters.BACKSPACE\nSpecialCharacters.BACKSPACE\nSpecialCharacters.BACKSPACE\nSpecialCharacters.BACKSPACE\nSpecialCharacters.BACKSPACE\nSpecialCharacters.BACKSPACE\nSpecialCharacters.BACKSPACE\nSpecialCharacters.BACKSPACE\nSpecialCharacters.BACKSPACE\ni\nt\ns\n \np\no\ns\ns\ni\nb\nl\ne\n \nt\nh\na\nt\n \ni\nSpecialCharacters.BACKSPACE\nw\ne\n \nd\ni\nd\nn\nt\n \nh\na\nv\ne\n \n6\n0\n,\n \nt\nh\ne\nr\ne\n \nc\no\nu\nl\nd\n \nh\na\nb\ne\n \nn\nSpecialCharacters.BACKSPACE\nSpecialCharacters.BACKSPACE\nSpecialCharacters.BACKSPACE\nSpecialCharacters.BACKSPACE\nv\ne\n \nb\ne\ne\nn\n \na\n \nb\nu\ng\n \ns\no\nm\ne\nw\nh\ne\nr\ne\nSpecialCharacters.CTRL\nSpecialCharacters.ARROW\nSpecialCharacters.ARROW\nSpecialCharacters.ARROW\nSpecialCharacters.ARROW\nSpecialCharacters.ARROW\nSpecialCharacters.ARROW\nSpecialCharacters.ARROW\nSpecialCharacters.ARROW\nSpecialCharacters.ARROW\nSpecialCharacters.ARROW\nSpecialCharacters.ARROW\nSpecialCharacters.ARROW\nSpecialCharacters.ARROW\nSpecialCharacters.ARROW\nSpecialCharacters.ARROW\nSpecialCharacters.ARROW\nSpecialCharacters.ARROW\nSpecialCharacters.ARROW\nSpecialCharacters.ARROW\nSpecialCharacters.ARROW\nSpecialCharacters.ARROW\nSpecialCharacters.ARROW\nSpecialCharacters.ARROW\nSpecialCharacters.ARROW\nSpecialCharacters.ARROW\nSpecialCharacters.ARROW\nSpecialCharacters.ARROW\nSpecialCharacters.ARROW\nSpecialCharacters.ARROW\nSpecialCharacters.ARROW\nSpecialCharacters.ARROW\nSpecialCharacters.ARROW\nSpecialCharacters.ARROW\nSpecialCharacters.ARROW\nSpecialCharacters.ARROW\nSpecialCharacters.ARROW\nSpecialCharacters.ARROW\nSpecialCharacters.ARROW\nSpecialCharacters.ARROW\nSpecialCharacters.ARROW\nSpecialCharacters.ARROW\nSpecialCharacters.ARROW\nSpecialCharacters.ARROW\nSpecialCharacters.ARROW\nSpecialCharacters.ARROW\nSpecialCharacters.ARROW\nSpecialCharacters.ARROW\nSpecialCharacters.ARROW\nSpecialCharacters.ARROW\nSpecialCharacters.ARROW\nSpecialCharacters.ARROW\nSpecialCharacters.ARROW\nSpecialCharacters.ARROW\nSpecialCharacters.ARROW\nSpecialCharacters.ARROW\nSpecialCharacters.SHIFT\nI\n \na\nm\n \na\ns\nk\ni\nn\ng\n \nb\ne\nc\na\nu\ns\ne\n \n\n\nSpecialCharacters.ENTER\nSpecialCharacters.SHIFT\nI\n \nj\nu\ns\nt\n \nw\no\nk\ne\n \nu\np\n \na\nn\nd\n \ns\na\nw\n \nt\nh\ne\n \ns\nl\na\nc\nk\n \nt\nh\nr\ne\na\nd\n \nw\ni\nt\nh\n \nm\ne\ns\ns\na\ng\ne\nd\nSpecialCharacters.BACKSPACE\ns\n,\n \ns\no\n \nc\nh\ni\np\np\ne\nd\n \ni\nn\n.\nSpecialCharacters.BACKSPACE\n \nSpecialCharacters.SHIFT\n:\ns\nw\ne\na\n\n\nSpecialCharacters.ENTER\nSpecialCharacters.SHIFT\n\n\nSpecialCharacters.ENTER\n\n\nSpecialCharacters.ENTER\nw\nSpecialCharacters.BACKSPACE\ng\no\ni\nn\ng\n \nt\no\n \ng\no\n \nd\no\nSpecialCharacters.BACKSPACE\nSpecialCharacters.BACKSPACE\nf\no\nr\n \na\n \nr\nu\nn\n \nSpecialCharacters.BACKSPACE\nSpecialCharacters.BACKSPACE\nSpecialCharacters.BACKSPACE\nSpecialCharacters.BACKSPACE\nSpecialCharacters.BACKSPACE\nSpecialCharacters.BACKSPACE\nSpecialCharacters.BACKSPACE\nSpecialCharacters.BACKSPACE\nSpecialCharacters.BACKSPACE\nSpecialCharacters.BACKSPACE\nSpecialCharacters.BACKSPACE\nSpecialCharacters.BACKSPACE\nSpecialCharacters.BACKSPACE\nSpecialCharacters.BACKSPACE\nSpecialCharacters.BACKSPACE\nSpecialCharacters.BACKSPACE\nSpecialCharacters.BACKSPACE\nSpecialCharacters.BACKSPACE\nSpecialCharacters.BACKSPACE\nSpecialCharacters.BACKSPACE\nSpecialCharacters.BACKSPACE\nSpecialCharacters.BACKSPACE\nSpecialCharacters.BACKSPACE\nSpecialCharacters.BACKSPACE\nSpecialCharacters.BACKSPACE\nSpecialCharacters.BACKSPACE\nSpecialCharacters.BACKSPACE\nSpecialCharacters.BACKSPACE\nSpecialCharacters.BACKSPACE\nSpecialCharacters.BACKSPACE\nSpecialCharacters.BACKSPACE\nSpecialCharacters.BACKSPACE\nSpecialCharacters.BACKSPACE\nSpecialCharacters.SHIFT\nT\nh\nSpecialCharacters.BACKSPACE\nSpecialCharacters.BACKSPACE\nSpecialCharacters.BACKSPACE\nSpecialCharacters.BACKSPACE\nSpecialCharacters.BACKSPACE\nSpecialCharacters.BACKSPACE\nSpecialCharacters.SHIFT\n:\n)\n\n\nSpecialCharacters.ENTER\nSpecialCharacters.SHIFT\nY\ne\na\nh\n \ni\nt\ns\n \nSpecialCharacters.SHIFT\n&\nSpecialCharacters.BACKSPACE\n7\nSpecialCharacters.SHIFT\n:\n1\n5\n\n\nSpecialCharacters.ENTER\nt\nh\na\nt\nSpecialCharacters.BACKSPACE\nSpecialCharacters.BACKSPACE\ne\nn\n \nw\ne\n \nc\no\nu\nl\nd\n \nh\na\nv\ne\n \na\nn\n \ne\nr\nr\no\nr\n \ns\nd\nSpecialCharacters.BACKSPACE\nSpecialCharacters.BACKSPACE\ns\no\nm\ne\nh\nSpecialCharacters.BACKSPACE\nw\nh\ne\nr\ne\n.\nSpecialCharacters.BACKSPACE\nSpecialCharacters.CTRL\na\nSpecialCharacters.BACKSPACE\na\nSpecialCharacters.BACKSPACE\nSpecialCharacters.SHIFT\nI\n \nc\na\nn\n \nl\no\nk\nSpecialCharacters.BACKSPACE\no\nk\n \na\nt\n \ni\nSpecialCharacters.BACKSPACE\nt\nSpecialCharacters.BACKSPACE\ni\nt\n \nw\ni\nt\nh\n \ny\no\nu\n,\n \ng\no\ni\nn\nSpecialCharacters.BACKSPACE\nSpecialCharacters.BACKSPACE\nSpecialCharacters.BACKSPACE\nSpecialCharacters.BACKSPACE\nh\no\nw\n \na\nb\no\nu\nt\n \ni\nn\n \n4\n5\n \nm\ni\nn\ns\nSpecialCharacters.SHIFT\n?\n \nSpecialCharacters.CTRL\na\nx\nSpecialCharacters.CTRL\nv\n\n\nSpecialCharacters.ENTER\no\nr\n \ni\nf\n \nt\nh\na\nt\ns\n \nl\na\nt\ne\n,\n \nw\nSpecialCharacters.BACKSPACE\ny\no\nu\n \nc\no\nu\nl\nd\n \nt\nr\ny\n \nt\nh\ne\n \nn\ne\nw\n \nb\nu\nc\nk\ne\nt\n \nl\ne\na\nr\nn\ne\nr\n\n\nSpecialCharacters.ENTER\na\nn\nd\n \nt\nh\ne\nn\n \nw\nSpecialCharacters.BACKSPACE\nw\nSpecialCharacters.BACKSPACE\nSpecialCharacters.SHIFT\nI\n \ng\no\n \nSpecialCharacters.BACKSPACE\nSpecialCharacters.BACKSPACE\nSpecialCharacters.BACKSPACE\nc\no\nu\nl\nd\n \ng\no\n \nt\nh\nr\no\nu\n=\nSpecialCharacters.CTRL\na\nSpecialCharacters.BACKSPACE\ny\ne\nSpecialCharacters.BACKSPACE\nSpecialCharacters.BACKSPACE\nSpecialCharacters.BACKSPACE\nt\nh\na\nt\n \nw\no\nSpecialCharacters.BACKSPACE\no\nu\nl\nd\n \nb\ne\n \nt\nh\ne\n \nd\ne\ne\np\n \nm\ne\nl\ni\nd\ns\nSpecialCharacters.BACKSPACE\nSpecialCharacters.BACKSPACE\ns\na\ns\nSpecialCharacters.BACKSPACE\nSpecialCharacters.BACKSPACE\ns\na\n \nw\nh\ni\nc\nh\n \nSpecialCharacters.SHIFT\nI\n \ni\nn\ns\nt\na\nl\nl\ne\ne\nd\nm\n=\nSpecialCharacters.BACKSPACE\nSpecialCharacters.BACKSPACE\n,\n \nSpecialCharacters.SHIFT\nI\n \nw\no\nu\nSpecialCharacters.BACKSPACE\nSpecialCharacters.BACKSPACE\nSpecialCharacters.BACKSPACE\nSpecialCharacters.BACKSPACE\nSpecialCharacters.BACKSPACE\na\n \nl\no\nt\n \nh\na\ns\n \nc\nh\na\nn\ng\ne\nd\n \nSpecialCharacters.SHIFT\n(\na\ns\n \nSpecialCharacters.SHIFT\nI\n \nc\nh\na\nn\ng\ne\nd\n \nSpecialCharacters.SHIFT\nSpecialCharacters.SHIFT\nSpecialCharacters.SHIFT\nSpecialCharacters.SHIFT\ng\nt\ni\nSpecialCharacters.BACKSPACE\nSpecialCharacters.BACKSPACE\ni\nt\n \nh\ni\ns\nt\no\nr\ny\nSpecialCharacters.SHIFT\n)\nSpecialCharacters.SHIFT\n\n\nSpecialCharacters.ENTER\n\n\nSpecialCharacters.ENTER\nSpecialCharacters.BACKSPACE\n \ns\ni\nn\nc\ne\n \nt\nh\ne\nn\n\n\nSpecialCharacters.ENTER\ne\nSpecialCharacters.BACKSPACE\nSpecialCharacters.BACKSPACE\nSpecialCharacters.SHIFT\n \nSpecialCharacters.BACKSPACE\nSpecialCharacters.SHIFT\nY\ne\na\nh\n,\nSpecialCharacters.CTRL\na\nSpecialCharacters.SHIFT\n@\nb\nr\nu\nn\no\n \nb\nu\ni\nSpecialCharacters.BACKSPACE\nu\nSpecialCharacters.BACKSPACE\nt\n \nt\nSpecialCharacters.BACKSPACE\ny\ne\na\nh\n \nf\no\nr\n \na\n \nf\nr\ne\nn\nSpecialCharacters.BACKSPACE\ns\nh\n \ni\nn\ns\nt\na\nl\nl\na\nl\nt\no\nSpecialCharacters.BACKSPACE\nSpecialCharacters.BACKSPACE\ni\no\nn\n \nSpecialCharacters.BACKSPACE\nSpecialCharacters.BACKSPACE\nSpecialCharacters.BACKSPACE\nSpecialCharacters.BACKSPACE\nSpecialCharacters.BACKSPACE\nSpecialCharacters.BACKSPACE\nSpecialCharacters.BACKSPACE\nSpecialCharacters.BACKSPACE\nSpecialCharacters.BACKSPACE\nSpecialCharacters.BACKSPACE\nSpecialCharacters.BACKSPACE\nSpecialCharacters.BACKSPACE\na\nt\ni\no\nn\n,\n \ng\ni\nt\n \nc\nl\no\nn\ne\n \n-\n-\nr\ne\nc\nu\nr\ns\ni\nv\ne\nSpecialCharacters.CTRL\nSpecialCharacters.CTRL\nSpecialCharacters.ARROW\nSpecialCharacters.ARROW\nSpecialCharacters.ARROW\nSpecialCharacters.ARROW\n \nr\ne\nm\no\nv\ne\n \nt\nh\ne\n \nw\nh\no\nl\ne\n \nd\ni\nr\ne\nc\nt\no\nr\ny\n \na\nn\nd\nSpecialCharacters.ARROW\n`\n`\n`\nSpecialCharacters.CTRL\nSpecialCharacters.ARROW\nSpecialCharacters.ARROW\nSpecialCharacters.ARROW\nSpecialCharacters.ARROW\nSpecialCharacters.ARROW\nSpecialCharacters.ARROW\n \nSpecialCharacters.SHIFT\n"
    },
    {
     "output_type": "error",
     "ename": "TypeError",
     "evalue": "string indices must be integers",
     "traceback": [
      "\u001b[0;31m---------------------------------------------------------------------------\u001b[0m",
      "\u001b[0;31mTypeError\u001b[0m                                 Traceback (most recent call last)",
      "\u001b[0;32m<ipython-input-54-0fe1d64e9351>\u001b[0m in \u001b[0;36m<module>\u001b[0;34m\u001b[0m\n\u001b[1;32m      1\u001b[0m \u001b[0;32mwhile\u001b[0m \u001b[0;36m1\u001b[0m\u001b[0;34m:\u001b[0m\u001b[0;34m\u001b[0m\u001b[0;34m\u001b[0m\u001b[0m\n\u001b[0;32m----> 2\u001b[0;31m     \u001b[0mprint\u001b[0m\u001b[0;34m(\u001b[0m\u001b[0mnext\u001b[0m\u001b[0;34m(\u001b[0m\u001b[0mgenerator\u001b[0m\u001b[0;34m)\u001b[0m\u001b[0;34m)\u001b[0m\u001b[0;34m\u001b[0m\u001b[0;34m\u001b[0m\u001b[0m\n\u001b[0m",
      "\u001b[0;32m<ipython-input-49-54072fb14b10>\u001b[0m in \u001b[0;36mstreamify\u001b[0;34m(source)\u001b[0m\n\u001b[1;32m     94\u001b[0m                 \u001b[0;32mcontinue\u001b[0m\u001b[0;34m\u001b[0m\u001b[0;34m\u001b[0m\u001b[0m\n\u001b[1;32m     95\u001b[0m             \u001b[0;31m# otherwise the current char will be returned\u001b[0m\u001b[0;34m\u001b[0m\u001b[0;34m\u001b[0m\u001b[0;34m\u001b[0m\u001b[0m\n\u001b[0;32m---> 96\u001b[0;31m             \u001b[0mlast_returned\u001b[0m \u001b[0;34m=\u001b[0m \u001b[0mstring\u001b[0m\u001b[0;34m[\u001b[0m\u001b[0mi\u001b[0m\u001b[0;34m]\u001b[0m\u001b[0;34m\u001b[0m\u001b[0;34m\u001b[0m\u001b[0m\n\u001b[0m\u001b[1;32m     97\u001b[0m             \u001b[0;31m# print(\"b\",end, start, i)\u001b[0m\u001b[0;34m\u001b[0m\u001b[0;34m\u001b[0m\u001b[0;34m\u001b[0m\u001b[0m\n\u001b[1;32m     98\u001b[0m             \u001b[0;32myield\u001b[0m \u001b[0mstring\u001b[0m\u001b[0;34m[\u001b[0m\u001b[0mi\u001b[0m\u001b[0;34m]\u001b[0m\u001b[0;34m\u001b[0m\u001b[0;34m\u001b[0m\u001b[0m\n",
      "\u001b[0;31mTypeError\u001b[0m: string indices must be integers"
     ]
    }
   ],
   "source": [
    "while 1:\n",
    "    print(next(generator))"
   ]
  },
  {
   "cell_type": "code",
   "execution_count": 28,
   "metadata": {},
   "outputs": [],
   "source": [
    "def enumize(string):\n",
    "    d = {\n",
    "        'AltGr': SpecialCharacters.ALT,\n",
    "        'BckSp': SpecialCharacters.BACKSPACE,\n",
    "        'CpsLk': SpecialCharacters.IGNORE,\n",
    "        'Del': SpecialCharacters.DELETE,\n",
    "        'Down': SpecialCharacters.ARROW,\n",
    "        'Enter': SpecialCharacters.ENTER,\n",
    "        'Esc': SpecialCharacters.ESC,\n",
    "        'F12': SpecialCharacters.FUNC,\n",
    "        'F4': SpecialCharacters.FUNC,\n",
    "        'Ins': SpecialCharacters.INS,\n",
    "        'KP0': SpecialCharacters.KEYPAD,\n",
    "        'KP1': SpecialCharacters.KEYPAD,\n",
    "        'KP2': SpecialCharacters.KEYPAD,\n",
    "        'KP3': SpecialCharacters.KEYPAD,\n",
    "        'KP4': SpecialCharacters.KEYPAD,\n",
    "        'KP5': SpecialCharacters.KEYPAD,\n",
    "        'KP6': SpecialCharacters.KEYPAD,\n",
    "        'KP7': SpecialCharacters.KEYPAD,\n",
    "        'KP8': SpecialCharacters.KEYPAD,\n",
    "        'KP9': SpecialCharacters.KEYPAD,\n",
    "        'KPEnt': SpecialCharacters.KEYPAD,\n",
    "        'LAlt': SpecialCharacters.ALT,\n",
    "        'RAlt': SpecialCharacters.ALT,\n",
    "        'LCtrl': SpecialCharacters.CTRL,\n",
    "        'LMeta': SpecialCharacters.OS,\n",
    "        'RMeta': SpecialCharacters.OS,\n",
    "        'LShft': SpecialCharacters.SHIFT,\n",
    "        'Left': SpecialCharacters.ARROW,\n",
    "        'Menu': SpecialCharacters.MENU,\n",
    "        'NumLk': SpecialCharacters.IGNORE,\n",
    "        'PgUp': SpecialCharacters.PGUP,\n",
    "        'RCtrl': SpecialCharacters.CTRL,\n",
    "        'RShft': SpecialCharacters.SHIFT,\n",
    "        'Right': SpecialCharacters.ARROW,\n",
    "        'Tab': SpecialCharacters.TAB,\n",
    "        'Up': SpecialCharacters.ARROW,\n",
    "        'Split': SpecialCharacters.META\n",
    "    }\n",
    "    return d[string]"
   ]
  },
  {
   "cell_type": "code",
   "execution_count": 29,
   "metadata": {},
   "outputs": [
    {
     "output_type": "execute_result",
     "data": {
      "text/plain": "<SpecialCharacters.SHIFT: 3>"
     },
     "metadata": {},
     "execution_count": 29
    }
   ],
   "source": [
    "enumize(\"LShft\")"
   ]
  },
  {
   "cell_type": "code",
   "execution_count": 68,
   "metadata": {},
   "outputs": [],
   "source": [
    "# take a stream and start performing operations on it"
   ]
  },
  {
   "cell_type": "code",
   "execution_count": 30,
   "metadata": {},
   "outputs": [],
   "source": [
    "import rx\n",
    "from rx import operators as ops\n"
   ]
  },
  {
   "cell_type": "code",
   "execution_count": 31,
   "metadata": {},
   "outputs": [
    {
     "output_type": "error",
     "ename": "NameError",
     "evalue": "name 'lines' is not defined",
     "traceback": [
      "\u001b[0;31m---------------------------------------------------------------------------\u001b[0m",
      "\u001b[0;31mNameError\u001b[0m                                 Traceback (most recent call last)",
      "\u001b[0;32m<ipython-input-31-b01d08561d88>\u001b[0m in \u001b[0;36m<module>\u001b[0;34m\u001b[0m\n\u001b[0;32m----> 1\u001b[0;31m \u001b[0msource\u001b[0m \u001b[0;34m=\u001b[0m \u001b[0mrx\u001b[0m\u001b[0;34m.\u001b[0m\u001b[0mof\u001b[0m\u001b[0;34m(\u001b[0m\u001b[0mSource\u001b[0m\u001b[0;34m(\u001b[0m\u001b[0mlines\u001b[0m\u001b[0;34m)\u001b[0m\u001b[0;34m.\u001b[0m\u001b[0mstreamify\u001b[0m\u001b[0;34m(\u001b[0m\u001b[0;34m)\u001b[0m\u001b[0;34m)\u001b[0m\u001b[0;34m\u001b[0m\u001b[0;34m\u001b[0m\u001b[0m\n\u001b[0m",
      "\u001b[0;31mNameError\u001b[0m: name 'lines' is not defined"
     ]
    }
   ],
   "source": [
    "source = rx.of(Source(lines).streamify())"
   ]
  },
  {
   "cell_type": "code",
   "execution_count": 85,
   "metadata": {},
   "outputs": [
    {
     "output_type": "error",
     "ename": "SyntaxError",
     "evalue": "invalid syntax (<ipython-input-85-acbea3984ea9>, line 5)",
     "traceback": [
      "\u001b[0;36m  File \u001b[0;32m\"<ipython-input-85-acbea3984ea9>\"\u001b[0;36m, line \u001b[0;32m5\u001b[0m\n\u001b[0;31m    )\u001b[0m\n\u001b[0m    ^\u001b[0m\n\u001b[0;31mSyntaxError\u001b[0m\u001b[0;31m:\u001b[0m invalid syntax\n"
     ]
    }
   ],
   "source": [
    "composed = source.pipe(\n",
    "    ops.map(lambda s: len(s)),\n",
    "    ops.filter(lambda i: i >= 5),\n",
    "    ops.\n",
    ")"
   ]
  },
  {
   "cell_type": "code",
   "execution_count": null,
   "metadata": {},
   "outputs": [],
   "source": [
    "# these are the symbols that denote a reset\n",
    "# "
   ]
  },
  {
   "cell_type": "code",
   "execution_count": 36,
   "metadata": {},
   "outputs": [],
   "source": [
    "\n",
    "# TODO reset buffer lengths?\n",
    "def return_corrected_pairs(stream):\n",
    "    index = -1\n",
    "    previously = None\n",
    "    # flag set when we are allowed to compare and send letters\n",
    "    is_checking = 0\n",
    "    reset = True\n",
    "    # need to initialise with at least one character to prevent errors by one\n",
    "    while(1):\n",
    "        \n",
    "        if index == -1 or reset:\n",
    "\n",
    "            index = 1\n",
    "            previously = [None]\n",
    "            is_checking = 0\n",
    "            reset = False\n",
    "\n",
    "            while(1):\n",
    "                current_element = next(stream)\n",
    "                previously[0] = current_element\n",
    "                if type(current_element) is not SpecialCharacters:\n",
    "                    break\n",
    "            # print(\"reset with starting element: \", previously[0])\n",
    "            continue    \n",
    "       \n",
    "\n",
    "        # the index holds the position with the previous entry + 1\n",
    "\n",
    "        current_element = next(stream)\n",
    "        # print(\"the current element is: \", current_element)\n",
    "\n",
    "        if current_element == SpecialCharacters.BACKSPACE:\n",
    "            is_checking += 1\n",
    "            index -= 1\n",
    "            # print(\"backspace found, index reduced to: \", index)\n",
    "            continue\n",
    "        \n",
    "        if type(current_element) is SpecialCharacters:\n",
    "            # print(\"resetting.. \")\n",
    "            reset = True\n",
    "            continue\n",
    "        \n",
    "        # else: is character\n",
    "        if is_checking:\n",
    "            # print(\"yielding a corrected pair: \")\n",
    "            yield (previously[index], current_element)\n",
    "            previously[index] = current_element\n",
    "            index += 1\n",
    "            is_checking -= 1\n",
    "            # print(\"replacing value at: \", index-1)\n",
    "            continue\n",
    "        \n",
    "        # if not checking\n",
    "        previously.append(current_element)\n",
    "        index += 1\n",
    "        # print(\"appending value at: \", index-1)\n",
    "        continue\n",
    "\n",
    "           "
   ]
  },
  {
   "cell_type": "code",
   "execution_count": 34,
   "metadata": {},
   "outputs": [
    {
     "output_type": "execute_result",
     "data": {
      "text/plain": "True"
     },
     "metadata": {},
     "execution_count": 34
    }
   ],
   "source": [
    "type(SpecialCharacters.BACKSPACE) == SpecialCharacters"
   ]
  },
  {
   "cell_type": "code",
   "execution_count": 63,
   "metadata": {},
   "outputs": [
    {
     "output_type": "stream",
     "name": "stdout",
     "text": "Test Successful\n"
    }
   ],
   "source": [
    "# this test helped fix the bug of reporting a correction when that correction was later deleted as there was a typo in the correction\n",
    "test_typo_fix_stream = return_corrected_pairs_v2(\n",
    "                        Source(\n",
    "                            ['qweryt<BckSp><BckSp>tt<BckSp>y_fill_with_ten_letters']\n",
    "                        ).streamify())\n",
    "\n",
    "try:\n",
    "    assert next(test_typo_fix_stream)==('y','t')\n",
    "    assert next(test_typo_fix_stream)==('t','y')\n",
    "    print(\"Test Successful\")\n",
    "except IndexError:\n",
    "    print(\"Test Successful\")\n",
    "except AssertionError:\n",
    "    print(\"Test Failed\")"
   ]
  },
  {
   "cell_type": "code",
   "execution_count": 70,
   "metadata": {},
   "outputs": [
    {
     "output_type": "stream",
     "name": "stdout",
     "text": "Test Successful\n"
    }
   ],
   "source": [
    "test_typo_fix_stream_2 = return_corrected_pairs_v2(\n",
    "                        Source(\n",
    "                            ['qweryt<BckSp><BckSp><BckSp>tt<BckSp>ry<BckSp><BckSp><BckSp><BckSp>eryt<BckSp><BckSp>ty_fill_with_buffer_letters']\n",
    "                        ).streamify())\n",
    "\n",
    "# illustration of this example\n",
    "# q   w   e   r   y   t\n",
    "# q   w   e  -r- -y- -t-\n",
    "# q   w   e   t   t \n",
    "# q   w   e   t  -t-\n",
    "# q   w   e   t   r   y\n",
    "# q   w   e   t   r   y\n",
    "# q   w  -e- -t- -r- -y-\n",
    "# q   w   e   r   y   t\n",
    "# q   w   e   r  -y- -t-\n",
    "# q   w   e   r   t   y\n",
    "\n",
    "# as a correction is basically, final letter in that position vs the previous letter before that final letter\n",
    "# so clearly the corrections are as follows:\n",
    "# column1: N/A\n",
    "# column2: N/A\n",
    "# column3: (e,e)\n",
    "# column4: (t,r)\n",
    "# column5: (y,t)\n",
    "# column6: (t,y)\n",
    "\n",
    "\n",
    "\n",
    "\n",
    "# column1: N/A\n",
    "# column2: N/A\n",
    "# column3: (e,e)\n",
    "# column4: (t,r)\n",
    "# column5: (y,t)\n",
    "# column6: (t,y)\n",
    "try:\n",
    "    assert next(test_typo_fix_stream)==('e','e')\n",
    "    assert next(test_typo_fix_stream)==('t','r')\n",
    "    assert next(test_typo_fix_stream)==('y','t')\n",
    "    assert next(test_typo_fix_stream)==('t','y')\n",
    "    print(\"Test Successful\")\n",
    "except IndexError:\n",
    "    print(\"Test Successful\")\n",
    "except AssertionError:\n",
    "    print(\"Test Failed\")"
   ]
  },
  {
   "cell_type": "code",
   "execution_count": 71,
   "metadata": {},
   "outputs": [],
   "source": [
    "lines = list(map(lambda x: x[1], clean_lines))\n",
    "source = Source(lines, join_with='<Split>')\n",
    "stream = source.streamify()\n",
    "stream_tuple = return_corrected_pairs_v2(stream)"
   ]
  },
  {
   "cell_type": "code",
   "execution_count": 72,
   "metadata": {},
   "outputs": [],
   "source": [
    "incorrect_tuple_frequency = dict()"
   ]
  },
  {
   "cell_type": "code",
   "execution_count": 91,
   "metadata": {},
   "outputs": [],
   "source": [
    "steps = 1000"
   ]
  },
  {
   "cell_type": "code",
   "execution_count": 92,
   "metadata": {
    "tags": [
     "outputPrepend",
     "outputPrepend",
     "outputPrepend",
     "outputPrepend",
     "outputPrepend",
     "outputPrepend",
     "outputPrepend",
     "outputPrepend",
     "outputPrepend",
     "outputPrepend",
     "outputPrepend",
     "outputPrepend",
     "outputPrepend",
     "outputPrepend",
     "outputPrepend",
     "outputPrepend",
     "outputPrepend",
     "outputPrepend",
     "outputPrepend",
     "outputPrepend",
     "outputPrepend",
     "outputPrepend",
     "outputPrepend",
     "outputPrepend",
     "outputPrepend",
     "outputPrepend",
     "outputPrepend",
     "outputPrepend",
     "outputPrepend",
     "outputPrepend",
     "outputPrepend",
     "outputPrepend",
     "outputPrepend",
     "outputPrepend",
     "outputPrepend",
     "outputPrepend",
     "outputPrepend",
     "outputPrepend",
     "outputPrepend",
     "outputPrepend",
     "outputPrepend",
     "outputPrepend",
     "outputPrepend",
     "outputPrepend",
     "outputPrepend",
     "outputPrepend",
     "outputPrepend",
     "outputPrepend",
     "outputPrepend",
     "outputPrepend",
     "outputPrepend",
     "outputPrepend",
     "outputPrepend",
     "outputPrepend",
     "outputPrepend",
     "outputPrepend",
     "outputPrepend",
     "outputPrepend",
     "outputPrepend",
     "outputPrepend",
     "outputPrepend",
     "outputPrepend",
     "outputPrepend",
     "outputPrepend",
     "outputPrepend",
     "outputPrepend",
     "outputPrepend",
     "outputPrepend",
     "outputPrepend",
     "outputPrepend",
     "outputPrepend",
     "outputPrepend",
     "outputPrepend",
     "outputPrepend",
     "outputPrepend",
     "outputPrepend",
     "outputPrepend",
     "outputPrepend",
     "outputPrepend",
     "outputPrepend",
     "outputPrepend",
     "outputPrepend",
     "outputPrepend",
     "outputPrepend",
     "outputPrepend",
     "outputPrepend",
     "outputPrepend",
     "outputPrepend",
     "outputPrepend",
     "outputPrepend",
     "outputPrepend",
     "outputPrepend",
     "outputPrepend",
     "outputPrepend",
     "outputPrepend",
     "outputPrepend",
     "outputPrepend",
     "outputPrepend",
     "outputPrepend",
     "outputPrepend"
    ]
   },
   "outputs": [
    {
     "output_type": "error",
     "ename": "TypeError",
     "evalue": "string indices must be integers",
     "traceback": [
      "\u001b[0;31m---------------------------------------------------------------------------\u001b[0m",
      "\u001b[0;31mTypeError\u001b[0m                                 Traceback (most recent call last)",
      "\u001b[0;32m<ipython-input-92-5adb0486a7ad>\u001b[0m in \u001b[0;36m<module>\u001b[0;34m\u001b[0m\n\u001b[1;32m      1\u001b[0m \u001b[0;32mwhile\u001b[0m \u001b[0msteps\u001b[0m\u001b[0;34m>\u001b[0m\u001b[0;36m0\u001b[0m\u001b[0;34m:\u001b[0m\u001b[0;34m\u001b[0m\u001b[0;34m\u001b[0m\u001b[0m\n\u001b[1;32m      2\u001b[0m     \u001b[0msteps\u001b[0m \u001b[0;34m-=\u001b[0m \u001b[0;36m1\u001b[0m\u001b[0;34m\u001b[0m\u001b[0;34m\u001b[0m\u001b[0m\n\u001b[0;32m----> 3\u001b[0;31m     \u001b[0mt\u001b[0m \u001b[0;34m=\u001b[0m \u001b[0mnext\u001b[0m\u001b[0;34m(\u001b[0m\u001b[0mstream_tuple\u001b[0m\u001b[0;34m)\u001b[0m\u001b[0;34m\u001b[0m\u001b[0;34m\u001b[0m\u001b[0m\n\u001b[0m\u001b[1;32m      4\u001b[0m     \u001b[0;32mif\u001b[0m\u001b[0;34m(\u001b[0m\u001b[0mt\u001b[0m\u001b[0;34m[\u001b[0m\u001b[0;36m0\u001b[0m\u001b[0;34m]\u001b[0m \u001b[0;34m!=\u001b[0m \u001b[0mt\u001b[0m\u001b[0;34m[\u001b[0m\u001b[0;36m1\u001b[0m\u001b[0;34m]\u001b[0m\u001b[0;34m)\u001b[0m\u001b[0;34m:\u001b[0m\u001b[0;34m\u001b[0m\u001b[0;34m\u001b[0m\u001b[0m\n\u001b[1;32m      5\u001b[0m         \u001b[0mincorrect_tuple_frequency\u001b[0m\u001b[0;34m[\u001b[0m\u001b[0mt\u001b[0m\u001b[0;34m]\u001b[0m \u001b[0;34m=\u001b[0m \u001b[0mincorrect_tuple_frequency\u001b[0m\u001b[0;34m.\u001b[0m\u001b[0mget\u001b[0m\u001b[0;34m(\u001b[0m\u001b[0mt\u001b[0m\u001b[0;34m,\u001b[0m \u001b[0;36m0\u001b[0m\u001b[0;34m)\u001b[0m \u001b[0;34m+\u001b[0m \u001b[0;36m1\u001b[0m\u001b[0;34m\u001b[0m\u001b[0;34m\u001b[0m\u001b[0m\n",
      "\u001b[0;32m<ipython-input-57-6cecdf728ebe>\u001b[0m in \u001b[0;36mreturn_corrected_pairs_v2\u001b[0;34m(stream)\u001b[0m\n\u001b[1;32m     32\u001b[0m             \u001b[0;31m# potential_corrections = []\u001b[0m\u001b[0;34m\u001b[0m\u001b[0;34m\u001b[0m\u001b[0;34m\u001b[0m\u001b[0m\n\u001b[1;32m     33\u001b[0m             \u001b[0;32mwhile\u001b[0m\u001b[0;34m(\u001b[0m\u001b[0;36m1\u001b[0m\u001b[0;34m)\u001b[0m\u001b[0;34m:\u001b[0m\u001b[0;34m\u001b[0m\u001b[0;34m\u001b[0m\u001b[0m\n\u001b[0;32m---> 34\u001b[0;31m                 \u001b[0mcurrent_element\u001b[0m \u001b[0;34m=\u001b[0m \u001b[0mnext\u001b[0m\u001b[0;34m(\u001b[0m\u001b[0mstream\u001b[0m\u001b[0;34m)\u001b[0m\u001b[0;34m\u001b[0m\u001b[0;34m\u001b[0m\u001b[0m\n\u001b[0m\u001b[1;32m     35\u001b[0m                 \u001b[0mpreviously\u001b[0m\u001b[0;34m[\u001b[0m\u001b[0;36m0\u001b[0m\u001b[0;34m]\u001b[0m \u001b[0;34m=\u001b[0m \u001b[0mcurrent_element\u001b[0m\u001b[0;34m\u001b[0m\u001b[0;34m\u001b[0m\u001b[0m\n\u001b[1;32m     36\u001b[0m                 \u001b[0;32mif\u001b[0m \u001b[0mtype\u001b[0m\u001b[0;34m(\u001b[0m\u001b[0mcurrent_element\u001b[0m\u001b[0;34m)\u001b[0m \u001b[0;32mis\u001b[0m \u001b[0;32mnot\u001b[0m \u001b[0mSpecialCharacters\u001b[0m\u001b[0;34m:\u001b[0m\u001b[0;34m\u001b[0m\u001b[0;34m\u001b[0m\u001b[0m\n",
      "\u001b[0;32m<ipython-input-21-54072fb14b10>\u001b[0m in \u001b[0;36mstreamify\u001b[0;34m(source)\u001b[0m\n\u001b[1;32m     94\u001b[0m                 \u001b[0;32mcontinue\u001b[0m\u001b[0;34m\u001b[0m\u001b[0;34m\u001b[0m\u001b[0m\n\u001b[1;32m     95\u001b[0m             \u001b[0;31m# otherwise the current char will be returned\u001b[0m\u001b[0;34m\u001b[0m\u001b[0;34m\u001b[0m\u001b[0;34m\u001b[0m\u001b[0m\n\u001b[0;32m---> 96\u001b[0;31m             \u001b[0mlast_returned\u001b[0m \u001b[0;34m=\u001b[0m \u001b[0mstring\u001b[0m\u001b[0;34m[\u001b[0m\u001b[0mi\u001b[0m\u001b[0;34m]\u001b[0m\u001b[0;34m\u001b[0m\u001b[0;34m\u001b[0m\u001b[0m\n\u001b[0m\u001b[1;32m     97\u001b[0m             \u001b[0;31m# print(\"b\",end, start, i)\u001b[0m\u001b[0;34m\u001b[0m\u001b[0;34m\u001b[0m\u001b[0;34m\u001b[0m\u001b[0m\n\u001b[1;32m     98\u001b[0m             \u001b[0;32myield\u001b[0m \u001b[0mstring\u001b[0m\u001b[0;34m[\u001b[0m\u001b[0mi\u001b[0m\u001b[0;34m]\u001b[0m\u001b[0;34m\u001b[0m\u001b[0;34m\u001b[0m\u001b[0m\n",
      "\u001b[0;31mTypeError\u001b[0m: string indices must be integers"
     ]
    }
   ],
   "source": [
    "while steps>0:\n",
    "    steps -= 1\n",
    "    t = next(stream_tuple)\n",
    "    if(t[0] != t[1]):\n",
    "        incorrect_tuple_frequency[t] = incorrect_tuple_frequency.get(t, 0) + 1"
   ]
  },
  {
   "cell_type": "code",
   "execution_count": 93,
   "metadata": {},
   "outputs": [],
   "source": [
    "finger_with_letters = {\n",
    "    0:{'q','a','z'}, \n",
    "    1:{'w','s','x'}, \n",
    "    2:{'e','d','c'}, \n",
    "    3:{'r','f','v', 't', 'g','b'}, \n",
    "    4:{'u','j','m', 'y','h','n'}, \n",
    "    5:{'i','k',','}, \n",
    "    6:{'o','l','.'}, \n",
    "    7:{'p',';','/'},\n",
    "    }"
   ]
  },
  {
   "cell_type": "code",
   "execution_count": 94,
   "metadata": {},
   "outputs": [],
   "source": [
    "letter_to_finger = dict()\n",
    "for k, v in finger_with_letters.items():\n",
    "    for letter in v:\n",
    "        letter_to_finger[letter] = k"
   ]
  },
  {
   "cell_type": "code",
   "execution_count": 95,
   "metadata": {},
   "outputs": [],
   "source": [
    "def distance(l1, l2):\n",
    "    try:\n",
    "        return abs(letter_to_finger[l1] - letter_to_finger[l2])\n",
    "    except:\n",
    "        return -1"
   ]
  },
  {
   "cell_type": "code",
   "execution_count": 96,
   "metadata": {},
   "outputs": [
    {
     "output_type": "execute_result",
     "data": {
      "text/plain": "3"
     },
     "metadata": {},
     "execution_count": 96
    }
   ],
   "source": [
    "distance('f','a')"
   ]
  },
  {
   "cell_type": "code",
   "execution_count": 57,
   "metadata": {},
   "outputs": [],
   "source": [
    "\n",
    "# TODO reset buffer lengths?\n",
    "def return_corrected_pairs_v2(stream):\n",
    "    index = -1\n",
    "    previously = None\n",
    "    # flag set when we are allowed to compare and send letters\n",
    "    is_checking = 0\n",
    "    reset = True\n",
    "    # this stores the detected corrections\n",
    "    # they are potential because we might correct a correction thus nullifying the previous correction\n",
    "\n",
    "    # this could also be (better) thought of as an N-back recorder\n",
    "    potential_corrections = []\n",
    "    # this is the safety buffer after which we can assume that there will be no more corrections on corrections\n",
    "    # this safety buffer will apply on is_checking, so safety_buffer letters after is_checking becomes false\n",
    "    safety_buffer = 10\n",
    "    # need to initialise with at least one character to prevent errors by one\n",
    "    while(1):\n",
    "        \n",
    "        if len(potential_corrections) >= safety_buffer:\n",
    "            # the potential corrections store tuple if its a correction or the character if its just a letter history\n",
    "            if type(potential_corrections[0]) == type(('dummy','tuple')):\n",
    "                yield potential_corrections[0]\n",
    "            del(potential_corrections[0])\n",
    "            continue\n",
    "\n",
    "        if index == -1 or reset:\n",
    "\n",
    "            index = 1\n",
    "            previously = [None]\n",
    "            is_checking = 0\n",
    "            reset = False\n",
    "            # potential_corrections = []\n",
    "            while(1):\n",
    "                current_element = next(stream)\n",
    "                previously[0] = current_element\n",
    "                if type(current_element) is not SpecialCharacters:\n",
    "                    break\n",
    "            # print(\"reset with starting element: \", previously[0])\n",
    "            continue    \n",
    "       \n",
    "\n",
    "        # the index holds the position with the previous entry + 1\n",
    "\n",
    "        current_element = next(stream)\n",
    "        # print(\"the current element is: \", current_element)\n",
    "\n",
    "        if current_element == SpecialCharacters.BACKSPACE:\n",
    "            is_checking += 1\n",
    "            index -= 1\n",
    "            # print(\"backspace found, index reduced to: \", index)\n",
    "            if(len(potential_corrections)>0):\n",
    "                del(potential_corrections[-1])\n",
    "            continue\n",
    "        \n",
    "        if type(current_element) is SpecialCharacters:\n",
    "            # print(\"resetting.. \")\n",
    "            reset = True\n",
    "            continue\n",
    "        \n",
    "        # else: is character\n",
    "        if is_checking:\n",
    "            # print(\"yielding a corrected pair: \")\n",
    "\n",
    "            # the current element may be later deleted in lieu of an unforeseen backspace\n",
    "            # we need to wait for validation and this is slightly tricky\n",
    "\n",
    "            # adding to potential_corrections instead\n",
    "            potential_corrections.append((previously[index], current_element))\n",
    "            previously[index] = current_element\n",
    "            index += 1\n",
    "            is_checking -= 1\n",
    "            # print(\"replacing value at: \", index-1)\n",
    "            continue\n",
    "        \n",
    "        # if not checking\n",
    "        previously.append(current_element)\n",
    "        if(len(potential_corrections)>0):\n",
    "            potential_corrections.append(current_element)\n",
    "        index += 1\n",
    "        # print(\"appending value at: \", index-1)\n",
    "        continue\n",
    "\n",
    "           "
   ]
  },
  {
   "cell_type": "code",
   "execution_count": 177,
   "metadata": {},
   "outputs": [
    {
     "output_type": "error",
     "ename": "SyntaxError",
     "evalue": "invalid syntax (<ipython-input-177-023958f5ef95>, line 14)",
     "traceback": [
      "\u001b[0;36m  File \u001b[0;32m\"<ipython-input-177-023958f5ef95>\"\u001b[0;36m, line \u001b[0;32m14\u001b[0m\n\u001b[0;31m    def\u001b[0m\n\u001b[0m       ^\u001b[0m\n\u001b[0;31mSyntaxError\u001b[0m\u001b[0;31m:\u001b[0m invalid syntax\n"
     ]
    }
   ],
   "source": [
    "class KeyboardLayout:\n",
    "\n",
    "    # class members\n",
    "    # the fingers are denoted in a tupular fashion\n",
    "    # (left|right hand, finger)\n",
    "    # 0: left, 1: right, 0 -- little, 1 -- ring, 2 -- \n",
    "\n",
    "    # maybe not, first we try with a number for each of the 8 fingers\n",
    "    # 0: left pinky\n",
    "    # 3: left index\n",
    "    # 4: right index\n",
    "    # 7: right pinky\n",
    "\n",
    "    def"
   ]
  },
  {
   "cell_type": "code",
   "execution_count": 179,
   "metadata": {},
   "outputs": [
    {
     "output_type": "execute_result",
     "data": {
      "text/plain": "(('h', 'a'), 23)"
     },
     "metadata": {},
     "execution_count": 179
    }
   ],
   "source": [
    "list(incorrect_tuple_frequency.items())[0]"
   ]
  },
  {
   "cell_type": "code",
   "execution_count": 183,
   "metadata": {},
   "outputs": [
    {
     "output_type": "error",
     "ename": "TypeError",
     "evalue": "<lambda>() takes 0 positional arguments but 1 was given",
     "traceback": [
      "\u001b[0;31m---------------------------------------------------------------------------\u001b[0m",
      "\u001b[0;31mTypeError\u001b[0m                                 Traceback (most recent call last)",
      "\u001b[0;32m<ipython-input-183-65e927d4a581>\u001b[0m in \u001b[0;36m<module>\u001b[0;34m\u001b[0m\n\u001b[1;32m      1\u001b[0m \u001b[0mincorrect_tuple_frequency_list\u001b[0m \u001b[0;34m=\u001b[0m  \u001b[0mlist\u001b[0m\u001b[0;34m(\u001b[0m\u001b[0mincorrect_tuple_frequency\u001b[0m\u001b[0;34m.\u001b[0m\u001b[0mitems\u001b[0m\u001b[0;34m(\u001b[0m\u001b[0;34m)\u001b[0m\u001b[0;34m)\u001b[0m\u001b[0;34m\u001b[0m\u001b[0;34m\u001b[0m\u001b[0m\n\u001b[1;32m      2\u001b[0m \u001b[0mfiltered_list\u001b[0m \u001b[0;34m=\u001b[0m \u001b[0mfilter\u001b[0m\u001b[0;34m(\u001b[0m\u001b[0;32mlambda\u001b[0m\u001b[0;34m:\u001b[0m \u001b[0mdistance\u001b[0m\u001b[0;34m(\u001b[0m\u001b[0mx\u001b[0m\u001b[0;34m[\u001b[0m\u001b[0;36m0\u001b[0m\u001b[0;34m]\u001b[0m\u001b[0;34m[\u001b[0m\u001b[0;36m0\u001b[0m\u001b[0;34m]\u001b[0m\u001b[0;34m,\u001b[0m \u001b[0mx\u001b[0m\u001b[0;34m[\u001b[0m\u001b[0;36m0\u001b[0m\u001b[0;34m]\u001b[0m\u001b[0;34m[\u001b[0m\u001b[0;36m1\u001b[0m\u001b[0;34m]\u001b[0m\u001b[0;34m)\u001b[0m \u001b[0;32min\u001b[0m \u001b[0;34m[\u001b[0m\u001b[0;36m0\u001b[0m\u001b[0;34m,\u001b[0m\u001b[0;36m1\u001b[0m\u001b[0;34m,\u001b[0m\u001b[0;36m2\u001b[0m\u001b[0;34m]\u001b[0m\u001b[0;34m,\u001b[0m \u001b[0mincorrect_tuple_frequency_list\u001b[0m\u001b[0;34m)\u001b[0m\u001b[0;34m\u001b[0m\u001b[0;34m\u001b[0m\u001b[0m\n\u001b[0;32m----> 3\u001b[0;31m \u001b[0msorted_list\u001b[0m \u001b[0;34m=\u001b[0m \u001b[0msorted\u001b[0m\u001b[0;34m(\u001b[0m\u001b[0mfiltered_list\u001b[0m\u001b[0;34m,\u001b[0m \u001b[0mkey\u001b[0m\u001b[0;34m=\u001b[0m\u001b[0;32mlambda\u001b[0m \u001b[0mx\u001b[0m\u001b[0;34m:\u001b[0m \u001b[0mx\u001b[0m\u001b[0;34m[\u001b[0m\u001b[0;36m1\u001b[0m\u001b[0;34m]\u001b[0m\u001b[0;34m,\u001b[0m \u001b[0mreverse\u001b[0m\u001b[0;34m=\u001b[0m\u001b[0;32mTrue\u001b[0m\u001b[0;34m)\u001b[0m\u001b[0;34m\u001b[0m\u001b[0;34m\u001b[0m\u001b[0m\n\u001b[0m",
      "\u001b[0;31mTypeError\u001b[0m: <lambda>() takes 0 positional arguments but 1 was given"
     ]
    }
   ],
   "source": []
  },
  {
   "cell_type": "code",
   "execution_count": 97,
   "metadata": {},
   "outputs": [],
   "source": [
    "incorrect_tuple_frequency_symmetric = dict()\n",
    "for l1,l2 in incorrect_tuple_frequency:\n",
    "    if (l2, l1) in incorrect_tuple_frequency_symmetric:\n",
    "        incorrect_tuple_frequency_symmetric[(l2,l1)] += incorrect_tuple_frequency[(l1,l2)]\n",
    "    else:\n",
    "        incorrect_tuple_frequency_symmetric[(l1,l2)] = incorrect_tuple_frequency[(l1,l2)]\n",
    "\n",
    "incorrect_tuple_frequency_list =  list(incorrect_tuple_frequency_symmetric.items())\n"
   ]
  },
  {
   "cell_type": "code",
   "execution_count": 98,
   "metadata": {},
   "outputs": [],
   "source": [
    "filtered_list = list(filter(lambda x: distance(x[0][0], x[0][1]) in {0,1}, incorrect_tuple_frequency_list))\n",
    "sorted_list = sorted(filtered_list, key=lambda x: x[1], reverse=True)\n"
   ]
  },
  {
   "cell_type": "code",
   "execution_count": 99,
   "metadata": {},
   "outputs": [
    {
     "output_type": "execute_result",
     "data": {
      "text/plain": "[(('o', 'i'), 131),\n (('e', 'r'), 123),\n (('r', 't'), 108),\n (('i', 'u'), 95),\n (('t', 'e'), 88),\n (('i', 'n'), 87),\n (('h', 't'), 74),\n (('d', 'f'), 72),\n (('s', 'e'), 71),\n (('s', 'a'), 68),\n (('s', 'd'), 66),\n (('p', 'o'), 63),\n (('t', 'n'), 54),\n (('f', 'g'), 51),\n (('k', 'l'), 50),\n (('c', 'v'), 49),\n (('g', 'n'), 48),\n (('e', 'd'), 47),\n (('u', 'y'), 44),\n (('i', 'l'), 39),\n (('w', 'e'), 38),\n (('t', 'y'), 37),\n (('e', 'c'), 33),\n (('.', '/'), 31),\n (('n', 'b'), 29),\n (('e', 'b'), 27),\n (('l', 'o'), 27),\n (('u', 't'), 27),\n (('u', 'n'), 25),\n (('m', 'n'), 25),\n (('r', 'u'), 24),\n (('d', 't'), 23),\n (('i', 'h'), 22),\n (('r', 'n'), 22),\n (('j', 'h'), 22),\n (('w', 'a'), 21),\n (('s', 'c'), 21),\n (('b', 'v'), 21),\n (('c', 't'), 20),\n (('m', 'i'), 20),\n (('c', 'x'), 19),\n ((';', 'l'), 18),\n (('e', 'v'), 18),\n (('p', 'l'), 18),\n (('f', 'e'), 18),\n (('g', 'r'), 18),\n ((',', '.'), 17),\n (('g', 'e'), 16),\n (('d', 'r'), 16),\n (('w', 's'), 15),\n (('g', 't'), 14),\n (('m', ','), 14),\n (('n', 'h'), 13),\n (('c', 'd'), 13),\n (('i', 'y'), 12),\n (('t', 'm'), 12),\n (('n', 'k'), 12),\n (('g', 'h'), 12),\n (('k', 'i'), 11),\n (('r', 'h'), 11),\n (('j', 'k'), 11),\n (('c', 'w'), 10),\n (('b', 'm'), 10),\n (('g', 'c'), 9),\n (('u', 'm'), 9),\n (('f', 'r'), 9),\n (('w', 'd'), 8),\n (('f', 'h'), 8),\n (('r', 'm'), 8),\n (('b', 't'), 8),\n (('g', 'u'), 7),\n (('q', 'a'), 7),\n (('b', 'd'), 7),\n (('u', 'j'), 7),\n (('f', 't'), 7),\n (('c', 'r'), 7),\n (('f', 'b'), 7),\n (('y', 'r'), 7),\n (('o', 'k'), 6),\n (('b', 'g'), 6),\n (('h', 'm'), 6),\n (('d', 'g'), 6),\n (('u', 'h'), 6),\n (('n', 'y'), 5),\n (('m', 'y'), 5),\n (('u', 'b'), 5),\n (('u', 'f'), 5),\n (('c', 'f'), 5),\n (('b', 'c'), 4),\n (('g', 'j'), 4),\n (('f', 'n'), 4),\n (('r', 'v'), 4),\n (('j', 'n'), 4),\n (('m', 'v'), 4),\n (('f', 'm'), 4),\n (('m', 'k'), 4),\n (('y', 'h'), 4),\n (('b', 'y'), 4),\n (('b', 'r'), 3),\n (('v', 'f'), 3),\n (('l', '.'), 3),\n (('v', 't'), 3),\n (('g', 'm'), 3),\n (('h', 'k'), 3),\n (('k', 'u'), 3),\n (('n', 'v'), 3),\n (('v', 'h'), 3),\n (('j', 'b'), 2),\n (('v', 'g'), 2),\n (('s', 'z'), 2),\n (('h', ','), 2),\n (('x', 'a'), 2),\n (('.', 'i'), 2),\n (('d', 'x'), 2),\n (('b', 'h'), 2),\n (('z', 'x'), 2),\n (('s', 'x'), 2),\n (('u', 'v'), 2),\n (('r', 'j'), 2),\n (('s', 'q'), 2),\n (('f', 'y'), 2),\n (('.', 'o'), 2),\n (('x', 'e'), 1),\n (('g', 'y'), 1),\n (('n', ','), 1),\n (('t', 'j'), 1),\n (('j', 'y'), 1),\n (('x', 'w'), 1),\n (('w', 'q'), 1),\n (('i', 'j'), 1),\n (('i', ','), 1),\n (('m', 'j'), 1),\n (('.', 'k'), 1),\n (('d', 'v'), 1),\n (('l', '/'), 1),\n ((',', 'o'), 1),\n ((';', 'o'), 1),\n (('l', ','), 1)]"
     },
     "metadata": {},
     "execution_count": 99
    }
   ],
   "source": [
    "sorted_list"
   ]
  },
  {
   "cell_type": "code",
   "execution_count": 189,
   "metadata": {},
   "outputs": [
    {
     "output_type": "execute_result",
     "data": {
      "text/plain": "[2]"
     },
     "metadata": {},
     "execution_count": 189
    }
   ],
   "source": [
    "a = [1,2,3]\n",
    "list(filter(lambda x: x%2 is 0, a))"
   ]
  },
  {
   "cell_type": "code",
   "execution_count": null,
   "metadata": {},
   "outputs": [],
   "source": []
  }
 ],
 "metadata": {
  "language_info": {
   "name": "python",
   "codemirror_mode": {
    "name": "ipython",
    "version": 3
   },
   "version": "3.6.9-final"
  },
  "orig_nbformat": 2,
  "file_extension": ".py",
  "mimetype": "text/x-python",
  "name": "python",
  "npconvert_exporter": "python",
  "pygments_lexer": "ipython3",
  "version": 3,
  "kernelspec": {
   "name": "python36964bitkeyboardvenv652e8eb5eb1b4b62a57f39412fdf8da4",
   "display_name": "Python 3.6.9 64-bit ('keyboard': venv)"
  }
 },
 "nbformat": 4,
 "nbformat_minor": 2
}